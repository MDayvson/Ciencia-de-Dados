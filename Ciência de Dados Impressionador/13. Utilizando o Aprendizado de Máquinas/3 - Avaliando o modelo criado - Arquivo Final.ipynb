{
 "cells": [
  {
   "cell_type": "markdown",
   "id": "f28a448b",
   "metadata": {},
   "source": [
    "# Avaliando o modelo criado"
   ]
  },
  {
   "cell_type": "markdown",
   "id": "c14222a6",
   "metadata": {},
   "source": [
    "### Criando o modelo\n",
    "- Nas últimas aulas, criamos o modelo abaixo"
   ]
  },
  {
   "cell_type": "code",
   "execution_count": 220,
   "id": "41d5216d",
   "metadata": {},
   "outputs": [],
   "source": [
    "# Importando o pandas e a base\n",
    "import pandas as pd\n",
    "base = pd.read_excel(\"BaseInadimplencia.xlsx\",sheet_name='treino')\n",
    "teste = pd.read_excel(\"BaseInadimplencia.xlsx\",sheet_name='teste')"
   ]
  },
  {
   "cell_type": "code",
   "execution_count": 221,
   "id": "ca78bf52",
   "metadata": {},
   "outputs": [
    {
     "data": {
      "text/html": [
       "<div>\n",
       "<style scoped>\n",
       "    .dataframe tbody tr th:only-of-type {\n",
       "        vertical-align: middle;\n",
       "    }\n",
       "\n",
       "    .dataframe tbody tr th {\n",
       "        vertical-align: top;\n",
       "    }\n",
       "\n",
       "    .dataframe thead th {\n",
       "        text-align: right;\n",
       "    }\n",
       "</style>\n",
       "<table border=\"1\" class=\"dataframe\">\n",
       "  <thead>\n",
       "    <tr style=\"text-align: right;\">\n",
       "      <th></th>\n",
       "      <th>SaldoConta</th>\n",
       "      <th>SaldoInvestimento</th>\n",
       "      <th>Situacao</th>\n",
       "    </tr>\n",
       "  </thead>\n",
       "  <tbody>\n",
       "    <tr>\n",
       "      <th>0</th>\n",
       "      <td>-1.365390</td>\n",
       "      <td>-3.280278</td>\n",
       "      <td>0</td>\n",
       "    </tr>\n",
       "    <tr>\n",
       "      <th>1</th>\n",
       "      <td>-3.910816</td>\n",
       "      <td>-0.874096</td>\n",
       "      <td>0</td>\n",
       "    </tr>\n",
       "    <tr>\n",
       "      <th>2</th>\n",
       "      <td>-2.745822</td>\n",
       "      <td>-2.250098</td>\n",
       "      <td>0</td>\n",
       "    </tr>\n",
       "    <tr>\n",
       "      <th>3</th>\n",
       "      <td>-1.352205</td>\n",
       "      <td>-1.280924</td>\n",
       "      <td>0</td>\n",
       "    </tr>\n",
       "    <tr>\n",
       "      <th>4</th>\n",
       "      <td>-0.596639</td>\n",
       "      <td>-2.932358</td>\n",
       "      <td>0</td>\n",
       "    </tr>\n",
       "  </tbody>\n",
       "</table>\n",
       "</div>"
      ],
      "text/plain": [
       "   SaldoConta  SaldoInvestimento  Situacao\n",
       "0   -1.365390          -3.280278         0\n",
       "1   -3.910816          -0.874096         0\n",
       "2   -2.745822          -2.250098         0\n",
       "3   -1.352205          -1.280924         0\n",
       "4   -0.596639          -2.932358         0"
      ]
     },
     "execution_count": 221,
     "metadata": {},
     "output_type": "execute_result"
    }
   ],
   "source": [
    "base.head()"
   ]
  },
  {
   "cell_type": "code",
   "execution_count": 222,
   "id": "36258f2f",
   "metadata": {},
   "outputs": [
    {
     "data": {
      "text/html": [
       "<div>\n",
       "<style scoped>\n",
       "    .dataframe tbody tr th:only-of-type {\n",
       "        vertical-align: middle;\n",
       "    }\n",
       "\n",
       "    .dataframe tbody tr th {\n",
       "        vertical-align: top;\n",
       "    }\n",
       "\n",
       "    .dataframe thead th {\n",
       "        text-align: right;\n",
       "    }\n",
       "</style>\n",
       "<table border=\"1\" class=\"dataframe\">\n",
       "  <thead>\n",
       "    <tr style=\"text-align: right;\">\n",
       "      <th></th>\n",
       "      <th>SaldoConta</th>\n",
       "      <th>SaldoInvestimento</th>\n",
       "      <th>Situacao</th>\n",
       "    </tr>\n",
       "  </thead>\n",
       "  <tbody>\n",
       "    <tr>\n",
       "      <th>0</th>\n",
       "      <td>-1.992492</td>\n",
       "      <td>-4.158429</td>\n",
       "      <td>0</td>\n",
       "    </tr>\n",
       "    <tr>\n",
       "      <th>1</th>\n",
       "      <td>-3.306014</td>\n",
       "      <td>-4.261263</td>\n",
       "      <td>0</td>\n",
       "    </tr>\n",
       "    <tr>\n",
       "      <th>2</th>\n",
       "      <td>-2.027399</td>\n",
       "      <td>-3.370517</td>\n",
       "      <td>0</td>\n",
       "    </tr>\n",
       "    <tr>\n",
       "      <th>3</th>\n",
       "      <td>-1.214772</td>\n",
       "      <td>-1.177712</td>\n",
       "      <td>0</td>\n",
       "    </tr>\n",
       "    <tr>\n",
       "      <th>4</th>\n",
       "      <td>-3.757442</td>\n",
       "      <td>-2.849533</td>\n",
       "      <td>0</td>\n",
       "    </tr>\n",
       "  </tbody>\n",
       "</table>\n",
       "</div>"
      ],
      "text/plain": [
       "   SaldoConta  SaldoInvestimento  Situacao\n",
       "0   -1.992492          -4.158429         0\n",
       "1   -3.306014          -4.261263         0\n",
       "2   -2.027399          -3.370517         0\n",
       "3   -1.214772          -1.177712         0\n",
       "4   -3.757442          -2.849533         0"
      ]
     },
     "execution_count": 222,
     "metadata": {},
     "output_type": "execute_result"
    }
   ],
   "source": [
    "teste.head()"
   ]
  },
  {
   "cell_type": "code",
   "execution_count": 223,
   "id": "51b88b61",
   "metadata": {},
   "outputs": [
    {
     "data": {
      "image/png": "[encoded data removed]",
      "text/plain": [
       "<Figure size 640x480 with 1 Axes>"
      ]
     },
     "metadata": {},
     "output_type": "display_data"
    }
   ],
   "source": [
    "# Criando uma reta capaz de separar esses pontos\n",
    "import matplotlib.pyplot as plt\n",
    "fig, ax = plt.subplots()\n",
    "\n",
    "# ax.scatter(base.SaldoConta, base['SaldoInvestimento'],c=base.Situacao)\n",
    "ax.scatter(teste.SaldoConta, teste['SaldoInvestimento'],c=teste.Situacao)\n",
    "x = [6,-6]\n",
    "y = [-6,6]\n",
    "ax.plot(x, y)\n",
    "\n",
    "plt.show()"
   ]
  },
  {
   "cell_type": "markdown",
   "id": "a2fb2534",
   "metadata": {},
   "source": [
    "**Essa reta que separa os dados é dada por y=-x e tudo que estiver acima da reta deve ser classificado como 1 e tudo que estiver abaixo da reta como 0**"
   ]
  },
  {
   "cell_type": "code",
   "execution_count": 224,
   "id": "38f664e7",
   "metadata": {},
   "outputs": [],
   "source": [
    "# Transformando essa reta em uma função para classificar os pontos\n",
    "def clf(x,y):\n",
    "    # y_modelo = -x_modelo\n",
    "    y_modelo = -x\n",
    "\n",
    "    # Se y_modelo > y_dado -> class: 0\n",
    "    if y_modelo >= y:\n",
    "        return 0\n",
    "    # Se y_modelo < y_dado -> class: 1\n",
    "    elif y_modelo < y:\n",
    "        return 1"
   ]
  },
  {
   "cell_type": "code",
   "execution_count": 225,
   "id": "1fd72e27",
   "metadata": {},
   "outputs": [],
   "source": [
    "# Aplicando a função aos dados de treino\n",
    "base['predict'] = base.apply(lambda x:clf(x['SaldoConta'],x['SaldoInvestimento']),axis=1)\n",
    "teste['predict'] = teste.apply(lambda x:clf(x['SaldoConta'],x['SaldoInvestimento']),axis=1)"
   ]
  },
  {
   "cell_type": "code",
   "execution_count": 226,
   "id": "1898e049",
   "metadata": {},
   "outputs": [
    {
     "data": {
      "text/html": [
       "<div>\n",
       "<style scoped>\n",
       "    .dataframe tbody tr th:only-of-type {\n",
       "        vertical-align: middle;\n",
       "    }\n",
       "\n",
       "    .dataframe tbody tr th {\n",
       "        vertical-align: top;\n",
       "    }\n",
       "\n",
       "    .dataframe thead th {\n",
       "        text-align: right;\n",
       "    }\n",
       "</style>\n",
       "<table border=\"1\" class=\"dataframe\">\n",
       "  <thead>\n",
       "    <tr style=\"text-align: right;\">\n",
       "      <th></th>\n",
       "      <th>SaldoConta</th>\n",
       "      <th>SaldoInvestimento</th>\n",
       "      <th>Situacao</th>\n",
       "      <th>predict</th>\n",
       "    </tr>\n",
       "  </thead>\n",
       "  <tbody>\n",
       "    <tr>\n",
       "      <th>0</th>\n",
       "      <td>-1.365390</td>\n",
       "      <td>-3.280278</td>\n",
       "      <td>0</td>\n",
       "      <td>0</td>\n",
       "    </tr>\n",
       "    <tr>\n",
       "      <th>1</th>\n",
       "      <td>-3.910816</td>\n",
       "      <td>-0.874096</td>\n",
       "      <td>0</td>\n",
       "      <td>0</td>\n",
       "    </tr>\n",
       "  </tbody>\n",
       "</table>\n",
       "</div>"
      ],
      "text/plain": [
       "   SaldoConta  SaldoInvestimento  Situacao  predict\n",
       "0   -1.365390          -3.280278         0        0\n",
       "1   -3.910816          -0.874096         0        0"
      ]
     },
     "execution_count": 226,
     "metadata": {},
     "output_type": "execute_result"
    }
   ],
   "source": [
    "# Verificando a base com a nova coluna\n",
    "base.head(2)"
   ]
  },
  {
   "cell_type": "code",
   "execution_count": 227,
   "id": "76e0297b",
   "metadata": {},
   "outputs": [
    {
     "data": {
      "text/html": [
       "<div>\n",
       "<style scoped>\n",
       "    .dataframe tbody tr th:only-of-type {\n",
       "        vertical-align: middle;\n",
       "    }\n",
       "\n",
       "    .dataframe tbody tr th {\n",
       "        vertical-align: top;\n",
       "    }\n",
       "\n",
       "    .dataframe thead th {\n",
       "        text-align: right;\n",
       "    }\n",
       "</style>\n",
       "<table border=\"1\" class=\"dataframe\">\n",
       "  <thead>\n",
       "    <tr style=\"text-align: right;\">\n",
       "      <th></th>\n",
       "      <th>SaldoConta</th>\n",
       "      <th>SaldoInvestimento</th>\n",
       "      <th>Situacao</th>\n",
       "      <th>predict</th>\n",
       "    </tr>\n",
       "  </thead>\n",
       "  <tbody>\n",
       "    <tr>\n",
       "      <th>0</th>\n",
       "      <td>-1.992492</td>\n",
       "      <td>-4.158429</td>\n",
       "      <td>0</td>\n",
       "      <td>0</td>\n",
       "    </tr>\n",
       "    <tr>\n",
       "      <th>1</th>\n",
       "      <td>-3.306014</td>\n",
       "      <td>-4.261263</td>\n",
       "      <td>0</td>\n",
       "      <td>0</td>\n",
       "    </tr>\n",
       "  </tbody>\n",
       "</table>\n",
       "</div>"
      ],
      "text/plain": [
       "   SaldoConta  SaldoInvestimento  Situacao  predict\n",
       "0   -1.992492          -4.158429         0        0\n",
       "1   -3.306014          -4.261263         0        0"
      ]
     },
     "execution_count": 227,
     "metadata": {},
     "output_type": "execute_result"
    }
   ],
   "source": [
    "teste.head(2)"
   ]
  },
  {
   "cell_type": "code",
   "execution_count": 228,
   "id": "86227b39",
   "metadata": {},
   "outputs": [
    {
     "data": {
      "text/plain": [
       "Situacao  predict\n",
       "0         0          444\n",
       "1         1          378\n",
       "Name: predict, dtype: int64"
      ]
     },
     "execution_count": 228,
     "metadata": {},
     "output_type": "execute_result"
    }
   ],
   "source": [
    "# Usar o groupby para o treino\n",
    "base.groupby(['Situacao','predict'])['predict'].count()"
   ]
  },
  {
   "cell_type": "code",
   "execution_count": 229,
   "id": "6fa4fae3",
   "metadata": {},
   "outputs": [
    {
     "data": {
      "text/plain": [
       "Situacao  predict\n",
       "0         0          98\n",
       "          1           1\n",
       "1         1          79\n",
       "Name: predict, dtype: int64"
      ]
     },
     "execution_count": 229,
     "metadata": {},
     "output_type": "execute_result"
    }
   ],
   "source": [
    "# Usar o groupby para o teste\n",
    "teste.groupby(['Situacao','predict'])['predict'].count()"
   ]
  },
  {
   "cell_type": "markdown",
   "id": "32ca02fc",
   "metadata": {},
   "source": [
    "### Avaliando o modelo criado\n",
    "- Para avaliar o modelo, vamos começar utilizando a matriz de confusão (confusion matrix)\n",
    "    - https://scikit-learn.org/stable/modules/generated/sklearn.metrics.confusion_matrix.html"
   ]
  },
  {
   "cell_type": "code",
   "execution_count": 230,
   "id": "bf71d68e",
   "metadata": {},
   "outputs": [],
   "source": [
    "from sklearn.metrics import confusion_matrix"
   ]
  },
  {
   "cell_type": "code",
   "execution_count": 231,
   "id": "6346690c",
   "metadata": {},
   "outputs": [
    {
     "data": {
      "text/plain": [
       "array([[444,   0],\n",
       "       [  0, 378]], dtype=int64)"
      ]
     },
     "execution_count": 231,
     "metadata": {},
     "output_type": "execute_result"
    }
   ],
   "source": [
    "# Matriz de confusão para a base de treino\n",
    "confusion_matrix(base.Situacao,base.predict)"
   ]
  },
  {
   "cell_type": "code",
   "execution_count": 232,
   "id": "c293ddd9",
   "metadata": {},
   "outputs": [
    {
     "data": {
      "text/plain": [
       "array([[98,  1],\n",
       "       [ 0, 79]], dtype=int64)"
      ]
     },
     "execution_count": 232,
     "metadata": {},
     "output_type": "execute_result"
    }
   ],
   "source": [
    "# Matriz de confusão para a base de teste\n",
    "confusion_matrix(teste.Situacao,teste.predict)"
   ]
  },
  {
   "cell_type": "markdown",
   "id": "01f37390",
   "metadata": {},
   "source": [
    "- Vamos calcular a acurácia\n",
    "    - https://scikit-learn.org/stable/modules/generated/sklearn.metrics.accuracy_score.html#sklearn.metrics.accuracy_score"
   ]
  },
  {
   "cell_type": "code",
   "execution_count": 233,
   "id": "5fb4916f",
   "metadata": {},
   "outputs": [
    {
     "data": {
      "text/plain": [
       "1.0"
      ]
     },
     "execution_count": 233,
     "metadata": {},
     "output_type": "execute_result"
    }
   ],
   "source": [
    "from sklearn.metrics import accuracy_score\n",
    "# Acurácia para a base de treino\n",
    "accuracy_score(base.Situacao,base.predict)"
   ]
  },
  {
   "cell_type": "code",
   "execution_count": 234,
   "id": "fa4e4190",
   "metadata": {},
   "outputs": [
    {
     "data": {
      "text/plain": [
       "0.9943820224719101"
      ]
     },
     "execution_count": 234,
     "metadata": {},
     "output_type": "execute_result"
    }
   ],
   "source": [
    "# Acurácia para a base de teste\n",
    "accuracy_score(teste.Situacao,teste.predict)"
   ]
  },
  {
   "cell_type": "markdown",
   "id": "b20a6224",
   "metadata": {},
   "source": [
    "- E então vamos utilizar a precisão\n",
    "    - https://scikit-learn.org/stable/modules/generated/sklearn.metrics.precision_score.html"
   ]
  },
  {
   "cell_type": "code",
   "execution_count": 235,
   "id": "5d43dbbd",
   "metadata": {},
   "outputs": [
    {
     "data": {
      "text/plain": [
       "1.0"
      ]
     },
     "execution_count": 235,
     "metadata": {},
     "output_type": "execute_result"
    }
   ],
   "source": [
    "from sklearn.metrics import precision_score\n",
    "# Precisão para a base de treino\n",
    "precision_score(base.Situacao,base.predict)"
   ]
  },
  {
   "cell_type": "code",
   "execution_count": 236,
   "id": "76146a61",
   "metadata": {},
   "outputs": [
    {
     "data": {
      "text/plain": [
       "0.9875"
      ]
     },
     "execution_count": 236,
     "metadata": {},
     "output_type": "execute_result"
    }
   ],
   "source": [
    "# Precisão para a base de teste\n",
    "precision_score(teste.Situacao,teste.predict)"
   ]
  },
  {
   "cell_type": "markdown",
   "id": "c56eb6e1",
   "metadata": {},
   "source": [
    "- E o recall\n",
    "    - https://scikit-learn.org/stable/modules/generated/sklearn.metrics.recall_score.html#sklearn.metrics.recall_score"
   ]
  },
  {
   "cell_type": "code",
   "execution_count": 237,
   "id": "9e64a37b",
   "metadata": {},
   "outputs": [
    {
     "data": {
      "text/plain": [
       "1.0"
      ]
     },
     "execution_count": 237,
     "metadata": {},
     "output_type": "execute_result"
    }
   ],
   "source": [
    "from sklearn.metrics import recall_score\n",
    "# Recall para a base de treino\n",
    "recall_score(base.Situacao,base.predict)"
   ]
  },
  {
   "cell_type": "code",
   "execution_count": 238,
   "id": "5a76179a",
   "metadata": {},
   "outputs": [
    {
     "data": {
      "text/plain": [
       "1.0"
      ]
     },
     "execution_count": 238,
     "metadata": {},
     "output_type": "execute_result"
    }
   ],
   "source": [
    "# Recall para a base de teste\n",
    "recall_score(teste.Situacao,teste.predict)"
   ]
  }
 ],
 "metadata": {
  "kernelspec": {
   "display_name": "Python 3 (ipykernel)",
   "language": "python",
   "name": "python3"
  },
  "language_info": {
   "codemirror_mode": {
    "name": "ipython",
    "version": 3
   },
   "file_extension": ".py",
   "mimetype": "text/x-python",
   "name": "python",
   "nbconvert_exporter": "python",
   "pygments_lexer": "ipython3",
   "version": "3.11.3"
  }
 },
 "nbformat": 4,
 "nbformat_minor": 5
}
