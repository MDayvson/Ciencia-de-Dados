{
 "cells": [
  {
   "cell_type": "markdown",
   "metadata": {},
   "source": [
    "### `Criando tabelas e inserindo dados no SQLite3`\n",
    "https://docs.python.org/3/library/sqlite3.html"
   ]
  },
  {
   "cell_type": "code",
   "execution_count": 103,
   "metadata": {},
   "outputs": [],
   "source": [
    "# Criando uma conexão\n",
    "con = sqlite3.connect(\"tutorial.db\")"
   ]
  },
  {
   "cell_type": "code",
   "execution_count": 104,
   "metadata": {},
   "outputs": [],
   "source": [
    "# Criando um cursor\n",
    "cur = con.cursor()"
   ]
  },
  {
   "cell_type": "code",
   "execution_count": 107,
   "metadata": {},
   "outputs": [],
   "source": [
    "# Criando uma tabela da documentação\n",
    "\n",
    "cur.execute(\"CREATE TABLE movie(title, year, score)\")"
   ]
  },
  {
   "cell_type": "code",
   "execution_count": 109,
   "metadata": {},
   "outputs": [
    {
     "ename": "OperationalError",
     "evalue": "database is locked",
     "output_type": "error",
     "traceback": [
      "\u001b[1;31m---------------------------------------------------------------------------\u001b[0m",
      "\u001b[1;31mOperationalError\u001b[0m                          Traceback (most recent call last)",
      "\u001b[1;32mc:\\Users\\GAMERX\\Documents\\MeusProjetos\\Ciencia-de-Dados\\Ciência de Dados Impressionador\\18. Utilizando o SQL com dados reais de venda\\2. Criando tabelas e inserindo dados no sqlite3.ipynb Cell 8\u001b[0m line \u001b[0;36m3\n\u001b[0;32m      <a href='vscode-notebook-cell:/c%3A/Users/GAMERX/Documents/MeusProjetos/Ciencia-de-Dados/Ci%C3%AAncia%20de%20Dados%20Impressionador/18.%20Utilizando%20o%20SQL%20com%20dados%20reais%20de%20venda/2.%20Criando%20tabelas%20e%20inserindo%20dados%20no%20sqlite3.ipynb#Y226sZmlsZQ%3D%3D?line=0'>1</a>\u001b[0m \u001b[39m# inserindo linhas conforme documentação\u001b[39;00m\n\u001b[1;32m----> <a href='vscode-notebook-cell:/c%3A/Users/GAMERX/Documents/MeusProjetos/Ciencia-de-Dados/Ci%C3%AAncia%20de%20Dados%20Impressionador/18.%20Utilizando%20o%20SQL%20com%20dados%20reais%20de%20venda/2.%20Criando%20tabelas%20e%20inserindo%20dados%20no%20sqlite3.ipynb#Y226sZmlsZQ%3D%3D?line=2'>3</a>\u001b[0m cur\u001b[39m.\u001b[39;49mexecute(\u001b[39m\"\"\"\u001b[39;49m\n\u001b[0;32m      <a href='vscode-notebook-cell:/c%3A/Users/GAMERX/Documents/MeusProjetos/Ciencia-de-Dados/Ci%C3%AAncia%20de%20Dados%20Impressionador/18.%20Utilizando%20o%20SQL%20com%20dados%20reais%20de%20venda/2.%20Criando%20tabelas%20e%20inserindo%20dados%20no%20sqlite3.ipynb#Y226sZmlsZQ%3D%3D?line=3'>4</a>\u001b[0m \u001b[39m    INSERT INTO movie VALUES\u001b[39;49m\n\u001b[0;32m      <a href='vscode-notebook-cell:/c%3A/Users/GAMERX/Documents/MeusProjetos/Ciencia-de-Dados/Ci%C3%AAncia%20de%20Dados%20Impressionador/18.%20Utilizando%20o%20SQL%20com%20dados%20reais%20de%20venda/2.%20Criando%20tabelas%20e%20inserindo%20dados%20no%20sqlite3.ipynb#Y226sZmlsZQ%3D%3D?line=4'>5</a>\u001b[0m \u001b[39m        (\u001b[39;49m\u001b[39m'\u001b[39;49m\u001b[39mMonty Python and the Holy Grail\u001b[39;49m\u001b[39m'\u001b[39;49m\u001b[39m, 1975, 8.2),\u001b[39;49m\n\u001b[0;32m      <a href='vscode-notebook-cell:/c%3A/Users/GAMERX/Documents/MeusProjetos/Ciencia-de-Dados/Ci%C3%AAncia%20de%20Dados%20Impressionador/18.%20Utilizando%20o%20SQL%20com%20dados%20reais%20de%20venda/2.%20Criando%20tabelas%20e%20inserindo%20dados%20no%20sqlite3.ipynb#Y226sZmlsZQ%3D%3D?line=5'>6</a>\u001b[0m \u001b[39m        (\u001b[39;49m\u001b[39m'\u001b[39;49m\u001b[39mAnd Now for Something Completely Different\u001b[39;49m\u001b[39m'\u001b[39;49m\u001b[39m, 1971, 7.5)\u001b[39;49m\n\u001b[0;32m      <a href='vscode-notebook-cell:/c%3A/Users/GAMERX/Documents/MeusProjetos/Ciencia-de-Dados/Ci%C3%AAncia%20de%20Dados%20Impressionador/18.%20Utilizando%20o%20SQL%20com%20dados%20reais%20de%20venda/2.%20Criando%20tabelas%20e%20inserindo%20dados%20no%20sqlite3.ipynb#Y226sZmlsZQ%3D%3D?line=6'>7</a>\u001b[0m \u001b[39m\"\"\"\u001b[39;49m)\n",
      "\u001b[1;31mOperationalError\u001b[0m: database is locked"
     ]
    }
   ],
   "source": [
    "# inserindo linhas conforme documentação\n",
    "\n",
    "cur.execute(\"\"\"\n",
    "    INSERT INTO movie VALUES\n",
    "        ('Monty Python and the Holy Grail', 1975, 8.2),\n",
    "        ('And Now for Something Completely Different', 1971, 7.5)\n",
    "\"\"\")"
   ]
  },
  {
   "cell_type": "code",
   "execution_count": null,
   "metadata": {},
   "outputs": [
    {
     "data": {
      "text/plain": [
       "[]"
      ]
     },
     "execution_count": 74,
     "metadata": {},
     "output_type": "execute_result"
    }
   ],
   "source": [
    "# Selecionando todos os dados da tabela criada\n",
    "cur.execute('SELECT * FROM movie').fetchall()\n"
   ]
  }
 ],
 "metadata": {
  "kernelspec": {
   "display_name": "Python 3",
   "language": "python",
   "name": "python3"
  },
  "language_info": {
   "codemirror_mode": {
    "name": "ipython",
    "version": 3
   },
   "file_extension": ".py",
   "mimetype": "text/x-python",
   "name": "python",
   "nbconvert_exporter": "python",
   "pygments_lexer": "ipython3",
   "version": "3.11.3"
  }
 },
 "nbformat": 4,
 "nbformat_minor": 2
}
