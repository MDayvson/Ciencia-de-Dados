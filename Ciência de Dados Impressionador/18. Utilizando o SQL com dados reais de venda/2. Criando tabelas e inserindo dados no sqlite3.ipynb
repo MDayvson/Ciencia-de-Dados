{
 "cells": [
  {
   "cell_type": "markdown",
   "metadata": {},
   "source": [
    "### `Criando tabelas e inserindo dados no SQLite3`"
   ]
  },
  {
   "cell_type": "code",
   "execution_count": null,
   "metadata": {},
   "outputs": [],
   "source": []
  }
 ],
 "metadata": {
  "language_info": {
   "name": "python"
  }
 },
 "nbformat": 4,
 "nbformat_minor": 2
}
