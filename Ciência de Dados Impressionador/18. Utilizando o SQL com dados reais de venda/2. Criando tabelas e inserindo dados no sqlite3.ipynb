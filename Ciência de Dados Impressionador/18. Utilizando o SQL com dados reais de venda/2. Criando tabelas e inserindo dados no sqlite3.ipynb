{
 "cells": [
  {
   "cell_type": "markdown",
   "metadata": {},
   "source": [
    "### `Criando tabelas e inserindo dados no SQLite3`\n",
    "https://docs.python.org/3/library/sqlite3.html"
   ]
  },
  {
   "cell_type": "code",
   "execution_count": 40,
   "metadata": {},
   "outputs": [],
   "source": [
    "# Importando o SQLite3\n",
    "import sqlite3"
   ]
  },
  {
   "cell_type": "code",
   "execution_count": 41,
   "metadata": {},
   "outputs": [],
   "source": [
    "# Criando uma conexão\n",
    "con = sqlite3.connect(\"tutorial.db\")"
   ]
  },
  {
   "cell_type": "code",
   "execution_count": 42,
   "metadata": {},
   "outputs": [],
   "source": [
    "# Criando um cursor\n",
    "cur = con.cursor()"
   ]
  },
  {
   "cell_type": "code",
   "execution_count": 43,
   "metadata": {},
   "outputs": [
    {
     "data": {
      "text/plain": [
       "<sqlite3.Cursor at 0x1f5b7f5a540>"
      ]
     },
     "execution_count": 43,
     "metadata": {},
     "output_type": "execute_result"
    }
   ],
   "source": [
    "# Criando uma tabela da documentação\n",
    "\n",
    "cur.execute(\"CREATE TABLE movie(title, year, score)\")"
   ]
  },
  {
   "cell_type": "code",
   "execution_count": 44,
   "metadata": {},
   "outputs": [
    {
     "data": {
      "text/plain": [
       "<sqlite3.Cursor at 0x1f5b7f5a540>"
      ]
     },
     "execution_count": 44,
     "metadata": {},
     "output_type": "execute_result"
    }
   ],
   "source": [
    "# inserindo linhas conforme documentação\n",
    "\n",
    "cur.execute(\"\"\"\n",
    "    INSERT INTO movie VALUES\n",
    "        ('Monty Python and the Holy Grail', 1975, 8.2),\n",
    "        ('And Now for Something Completely Different', 1971, 7.5)\n",
    "\"\"\")"
   ]
  },
  {
   "cell_type": "code",
   "execution_count": 45,
   "metadata": {},
   "outputs": [
    {
     "data": {
      "text/plain": [
       "[('Monty Python and the Holy Grail', 1975, 8.2),\n",
       " ('And Now for Something Completely Different', 1971, 7.5)]"
      ]
     },
     "execution_count": 45,
     "metadata": {},
     "output_type": "execute_result"
    }
   ],
   "source": [
    "# Selecionando todos os dados da tabela criada\n",
    "cur.execute('SELECT * FROM movie').fetchall()"
   ]
  },
  {
   "cell_type": "code",
   "execution_count": 46,
   "metadata": {},
   "outputs": [],
   "source": [
    "# Salvando as mudanças\n",
    "con.commit()"
   ]
  },
  {
   "cell_type": "code",
   "execution_count": 47,
   "metadata": {},
   "outputs": [
    {
     "data": {
      "text/plain": [
       "<sqlite3.Cursor at 0x1f5b7f5a540>"
      ]
     },
     "execution_count": 47,
     "metadata": {},
     "output_type": "execute_result"
    }
   ],
   "source": [
    "# deletando a tabela movie para limpar espaço\n",
    "cur.execute('DROP TABLE movie')"
   ]
  },
  {
   "cell_type": "code",
   "execution_count": 48,
   "metadata": {},
   "outputs": [],
   "source": [
    "# Fechando a conexão\n",
    "con.close()"
   ]
  },
  {
   "cell_type": "markdown",
   "metadata": {},
   "source": [
    "### `Adicionando um DataFrame como tabela na base`\n",
    "https://pandas.pydata.org/docs/reference/api/pandas.DataFrame.to_sql.html"
   ]
  },
  {
   "cell_type": "code",
   "execution_count": 49,
   "metadata": {},
   "outputs": [],
   "source": [
    "# Importando o pandas\n",
    "import pandas as pd"
   ]
  },
  {
   "cell_type": "code",
   "execution_count": 50,
   "metadata": {},
   "outputs": [],
   "source": [
    "dados = {\n",
    "    'x': [1, 2, 3, 4, 5],\n",
    "    'y': [10, 9, 8, 7, 6],\n",
    "    'z': ['a', 'b', 'c', 'd', 'e']\n",
    "}\n",
    "\n",
    "dados = pd.DataFrame(dados)"
   ]
  },
  {
   "cell_type": "code",
   "execution_count": 51,
   "metadata": {},
   "outputs": [
    {
     "data": {
      "text/html": [
       "<div>\n",
       "<style scoped>\n",
       "    .dataframe tbody tr th:only-of-type {\n",
       "        vertical-align: middle;\n",
       "    }\n",
       "\n",
       "    .dataframe tbody tr th {\n",
       "        vertical-align: top;\n",
       "    }\n",
       "\n",
       "    .dataframe thead th {\n",
       "        text-align: right;\n",
       "    }\n",
       "</style>\n",
       "<table border=\"1\" class=\"dataframe\">\n",
       "  <thead>\n",
       "    <tr style=\"text-align: right;\">\n",
       "      <th></th>\n",
       "      <th>x</th>\n",
       "      <th>y</th>\n",
       "      <th>z</th>\n",
       "    </tr>\n",
       "  </thead>\n",
       "  <tbody>\n",
       "    <tr>\n",
       "      <th>0</th>\n",
       "      <td>1</td>\n",
       "      <td>10</td>\n",
       "      <td>a</td>\n",
       "    </tr>\n",
       "    <tr>\n",
       "      <th>1</th>\n",
       "      <td>2</td>\n",
       "      <td>9</td>\n",
       "      <td>b</td>\n",
       "    </tr>\n",
       "    <tr>\n",
       "      <th>2</th>\n",
       "      <td>3</td>\n",
       "      <td>8</td>\n",
       "      <td>c</td>\n",
       "    </tr>\n",
       "    <tr>\n",
       "      <th>3</th>\n",
       "      <td>4</td>\n",
       "      <td>7</td>\n",
       "      <td>d</td>\n",
       "    </tr>\n",
       "    <tr>\n",
       "      <th>4</th>\n",
       "      <td>5</td>\n",
       "      <td>6</td>\n",
       "      <td>e</td>\n",
       "    </tr>\n",
       "  </tbody>\n",
       "</table>\n",
       "</div>"
      ],
      "text/plain": [
       "   x   y  z\n",
       "0  1  10  a\n",
       "1  2   9  b\n",
       "2  3   8  c\n",
       "3  4   7  d\n",
       "4  5   6  e"
      ]
     },
     "execution_count": 51,
     "metadata": {},
     "output_type": "execute_result"
    }
   ],
   "source": [
    "# visualizando o dataframe\n",
    "dados.head()"
   ]
  },
  {
   "cell_type": "code",
   "execution_count": 52,
   "metadata": {},
   "outputs": [],
   "source": [
    "# abrindo a conexão novamente\n",
    "import sqlite3\n",
    "con = sqlite3.connect('exemplo.db')\n"
   ]
  },
  {
   "cell_type": "code",
   "execution_count": 53,
   "metadata": {},
   "outputs": [
    {
     "data": {
      "text/plain": [
       "5"
      ]
     },
     "execution_count": 53,
     "metadata": {},
     "output_type": "execute_result"
    }
   ],
   "source": [
    "# adicionando essa base em uma tabela\n",
    "dados.to_sql('dados',con,if_exists='replace')"
   ]
  },
  {
   "cell_type": "markdown",
   "metadata": {},
   "source": [
    "`if_exists` {'fail', 'replace', 'append'}, padrão 'fail'\n",
    "Como se comportar se a tabela já existir.\n",
    "\n",
    "- fail: gera um ValueError.\n",
    "\n",
    "- replace: Elimine a tabela antes de inserir novos valores.\n",
    "\n",
    "- append: Insere novos valores na tabela existente."
   ]
  },
  {
   "cell_type": "code",
   "execution_count": 54,
   "metadata": {},
   "outputs": [],
   "source": [
    "# criando o cursor\n",
    "cur = con.cursor()"
   ]
  },
  {
   "cell_type": "code",
   "execution_count": 55,
   "metadata": {},
   "outputs": [
    {
     "data": {
      "text/plain": [
       "[(0, 1, 10, 'a'),\n",
       " (1, 2, 9, 'b'),\n",
       " (2, 3, 8, 'c'),\n",
       " (3, 4, 7, 'd'),\n",
       " (4, 5, 6, 'e')]"
      ]
     },
     "execution_count": 55,
     "metadata": {},
     "output_type": "execute_result"
    }
   ],
   "source": [
    "# selecionando todos os dados da tabela\n",
    "cur.execute('SELECT * FROM dados').fetchall()"
   ]
  },
  {
   "cell_type": "code",
   "execution_count": 56,
   "metadata": {},
   "outputs": [
    {
     "data": {
      "text/plain": [
       "(('index', None, None, None, None, None, None),\n",
       " ('x', None, None, None, None, None, None),\n",
       " ('y', None, None, None, None, None, None),\n",
       " ('z', None, None, None, None, None, None))"
      ]
     },
     "execution_count": 56,
     "metadata": {},
     "output_type": "execute_result"
    }
   ],
   "source": [
    "# visualizando o nome das colunas\n",
    "cur.description"
   ]
  },
  {
   "cell_type": "code",
   "execution_count": 57,
   "metadata": {},
   "outputs": [
    {
     "data": {
      "text/plain": [
       "5"
      ]
     },
     "execution_count": 57,
     "metadata": {},
     "output_type": "execute_result"
    }
   ],
   "source": [
    "# adicionado a tabela sem o index\n",
    "dados.to_sql('dados',con,if_exists='replace',index=False)"
   ]
  },
  {
   "cell_type": "code",
   "execution_count": 58,
   "metadata": {},
   "outputs": [
    {
     "data": {
      "text/plain": [
       "(('index', None, None, None, None, None, None),\n",
       " ('x', None, None, None, None, None, None),\n",
       " ('y', None, None, None, None, None, None),\n",
       " ('z', None, None, None, None, None, None))"
      ]
     },
     "execution_count": 58,
     "metadata": {},
     "output_type": "execute_result"
    }
   ],
   "source": [
    "# visualizando novamente o nome das colunas\n",
    "cur.description"
   ]
  },
  {
   "cell_type": "markdown",
   "metadata": {},
   "source": [
    "## `DROP TABLE`\n",
    "\n",
    "- permite apagar qualquer tabela do banco de dados\n",
    "- cuidado comando é `IRREVERSIVEL`"
   ]
  },
  {
   "cell_type": "code",
   "execution_count": 59,
   "metadata": {},
   "outputs": [
    {
     "data": {
      "text/plain": [
       "<sqlite3.Cursor at 0x1f5b7f5aac0>"
      ]
     },
     "execution_count": 59,
     "metadata": {},
     "output_type": "execute_result"
    }
   ],
   "source": [
    "# executando o DROP da tabela\n",
    "\n",
    "cur.execute('DROP TABLE dados')"
   ]
  },
  {
   "cell_type": "code",
   "execution_count": 60,
   "metadata": {},
   "outputs": [],
   "source": [
    "# verificando se a tabela foi apagada\n",
    "# cur.execute('SELECT * FROM dados').fetchall()\n",
    "\n",
    "# A tabela foi apagada"
   ]
  },
  {
   "cell_type": "markdown",
   "metadata": {},
   "source": [
    "- `Recomeçando a tabela sem o index`"
   ]
  },
  {
   "cell_type": "code",
   "execution_count": 61,
   "metadata": {},
   "outputs": [
    {
     "data": {
      "text/plain": [
       "[(1, 10, 'a'), (2, 9, 'b'), (3, 8, 'c'), (4, 7, 'd'), (5, 6, 'e')]"
      ]
     },
     "execution_count": 61,
     "metadata": {},
     "output_type": "execute_result"
    }
   ],
   "source": [
    "dados.to_sql('dados',con,if_exists='replace',index=False)\n",
    "cur.execute('SELECT * FROM dados').fetchall()"
   ]
  },
  {
   "cell_type": "markdown",
   "metadata": {},
   "source": [
    "## `Inserindo novos valores `"
   ]
  },
  {
   "cell_type": "code",
   "execution_count": 62,
   "metadata": {},
   "outputs": [
    {
     "data": {
      "text/html": [
       "<div>\n",
       "<style scoped>\n",
       "    .dataframe tbody tr th:only-of-type {\n",
       "        vertical-align: middle;\n",
       "    }\n",
       "\n",
       "    .dataframe tbody tr th {\n",
       "        vertical-align: top;\n",
       "    }\n",
       "\n",
       "    .dataframe thead th {\n",
       "        text-align: right;\n",
       "    }\n",
       "</style>\n",
       "<table border=\"1\" class=\"dataframe\">\n",
       "  <thead>\n",
       "    <tr style=\"text-align: right;\">\n",
       "      <th></th>\n",
       "      <th>x</th>\n",
       "      <th>y</th>\n",
       "      <th>z</th>\n",
       "    </tr>\n",
       "  </thead>\n",
       "  <tbody>\n",
       "    <tr>\n",
       "      <th>0</th>\n",
       "      <td>6</td>\n",
       "      <td>5</td>\n",
       "      <td>f</td>\n",
       "    </tr>\n",
       "    <tr>\n",
       "      <th>1</th>\n",
       "      <td>7</td>\n",
       "      <td>4</td>\n",
       "      <td>l</td>\n",
       "    </tr>\n",
       "    <tr>\n",
       "      <th>2</th>\n",
       "      <td>8</td>\n",
       "      <td>3</td>\n",
       "      <td>h</td>\n",
       "    </tr>\n",
       "  </tbody>\n",
       "</table>\n",
       "</div>"
      ],
      "text/plain": [
       "   x  y  z\n",
       "0  6  5  f\n",
       "1  7  4  l\n",
       "2  8  3  h"
      ]
     },
     "execution_count": 62,
     "metadata": {},
     "output_type": "execute_result"
    }
   ],
   "source": [
    "dados2 = {\n",
    "    'x': [6, 7, 8],\n",
    "    'y': [5, 4, 3],\n",
    "    'z': ['f', 'l', 'h']\n",
    "}\n",
    "\n",
    "dados2 = pd.DataFrame(dados2)\n",
    "dados2.head()"
   ]
  },
  {
   "cell_type": "code",
   "execution_count": 63,
   "metadata": {},
   "outputs": [
    {
     "data": {
      "text/plain": [
       "3"
      ]
     },
     "execution_count": 63,
     "metadata": {},
     "output_type": "execute_result"
    }
   ],
   "source": [
    "# usando o append na base\n",
    "\n",
    "dados2.to_sql('dados',con,index=False,if_exists='append')"
   ]
  },
  {
   "cell_type": "code",
   "execution_count": 64,
   "metadata": {},
   "outputs": [
    {
     "data": {
      "text/plain": [
       "[(1, 10, 'a'),\n",
       " (2, 9, 'b'),\n",
       " (3, 8, 'c'),\n",
       " (4, 7, 'd'),\n",
       " (5, 6, 'e'),\n",
       " (6, 5, 'f'),\n",
       " (7, 4, 'l'),\n",
       " (8, 3, 'h')]"
      ]
     },
     "execution_count": 64,
     "metadata": {},
     "output_type": "execute_result"
    }
   ],
   "source": [
    "# fazendo o select\n",
    "cur.execute('SELECT * FROM dados').fetchall()"
   ]
  },
  {
   "cell_type": "markdown",
   "metadata": {},
   "source": [
    "- utlizando o `INSERT` para adicionar valores"
   ]
  },
  {
   "cell_type": "code",
   "execution_count": 65,
   "metadata": {},
   "outputs": [
    {
     "data": {
      "text/plain": [
       "<sqlite3.Cursor at 0x1f5b7f5aac0>"
      ]
     },
     "execution_count": 65,
     "metadata": {},
     "output_type": "execute_result"
    }
   ],
   "source": [
    "# adicionando os valores (9,2,'j')\n",
    "\n",
    "cur.execute('INSERT INTO dados values (9,2,\"j\")')"
   ]
  },
  {
   "cell_type": "code",
   "execution_count": 66,
   "metadata": {},
   "outputs": [
    {
     "data": {
      "text/plain": [
       "[(1, 10, 'a'),\n",
       " (2, 9, 'b'),\n",
       " (3, 8, 'c'),\n",
       " (4, 7, 'd'),\n",
       " (5, 6, 'e'),\n",
       " (6, 5, 'f'),\n",
       " (7, 4, 'l'),\n",
       " (8, 3, 'h'),\n",
       " (9, 2, 'j')]"
      ]
     },
     "execution_count": 66,
     "metadata": {},
     "output_type": "execute_result"
    }
   ],
   "source": [
    "# fazendo o SELECT\n",
    "\n",
    "cur.execute('SELECT * FROM dados').fetchall()"
   ]
  },
  {
   "cell_type": "code",
   "execution_count": 67,
   "metadata": {},
   "outputs": [
    {
     "data": {
      "text/plain": [
       "<sqlite3.Cursor at 0x1f5b7f5aac0>"
      ]
     },
     "execution_count": 67,
     "metadata": {},
     "output_type": "execute_result"
    }
   ],
   "source": [
    "# Utilizando placeholder para adicionar valores (10, 1, 'j')\n",
    "cur.execute('INSERT INTO dados values (?,?,?)', (10, 1, 'j'))"
   ]
  },
  {
   "cell_type": "code",
   "execution_count": 68,
   "metadata": {},
   "outputs": [
    {
     "data": {
      "text/plain": [
       "[(1, 10, 'a'),\n",
       " (2, 9, 'b'),\n",
       " (3, 8, 'c'),\n",
       " (4, 7, 'd'),\n",
       " (5, 6, 'e'),\n",
       " (6, 5, 'f'),\n",
       " (7, 4, 'l'),\n",
       " (8, 3, 'h'),\n",
       " (9, 2, 'j'),\n",
       " (10, 1, 'j')]"
      ]
     },
     "execution_count": 68,
     "metadata": {},
     "output_type": "execute_result"
    }
   ],
   "source": [
    "# fazendo o SELECT\n",
    "\n",
    "cur.execute('SELECT * FROM dados').fetchall()"
   ]
  },
  {
   "cell_type": "markdown",
   "metadata": {},
   "source": [
    "### `Ou utilizar o .executemany() para adicionar valores a lista` "
   ]
  },
  {
   "cell_type": "code",
   "execution_count": 69,
   "metadata": {},
   "outputs": [],
   "source": [
    "adicionar = [\n",
    "    (11, 0, 'k'),\n",
    "    (12, -1, 'l'),\n",
    "    (13, -2, 'm')\n",
    "]"
   ]
  },
  {
   "cell_type": "code",
   "execution_count": 70,
   "metadata": {},
   "outputs": [
    {
     "data": {
      "text/plain": [
       "<sqlite3.Cursor at 0x1f5b7f5aac0>"
      ]
     },
     "execution_count": 70,
     "metadata": {},
     "output_type": "execute_result"
    }
   ],
   "source": [
    "# adicionando esses valores\n",
    "cur.executemany('INSERT INTO dados values (?,?,?)', adicionar)"
   ]
  },
  {
   "cell_type": "code",
   "execution_count": 71,
   "metadata": {},
   "outputs": [
    {
     "data": {
      "text/plain": [
       "[(1, 10, 'a'),\n",
       " (2, 9, 'b'),\n",
       " (3, 8, 'c'),\n",
       " (4, 7, 'd'),\n",
       " (5, 6, 'e'),\n",
       " (6, 5, 'f'),\n",
       " (7, 4, 'l'),\n",
       " (8, 3, 'h'),\n",
       " (9, 2, 'j'),\n",
       " (10, 1, 'j'),\n",
       " (11, 0, 'k'),\n",
       " (12, -1, 'l'),\n",
       " (13, -2, 'm')]"
      ]
     },
     "execution_count": 71,
     "metadata": {},
     "output_type": "execute_result"
    }
   ],
   "source": [
    "# fazendo o SELECT\n",
    "\n",
    "cur.execute('SELECT * FROM dados').fetchall()"
   ]
  },
  {
   "cell_type": "code",
   "execution_count": 72,
   "metadata": {},
   "outputs": [],
   "source": [
    "con.commit()\n",
    "con.close()"
   ]
  },
  {
   "cell_type": "markdown",
   "metadata": {},
   "source": [
    "`UPDATE e DELETE`"
   ]
  },
  {
   "cell_type": "code",
   "execution_count": 73,
   "metadata": {},
   "outputs": [],
   "source": [
    "import sqlite3\n",
    "con = sqlite3.connect ('exemplo.db')"
   ]
  },
  {
   "cell_type": "code",
   "execution_count": 74,
   "metadata": {},
   "outputs": [],
   "source": [
    "cur = con.cursor()"
   ]
  },
  {
   "cell_type": "code",
   "execution_count": 75,
   "metadata": {},
   "outputs": [
    {
     "data": {
      "text/plain": [
       "[(1, 10, 'a'),\n",
       " (2, 9, 'b'),\n",
       " (3, 8, 'c'),\n",
       " (4, 7, 'd'),\n",
       " (5, 6, 'e'),\n",
       " (6, 5, 'f'),\n",
       " (7, 4, 'l'),\n",
       " (8, 3, 'h'),\n",
       " (9, 2, 'j'),\n",
       " (10, 1, 'j'),\n",
       " (11, 0, 'k'),\n",
       " (12, -1, 'l'),\n",
       " (13, -2, 'm')]"
      ]
     },
     "execution_count": 75,
     "metadata": {},
     "output_type": "execute_result"
    }
   ],
   "source": [
    "# visualizando a tabela\n",
    "cur.execute('SELECT * FROM dados').fetchall()"
   ]
  },
  {
   "cell_type": "code",
   "execution_count": 76,
   "metadata": {},
   "outputs": [],
   "source": [
    "# Atualizando a linha 7 para a letra g ao invés da letra l\n",
    "#cur.execute('UPDATE dados SET z = \"g\"')\n",
    "\n",
    "# esse UPDATE substitui todos as letras da tabela por g, causando a perda de informações da tabela"
   ]
  },
  {
   "cell_type": "code",
   "execution_count": 78,
   "metadata": {},
   "outputs": [
    {
     "data": {
      "text/plain": [
       "[(7, 4, 'l')]"
      ]
     },
     "execution_count": 78,
     "metadata": {},
     "output_type": "execute_result"
    }
   ],
   "source": [
    "# Filtrando somente a linha que precisa ser atualizada\n",
    "cur.execute('SELECT * FROM dados WHERE x=7').fetchall()\n"
   ]
  },
  {
   "cell_type": "code",
   "execution_count": 79,
   "metadata": {},
   "outputs": [
    {
     "data": {
      "text/plain": [
       "<sqlite3.Cursor at 0x1f5b7f5b240>"
      ]
     },
     "execution_count": 79,
     "metadata": {},
     "output_type": "execute_result"
    }
   ],
   "source": [
    "\n",
    "cur.execute('UPDATE dados SET z=\"g\" WHERE x=7')"
   ]
  },
  {
   "cell_type": "code",
   "execution_count": 80,
   "metadata": {},
   "outputs": [
    {
     "data": {
      "text/plain": [
       "[(1, 10, 'a'),\n",
       " (2, 9, 'b'),\n",
       " (3, 8, 'c'),\n",
       " (4, 7, 'd'),\n",
       " (5, 6, 'e'),\n",
       " (6, 5, 'f'),\n",
       " (7, 4, 'g'),\n",
       " (8, 3, 'h'),\n",
       " (9, 2, 'j'),\n",
       " (10, 1, 'j'),\n",
       " (11, 0, 'k'),\n",
       " (12, -1, 'l'),\n",
       " (13, -2, 'm')]"
      ]
     },
     "execution_count": 80,
     "metadata": {},
     "output_type": "execute_result"
    }
   ],
   "source": [
    "# visualizando a tabela\n",
    "cur.execute('SELECT * FROM dados').fetchall()\n"
   ]
  },
  {
   "cell_type": "code",
   "execution_count": 83,
   "metadata": {},
   "outputs": [
    {
     "data": {
      "text/plain": [
       "<sqlite3.Cursor at 0x1f5b7f5b240>"
      ]
     },
     "execution_count": 83,
     "metadata": {},
     "output_type": "execute_result"
    }
   ],
   "source": [
    "# deletando as ultimas 2 linhas\n",
    "cur.execute('DELETE FROM dados WHERE x=12 or x=13')"
   ]
  },
  {
   "cell_type": "code",
   "execution_count": 84,
   "metadata": {},
   "outputs": [
    {
     "data": {
      "text/plain": [
       "[(1, 10, 'a'),\n",
       " (2, 9, 'b'),\n",
       " (3, 8, 'c'),\n",
       " (4, 7, 'd'),\n",
       " (5, 6, 'e'),\n",
       " (6, 5, 'f'),\n",
       " (7, 4, 'g'),\n",
       " (8, 3, 'h'),\n",
       " (9, 2, 'j'),\n",
       " (10, 1, 'j'),\n",
       " (11, 0, 'k')]"
      ]
     },
     "execution_count": 84,
     "metadata": {},
     "output_type": "execute_result"
    }
   ],
   "source": [
    "# visualizando a tabela\n",
    "cur.execute('SELECT * FROM dados').fetchall()"
   ]
  }
 ],
 "metadata": {
  "kernelspec": {
   "display_name": "Python 3",
   "language": "python",
   "name": "python3"
  },
  "language_info": {
   "codemirror_mode": {
    "name": "ipython",
    "version": 3
   },
   "file_extension": ".py",
   "mimetype": "text/x-python",
   "name": "python",
   "nbconvert_exporter": "python",
   "pygments_lexer": "ipython3",
   "version": "3.11.3"
  }
 },
 "nbformat": 4,
 "nbformat_minor": 2
}
