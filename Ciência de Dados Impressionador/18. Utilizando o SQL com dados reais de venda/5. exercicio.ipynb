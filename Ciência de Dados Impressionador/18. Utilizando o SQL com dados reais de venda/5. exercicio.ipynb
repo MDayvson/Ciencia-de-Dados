{
 "cells": [
  {
   "cell_type": "markdown",
   "metadata": {},
   "source": [
    "## `Montando apresentação`"
   ]
  },
  {
   "cell_type": "markdown",
   "metadata": {},
   "source": [
    "`Considerações: `\n",
    "- O time de logística não considera que o atraso na entrega é um problema relevante e falou que, em média, as entregas estão sendo feitas 10 dias antes do prazo combinado.\n",
    "\n",
    "- Não é desejado a previsão de uma entrega atrasada, apenas a exposição que esse é um problema que pode impactar os clientes.\n",
    "\n",
    "- Não queremos a abordagem de \"nenhuma entrega pode atrasar\". Vamos ser mais tranquilos e seguir na linha de \"uma entrega pode atrasar. Como posso melhorar a experiencia do cliente caso isso aconteça?\""
   ]
  },
  {
   "cell_type": "markdown",
   "metadata": {},
   "source": [
    "### `Preparando o ambiente`"
   ]
  },
  {
   "cell_type": "code",
   "execution_count": 61,
   "metadata": {},
   "outputs": [],
   "source": [
    "# Importando o sqlite3\n",
    "import sqlite3"
   ]
  },
  {
   "cell_type": "code",
   "execution_count": 62,
   "metadata": {},
   "outputs": [],
   "source": [
    "# Importando o pandas\n",
    "import pandas as pd"
   ]
  },
  {
   "cell_type": "code",
   "execution_count": 63,
   "metadata": {},
   "outputs": [],
   "source": [
    "# criando a conexão\n",
    "con =sqlite3.connect('vendas.db')"
   ]
  },
  {
   "cell_type": "code",
   "execution_count": 64,
   "metadata": {},
   "outputs": [],
   "source": [
    "# criando o cursor\n",
    "cur = con.cursor()"
   ]
  },
  {
   "cell_type": "code",
   "execution_count": 65,
   "metadata": {},
   "outputs": [],
   "source": [
    "# utilizando a função já criada\n",
    "def executa_consulta(consulta):\n",
    "    resultado = cur.execute(consulta).fetchall()\n",
    "    resultado = pd.DataFrame(resultado)\n",
    "    colunas = [i[0] for i in cur.description]\n",
    "    if resultado.shape[1] > 0:\n",
    "        resultado.columns = colunas\n",
    "    print(resultado.shape)\n",
    "    # display(resultado.head(3))\n",
    "    return resultado"
   ]
  },
  {
   "cell_type": "code",
   "execution_count": 66,
   "metadata": {},
   "outputs": [
    {
     "name": "stdout",
     "output_type": "stream",
     "text": [
      "(9, 5)\n"
     ]
    },
    {
     "data": {
      "text/html": [
       "<div>\n",
       "<style scoped>\n",
       "    .dataframe tbody tr th:only-of-type {\n",
       "        vertical-align: middle;\n",
       "    }\n",
       "\n",
       "    .dataframe tbody tr th {\n",
       "        vertical-align: top;\n",
       "    }\n",
       "\n",
       "    .dataframe thead th {\n",
       "        text-align: right;\n",
       "    }\n",
       "</style>\n",
       "<table border=\"1\" class=\"dataframe\">\n",
       "  <thead>\n",
       "    <tr style=\"text-align: right;\">\n",
       "      <th></th>\n",
       "      <th>type</th>\n",
       "      <th>name</th>\n",
       "      <th>tbl_name</th>\n",
       "      <th>rootpage</th>\n",
       "      <th>sql</th>\n",
       "    </tr>\n",
       "  </thead>\n",
       "  <tbody>\n",
       "    <tr>\n",
       "      <th>0</th>\n",
       "      <td>table</td>\n",
       "      <td>customers</td>\n",
       "      <td>customers</td>\n",
       "      <td>5018</td>\n",
       "      <td>CREATE TABLE \"customers\" (\\n\"index\" INTEGER,\\n...</td>\n",
       "    </tr>\n",
       "    <tr>\n",
       "      <th>1</th>\n",
       "      <td>table</td>\n",
       "      <td>geolocation</td>\n",
       "      <td>geolocation</td>\n",
       "      <td>7660</td>\n",
       "      <td>CREATE TABLE \"geolocation\" (\\n\"index\" INTEGER,...</td>\n",
       "    </tr>\n",
       "    <tr>\n",
       "      <th>2</th>\n",
       "      <td>table</td>\n",
       "      <td>order_items</td>\n",
       "      <td>order_items</td>\n",
       "      <td>22586</td>\n",
       "      <td>CREATE TABLE \"order_items\" (\\n\"index\" INTEGER,...</td>\n",
       "    </tr>\n",
       "    <tr>\n",
       "      <th>3</th>\n",
       "      <td>table</td>\n",
       "      <td>order_payments</td>\n",
       "      <td>order_payments</td>\n",
       "      <td>27121</td>\n",
       "      <td>CREATE TABLE \"order_payments\" (\\n\"index\" INTEG...</td>\n",
       "    </tr>\n",
       "    <tr>\n",
       "      <th>4</th>\n",
       "      <td>table</td>\n",
       "      <td>order_reviews</td>\n",
       "      <td>order_reviews</td>\n",
       "      <td>29140</td>\n",
       "      <td>CREATE TABLE \"order_reviews\" (\\n\"index\" INTEGE...</td>\n",
       "    </tr>\n",
       "    <tr>\n",
       "      <th>5</th>\n",
       "      <td>table</td>\n",
       "      <td>products</td>\n",
       "      <td>products</td>\n",
       "      <td>33215</td>\n",
       "      <td>CREATE TABLE \"products\" (\\n\"index\" INTEGER,\\n ...</td>\n",
       "    </tr>\n",
       "    <tr>\n",
       "      <th>6</th>\n",
       "      <td>table</td>\n",
       "      <td>sellers</td>\n",
       "      <td>sellers</td>\n",
       "      <td>33909</td>\n",
       "      <td>CREATE TABLE \"sellers\" (\\n\"index\" INTEGER,\\n  ...</td>\n",
       "    </tr>\n",
       "    <tr>\n",
       "      <th>7</th>\n",
       "      <td>table</td>\n",
       "      <td>product_category_name_translation</td>\n",
       "      <td>product_category_name_translation</td>\n",
       "      <td>33966</td>\n",
       "      <td>CREATE TABLE \"product_category_name_translatio...</td>\n",
       "    </tr>\n",
       "    <tr>\n",
       "      <th>8</th>\n",
       "      <td>table</td>\n",
       "      <td>orders</td>\n",
       "      <td>orders</td>\n",
       "      <td>2</td>\n",
       "      <td>CREATE TABLE \"orders\" (\\n\"index\" INTEGER,\\n  \"...</td>\n",
       "    </tr>\n",
       "  </tbody>\n",
       "</table>\n",
       "</div>"
      ],
      "text/plain": [
       "    type                               name   \n",
       "0  table                          customers  \\\n",
       "1  table                        geolocation   \n",
       "2  table                        order_items   \n",
       "3  table                     order_payments   \n",
       "4  table                      order_reviews   \n",
       "5  table                           products   \n",
       "6  table                            sellers   \n",
       "7  table  product_category_name_translation   \n",
       "8  table                             orders   \n",
       "\n",
       "                            tbl_name  rootpage   \n",
       "0                          customers      5018  \\\n",
       "1                        geolocation      7660   \n",
       "2                        order_items     22586   \n",
       "3                     order_payments     27121   \n",
       "4                      order_reviews     29140   \n",
       "5                           products     33215   \n",
       "6                            sellers     33909   \n",
       "7  product_category_name_translation     33966   \n",
       "8                             orders         2   \n",
       "\n",
       "                                                 sql  \n",
       "0  CREATE TABLE \"customers\" (\\n\"index\" INTEGER,\\n...  \n",
       "1  CREATE TABLE \"geolocation\" (\\n\"index\" INTEGER,...  \n",
       "2  CREATE TABLE \"order_items\" (\\n\"index\" INTEGER,...  \n",
       "3  CREATE TABLE \"order_payments\" (\\n\"index\" INTEG...  \n",
       "4  CREATE TABLE \"order_reviews\" (\\n\"index\" INTEGE...  \n",
       "5  CREATE TABLE \"products\" (\\n\"index\" INTEGER,\\n ...  \n",
       "6  CREATE TABLE \"sellers\" (\\n\"index\" INTEGER,\\n  ...  \n",
       "7  CREATE TABLE \"product_category_name_translatio...  \n",
       "8  CREATE TABLE \"orders\" (\\n\"index\" INTEGER,\\n  \"...  "
      ]
     },
     "execution_count": 66,
     "metadata": {},
     "output_type": "execute_result"
    }
   ],
   "source": [
    "# verificando as tabelas presentes no bando de dados\n",
    "executa_consulta('SELECT * FROM sqlite_schema WHERE type = \"table\"')"
   ]
  },
  {
   "cell_type": "markdown",
   "metadata": {},
   "source": [
    "`1.Verificando se o atraso é um problema real`"
   ]
  },
  {
   "cell_type": "code",
   "execution_count": 67,
   "metadata": {},
   "outputs": [
    {
     "name": "stdout",
     "output_type": "stream",
     "text": [
      "(99441, 9)\n"
     ]
    }
   ],
   "source": [
    "# visualizando a tabela de pedidos\n",
    "pedidos = executa_consulta('SELECT * FROM orders')"
   ]
  },
  {
   "cell_type": "code",
   "execution_count": 68,
   "metadata": {},
   "outputs": [
    {
     "name": "stdout",
     "output_type": "stream",
     "text": [
      "(99441, 4)\n"
     ]
    }
   ],
   "source": [
    "# selecionando apenas as colunas de interesse\n",
    "pedidos = executa_consulta('SELECT order_id, \\\n",
    "                           order_purchase_timestamp, \\\n",
    "                           order_delivered_customer_date, \\\n",
    "                           order_estimated_delivery_date \\\n",
    "                           FROM orders')"
   ]
  },
  {
   "cell_type": "code",
   "execution_count": 69,
   "metadata": {},
   "outputs": [
    {
     "name": "stdout",
     "output_type": "stream",
     "text": [
      "<class 'pandas.core.frame.DataFrame'>\n",
      "RangeIndex: 99441 entries, 0 to 99440\n",
      "Data columns (total 4 columns):\n",
      " #   Column                         Non-Null Count  Dtype \n",
      "---  ------                         --------------  ----- \n",
      " 0   order_id                       99441 non-null  object\n",
      " 1   order_purchase_timestamp       99441 non-null  object\n",
      " 2   order_delivered_customer_date  96476 non-null  object\n",
      " 3   order_estimated_delivery_date  99441 non-null  object\n",
      "dtypes: object(4)\n",
      "memory usage: 3.0+ MB\n"
     ]
    }
   ],
   "source": [
    "# verificando as informações da base\n",
    "pedidos.info()"
   ]
  },
  {
   "cell_type": "code",
   "execution_count": 70,
   "metadata": {},
   "outputs": [
    {
     "data": {
      "text/html": [
       "<div>\n",
       "<style scoped>\n",
       "    .dataframe tbody tr th:only-of-type {\n",
       "        vertical-align: middle;\n",
       "    }\n",
       "\n",
       "    .dataframe tbody tr th {\n",
       "        vertical-align: top;\n",
       "    }\n",
       "\n",
       "    .dataframe thead th {\n",
       "        text-align: right;\n",
       "    }\n",
       "</style>\n",
       "<table border=\"1\" class=\"dataframe\">\n",
       "  <thead>\n",
       "    <tr style=\"text-align: right;\">\n",
       "      <th></th>\n",
       "      <th>order_id</th>\n",
       "      <th>order_purchase_timestamp</th>\n",
       "      <th>order_delivered_customer_date</th>\n",
       "      <th>order_estimated_delivery_date</th>\n",
       "    </tr>\n",
       "  </thead>\n",
       "  <tbody>\n",
       "    <tr>\n",
       "      <th>6</th>\n",
       "      <td>136cce7faa42fdb2cefd53fdc79a6098</td>\n",
       "      <td>2017-04-11 12:22:08</td>\n",
       "      <td>None</td>\n",
       "      <td>2017-05-09 00:00:00</td>\n",
       "    </tr>\n",
       "    <tr>\n",
       "      <th>44</th>\n",
       "      <td>ee64d42b8cf066f35eac1cf57de1aa85</td>\n",
       "      <td>2018-06-04 16:44:48</td>\n",
       "      <td>None</td>\n",
       "      <td>2018-06-28 00:00:00</td>\n",
       "    </tr>\n",
       "    <tr>\n",
       "      <th>103</th>\n",
       "      <td>0760a852e4e9d89eb77bf631eaaf1c84</td>\n",
       "      <td>2018-08-03 17:44:42</td>\n",
       "      <td>None</td>\n",
       "      <td>2018-08-21 00:00:00</td>\n",
       "    </tr>\n",
       "    <tr>\n",
       "      <th>128</th>\n",
       "      <td>15bed8e2fec7fdbadb186b57c46c92f2</td>\n",
       "      <td>2017-09-03 14:22:03</td>\n",
       "      <td>None</td>\n",
       "      <td>2017-10-03 00:00:00</td>\n",
       "    </tr>\n",
       "    <tr>\n",
       "      <th>154</th>\n",
       "      <td>6942b8da583c2f9957e990d028607019</td>\n",
       "      <td>2018-01-10 11:33:07</td>\n",
       "      <td>None</td>\n",
       "      <td>2018-02-07 00:00:00</td>\n",
       "    </tr>\n",
       "    <tr>\n",
       "      <th>...</th>\n",
       "      <td>...</td>\n",
       "      <td>...</td>\n",
       "      <td>...</td>\n",
       "      <td>...</td>\n",
       "    </tr>\n",
       "    <tr>\n",
       "      <th>99283</th>\n",
       "      <td>3a3cddda5a7c27851bd96c3313412840</td>\n",
       "      <td>2018-08-31 16:13:44</td>\n",
       "      <td>None</td>\n",
       "      <td>2018-10-01 00:00:00</td>\n",
       "    </tr>\n",
       "    <tr>\n",
       "      <th>99313</th>\n",
       "      <td>e9e64a17afa9653aacf2616d94c005b8</td>\n",
       "      <td>2018-01-05 23:07:24</td>\n",
       "      <td>None</td>\n",
       "      <td>2018-02-06 00:00:00</td>\n",
       "    </tr>\n",
       "    <tr>\n",
       "      <th>99347</th>\n",
       "      <td>a89abace0dcc01eeb267a9660b5ac126</td>\n",
       "      <td>2018-09-06 18:45:47</td>\n",
       "      <td>None</td>\n",
       "      <td>2018-09-27 00:00:00</td>\n",
       "    </tr>\n",
       "    <tr>\n",
       "      <th>99348</th>\n",
       "      <td>a69ba794cc7deb415c3e15a0a3877e69</td>\n",
       "      <td>2017-08-23 16:28:04</td>\n",
       "      <td>None</td>\n",
       "      <td>2017-09-15 00:00:00</td>\n",
       "    </tr>\n",
       "    <tr>\n",
       "      <th>99415</th>\n",
       "      <td>5fabc81b6322c8443648e1b21a6fef21</td>\n",
       "      <td>2017-10-10 10:50:03</td>\n",
       "      <td>None</td>\n",
       "      <td>2017-10-23 00:00:00</td>\n",
       "    </tr>\n",
       "  </tbody>\n",
       "</table>\n",
       "<p>2965 rows × 4 columns</p>\n",
       "</div>"
      ],
      "text/plain": [
       "                               order_id order_purchase_timestamp   \n",
       "6      136cce7faa42fdb2cefd53fdc79a6098      2017-04-11 12:22:08  \\\n",
       "44     ee64d42b8cf066f35eac1cf57de1aa85      2018-06-04 16:44:48   \n",
       "103    0760a852e4e9d89eb77bf631eaaf1c84      2018-08-03 17:44:42   \n",
       "128    15bed8e2fec7fdbadb186b57c46c92f2      2017-09-03 14:22:03   \n",
       "154    6942b8da583c2f9957e990d028607019      2018-01-10 11:33:07   \n",
       "...                                 ...                      ...   \n",
       "99283  3a3cddda5a7c27851bd96c3313412840      2018-08-31 16:13:44   \n",
       "99313  e9e64a17afa9653aacf2616d94c005b8      2018-01-05 23:07:24   \n",
       "99347  a89abace0dcc01eeb267a9660b5ac126      2018-09-06 18:45:47   \n",
       "99348  a69ba794cc7deb415c3e15a0a3877e69      2017-08-23 16:28:04   \n",
       "99415  5fabc81b6322c8443648e1b21a6fef21      2017-10-10 10:50:03   \n",
       "\n",
       "      order_delivered_customer_date order_estimated_delivery_date  \n",
       "6                              None           2017-05-09 00:00:00  \n",
       "44                             None           2018-06-28 00:00:00  \n",
       "103                            None           2018-08-21 00:00:00  \n",
       "128                            None           2017-10-03 00:00:00  \n",
       "154                            None           2018-02-07 00:00:00  \n",
       "...                             ...                           ...  \n",
       "99283                          None           2018-10-01 00:00:00  \n",
       "99313                          None           2018-02-06 00:00:00  \n",
       "99347                          None           2018-09-27 00:00:00  \n",
       "99348                          None           2017-09-15 00:00:00  \n",
       "99415                          None           2017-10-23 00:00:00  \n",
       "\n",
       "[2965 rows x 4 columns]"
      ]
     },
     "execution_count": 70,
     "metadata": {},
     "output_type": "execute_result"
    }
   ],
   "source": [
    "# visualisando os itens nulos em order_delivered_customer_date\n",
    "\n",
    "pedidos[pedidos['order_delivered_customer_date'].isnull()]"
   ]
  },
  {
   "cell_type": "code",
   "execution_count": 71,
   "metadata": {},
   "outputs": [],
   "source": [
    "# fazendo o tratamento para as colunas de datas\n",
    "\n",
    "datas = ['order_purchase_timestamp','order_delivered_customer_date','order_estimated_delivery_date']\n",
    "\n",
    "for i in datas:\n",
    "    pedidos[i] = pd.to_datetime(pedidos[i], format='%Y-%m-%d %H:%M:%S')"
   ]
  },
  {
   "cell_type": "code",
   "execution_count": 72,
   "metadata": {},
   "outputs": [
    {
     "name": "stdout",
     "output_type": "stream",
     "text": [
      "<class 'pandas.core.frame.DataFrame'>\n",
      "RangeIndex: 99441 entries, 0 to 99440\n",
      "Data columns (total 4 columns):\n",
      " #   Column                         Non-Null Count  Dtype         \n",
      "---  ------                         --------------  -----         \n",
      " 0   order_id                       99441 non-null  object        \n",
      " 1   order_purchase_timestamp       99441 non-null  datetime64[ns]\n",
      " 2   order_delivered_customer_date  96476 non-null  datetime64[ns]\n",
      " 3   order_estimated_delivery_date  99441 non-null  datetime64[ns]\n",
      "dtypes: datetime64[ns](3), object(1)\n",
      "memory usage: 3.0+ MB\n"
     ]
    }
   ],
   "source": [
    "# verificando se foi alterado as datas\n",
    "pedidos.info()"
   ]
  },
  {
   "cell_type": "code",
   "execution_count": 73,
   "metadata": {},
   "outputs": [
    {
     "name": "stdout",
     "output_type": "stream",
     "text": [
      "(96476, 4)\n"
     ]
    },
    {
     "data": {
      "text/html": [
       "<div>\n",
       "<style scoped>\n",
       "    .dataframe tbody tr th:only-of-type {\n",
       "        vertical-align: middle;\n",
       "    }\n",
       "\n",
       "    .dataframe tbody tr th {\n",
       "        vertical-align: top;\n",
       "    }\n",
       "\n",
       "    .dataframe thead th {\n",
       "        text-align: right;\n",
       "    }\n",
       "</style>\n",
       "<table border=\"1\" class=\"dataframe\">\n",
       "  <thead>\n",
       "    <tr style=\"text-align: right;\">\n",
       "      <th></th>\n",
       "      <th>order_id</th>\n",
       "      <th>order_purchase_timestamp</th>\n",
       "      <th>order_delivered_customer_date</th>\n",
       "      <th>order_estimated_delivery_date</th>\n",
       "    </tr>\n",
       "  </thead>\n",
       "  <tbody>\n",
       "    <tr>\n",
       "      <th>0</th>\n",
       "      <td>e481f51cbdc54678b7cc49136f2d6af7</td>\n",
       "      <td>2017-10-02 10:56:33</td>\n",
       "      <td>2017-10-10 21:25:13</td>\n",
       "      <td>2017-10-18 00:00:00</td>\n",
       "    </tr>\n",
       "    <tr>\n",
       "      <th>1</th>\n",
       "      <td>53cdb2fc8bc7dce0b6741e2150273451</td>\n",
       "      <td>2018-07-24 20:41:37</td>\n",
       "      <td>2018-08-07 15:27:45</td>\n",
       "      <td>2018-08-13 00:00:00</td>\n",
       "    </tr>\n",
       "    <tr>\n",
       "      <th>2</th>\n",
       "      <td>47770eb9100c2d0c44946d9cf07ec65d</td>\n",
       "      <td>2018-08-08 08:38:49</td>\n",
       "      <td>2018-08-17 18:06:29</td>\n",
       "      <td>2018-09-04 00:00:00</td>\n",
       "    </tr>\n",
       "  </tbody>\n",
       "</table>\n",
       "</div>"
      ],
      "text/plain": [
       "                           order_id order_purchase_timestamp   \n",
       "0  e481f51cbdc54678b7cc49136f2d6af7      2017-10-02 10:56:33  \\\n",
       "1  53cdb2fc8bc7dce0b6741e2150273451      2018-07-24 20:41:37   \n",
       "2  47770eb9100c2d0c44946d9cf07ec65d      2018-08-08 08:38:49   \n",
       "\n",
       "  order_delivered_customer_date order_estimated_delivery_date  \n",
       "0           2017-10-10 21:25:13           2017-10-18 00:00:00  \n",
       "1           2018-08-07 15:27:45           2018-08-13 00:00:00  \n",
       "2           2018-08-17 18:06:29           2018-09-04 00:00:00  "
      ]
     },
     "execution_count": 73,
     "metadata": {},
     "output_type": "execute_result"
    }
   ],
   "source": [
    "# mostrando as colunas de interesse\n",
    "pedidos = executa_consulta('SELECT order_id, \\\n",
    "                           order_purchase_timestamp, \\\n",
    "                           order_delivered_customer_date, \\\n",
    "                           order_estimated_delivery_date \\\n",
    "                           FROM orders \\\n",
    "                           WHERE order_delivered_customer_date IS NOT NULL')\n",
    "pedidos.head(3)"
   ]
  },
  {
   "cell_type": "code",
   "execution_count": 74,
   "metadata": {},
   "outputs": [
    {
     "data": {
      "text/html": [
       "<div>\n",
       "<style scoped>\n",
       "    .dataframe tbody tr th:only-of-type {\n",
       "        vertical-align: middle;\n",
       "    }\n",
       "\n",
       "    .dataframe tbody tr th {\n",
       "        vertical-align: top;\n",
       "    }\n",
       "\n",
       "    .dataframe thead th {\n",
       "        text-align: right;\n",
       "    }\n",
       "</style>\n",
       "<table border=\"1\" class=\"dataframe\">\n",
       "  <thead>\n",
       "    <tr style=\"text-align: right;\">\n",
       "      <th></th>\n",
       "      <th>order_id</th>\n",
       "      <th>order_purchase_timestamp</th>\n",
       "      <th>order_delivered_customer_date</th>\n",
       "      <th>order_estimated_delivery_date</th>\n",
       "      <th>delivery_delayed</th>\n",
       "    </tr>\n",
       "  </thead>\n",
       "  <tbody>\n",
       "    <tr>\n",
       "      <th>0</th>\n",
       "      <td>e481f51cbdc54678b7cc49136f2d6af7</td>\n",
       "      <td>2017-10-02 10:56:33</td>\n",
       "      <td>2017-10-10 21:25:13</td>\n",
       "      <td>2017-10-18 00:00:00</td>\n",
       "      <td>OK</td>\n",
       "    </tr>\n",
       "    <tr>\n",
       "      <th>1</th>\n",
       "      <td>53cdb2fc8bc7dce0b6741e2150273451</td>\n",
       "      <td>2018-07-24 20:41:37</td>\n",
       "      <td>2018-08-07 15:27:45</td>\n",
       "      <td>2018-08-13 00:00:00</td>\n",
       "      <td>OK</td>\n",
       "    </tr>\n",
       "    <tr>\n",
       "      <th>2</th>\n",
       "      <td>47770eb9100c2d0c44946d9cf07ec65d</td>\n",
       "      <td>2018-08-08 08:38:49</td>\n",
       "      <td>2018-08-17 18:06:29</td>\n",
       "      <td>2018-09-04 00:00:00</td>\n",
       "      <td>OK</td>\n",
       "    </tr>\n",
       "  </tbody>\n",
       "</table>\n",
       "</div>"
      ],
      "text/plain": [
       "                           order_id order_purchase_timestamp   \n",
       "0  e481f51cbdc54678b7cc49136f2d6af7      2017-10-02 10:56:33  \\\n",
       "1  53cdb2fc8bc7dce0b6741e2150273451      2018-07-24 20:41:37   \n",
       "2  47770eb9100c2d0c44946d9cf07ec65d      2018-08-08 08:38:49   \n",
       "\n",
       "  order_delivered_customer_date order_estimated_delivery_date delivery_delayed  \n",
       "0           2017-10-10 21:25:13           2017-10-18 00:00:00               OK  \n",
       "1           2018-08-07 15:27:45           2018-08-13 00:00:00               OK  \n",
       "2           2018-08-17 18:06:29           2018-09-04 00:00:00               OK  "
      ]
     },
     "execution_count": 74,
     "metadata": {},
     "output_type": "execute_result"
    }
   ],
   "source": [
    "pedidos['delivery_delayed'] = pedidos['order_delivered_customer_date'] > pedidos['order_estimated_delivery_date']\n",
    "\n",
    "pedidos['delivery_delayed'] = pedidos['delivery_delayed'].replace(True,'ATRASADO').replace(False,'OK')\n",
    "# pedidos['delivery_delayed'] = pedidos['delivery_delayed'].replace({True: 'Pedido atrasado', False: 'Pedido em dia'})\n",
    "\n",
    "pedidos.head(3)"
   ]
  },
  {
   "cell_type": "code",
   "execution_count": 75,
   "metadata": {},
   "outputs": [
    {
     "data": {
      "text/plain": [
       "delivery_delayed\n",
       "OK          88649\n",
       "ATRASADO     7827\n",
       "Name: delivery_delayed, dtype: int64"
      ]
     },
     "execution_count": 75,
     "metadata": {},
     "output_type": "execute_result"
    }
   ],
   "source": [
    "# Fazendo o group by para obter a contagem de verdadeiros e falsos\n",
    "\n",
    "pedidos.groupby('delivery_delayed')['delivery_delayed'].count().sort_values(ascending=False)"
   ]
  },
  {
   "cell_type": "code",
   "execution_count": 76,
   "metadata": {},
   "outputs": [
    {
     "name": "stdout",
     "output_type": "stream",
     "text": [
      "<class 'pandas.core.frame.DataFrame'>\n",
      "RangeIndex: 96476 entries, 0 to 96475\n",
      "Data columns (total 5 columns):\n",
      " #   Column                         Non-Null Count  Dtype \n",
      "---  ------                         --------------  ----- \n",
      " 0   order_id                       96476 non-null  object\n",
      " 1   order_purchase_timestamp       96476 non-null  object\n",
      " 2   order_delivered_customer_date  96476 non-null  object\n",
      " 3   order_estimated_delivery_date  96476 non-null  object\n",
      " 4   delivery_delayed               96476 non-null  object\n",
      "dtypes: object(5)\n",
      "memory usage: 3.7+ MB\n"
     ]
    }
   ],
   "source": [
    "pedidos.info()"
   ]
  },
  {
   "cell_type": "code",
   "execution_count": 77,
   "metadata": {},
   "outputs": [],
   "source": [
    "# fazendo o tratamento novamente para as colunas de datas\n",
    "\n",
    "datas = ['order_purchase_timestamp','order_delivered_customer_date','order_estimated_delivery_date']\n",
    "\n",
    "for i in datas:\n",
    "    pedidos[i] = pd.to_datetime(pedidos[i], format='%Y-%m-%d %H:%M:%S')"
   ]
  },
  {
   "cell_type": "code",
   "execution_count": 78,
   "metadata": {},
   "outputs": [],
   "source": [
    "import datetime as dt\n",
    "\n",
    "# considerando pedidos feitos apos 2017\n",
    "\n",
    "pedidos = pedidos[pedidos.order_purchase_timestamp.dt.year >= 2017]"
   ]
  },
  {
   "cell_type": "code",
   "execution_count": 79,
   "metadata": {},
   "outputs": [
    {
     "data": {
      "text/html": [
       "<div>\n",
       "<style scoped>\n",
       "    .dataframe tbody tr th:only-of-type {\n",
       "        vertical-align: middle;\n",
       "    }\n",
       "\n",
       "    .dataframe tbody tr th {\n",
       "        vertical-align: top;\n",
       "    }\n",
       "\n",
       "    .dataframe thead th {\n",
       "        text-align: right;\n",
       "    }\n",
       "</style>\n",
       "<table border=\"1\" class=\"dataframe\">\n",
       "  <thead>\n",
       "    <tr style=\"text-align: right;\">\n",
       "      <th></th>\n",
       "      <th>order_id</th>\n",
       "      <th>order_purchase_timestamp</th>\n",
       "      <th>order_delivered_customer_date</th>\n",
       "      <th>order_estimated_delivery_date</th>\n",
       "      <th>delivery_delayed</th>\n",
       "      <th>atraso</th>\n",
       "    </tr>\n",
       "  </thead>\n",
       "  <tbody>\n",
       "    <tr>\n",
       "      <th>0</th>\n",
       "      <td>e481f51cbdc54678b7cc49136f2d6af7</td>\n",
       "      <td>2017-10-02 10:56:33</td>\n",
       "      <td>2017-10-10 21:25:13</td>\n",
       "      <td>2017-10-18</td>\n",
       "      <td>OK</td>\n",
       "      <td>7</td>\n",
       "    </tr>\n",
       "    <tr>\n",
       "      <th>1</th>\n",
       "      <td>53cdb2fc8bc7dce0b6741e2150273451</td>\n",
       "      <td>2018-07-24 20:41:37</td>\n",
       "      <td>2018-08-07 15:27:45</td>\n",
       "      <td>2018-08-13</td>\n",
       "      <td>OK</td>\n",
       "      <td>5</td>\n",
       "    </tr>\n",
       "    <tr>\n",
       "      <th>2</th>\n",
       "      <td>47770eb9100c2d0c44946d9cf07ec65d</td>\n",
       "      <td>2018-08-08 08:38:49</td>\n",
       "      <td>2018-08-17 18:06:29</td>\n",
       "      <td>2018-09-04</td>\n",
       "      <td>OK</td>\n",
       "      <td>17</td>\n",
       "    </tr>\n",
       "  </tbody>\n",
       "</table>\n",
       "</div>"
      ],
      "text/plain": [
       "                           order_id order_purchase_timestamp   \n",
       "0  e481f51cbdc54678b7cc49136f2d6af7      2017-10-02 10:56:33  \\\n",
       "1  53cdb2fc8bc7dce0b6741e2150273451      2018-07-24 20:41:37   \n",
       "2  47770eb9100c2d0c44946d9cf07ec65d      2018-08-08 08:38:49   \n",
       "\n",
       "  order_delivered_customer_date order_estimated_delivery_date   \n",
       "0           2017-10-10 21:25:13                    2017-10-18  \\\n",
       "1           2018-08-07 15:27:45                    2018-08-13   \n",
       "2           2018-08-17 18:06:29                    2018-09-04   \n",
       "\n",
       "  delivery_delayed  atraso  \n",
       "0               OK       7  \n",
       "1               OK       5  \n",
       "2               OK      17  "
      ]
     },
     "execution_count": 79,
     "metadata": {},
     "output_type": "execute_result"
    }
   ],
   "source": [
    "# temos os dados que muitas entregas atrasam, vamos mostrar quanto tempo elas atrasam\n",
    "\n",
    "pedidos = pedidos.copy()\n",
    "# Calcula a diferença entre a data de entrega real e a data estimada de entrega\n",
    "# pedidos['atraso'] = (pedidos['order_estimated_delivery_date'] - pedidos['order_delivered_customer_date']).dt.days\n",
    "\n",
    "\n",
    "pedidos['atraso'] = (pedidos.order_estimated_delivery_date - pedidos.order_delivered_customer_date).dt.days\n",
    "\n",
    "pedidos.head(3)\n"
   ]
  },
  {
   "cell_type": "code",
   "execution_count": 80,
   "metadata": {},
   "outputs": [
    {
     "data": {
      "text/plain": [
       "10.80772109267806"
      ]
     },
     "execution_count": 80,
     "metadata": {},
     "output_type": "execute_result"
    }
   ],
   "source": [
    "# Verificando a media dos atrasos\n",
    "\n",
    "pedidos['atraso'].mean()\n",
    "\n",
    "# confimamos que os pedidos são entregues em media 11 dias antes"
   ]
  },
  {
   "cell_type": "markdown",
   "metadata": {},
   "source": [
    "## Mostrando um grafico o numero de entregas atrasadas e em dia"
   ]
  },
  {
   "cell_type": "code",
   "execution_count": 81,
   "metadata": {},
   "outputs": [
    {
     "data": {
      "text/plain": [
       "delivery_delayed  atraso\n",
       "OK                 13       7124\n",
       "                   12       5960\n",
       "                   14       5344\n",
       "                   6        4836\n",
       "                   7        4825\n",
       "                            ... \n",
       "ATRASADO          -92          1\n",
       "                  -95          1\n",
       "                  -98          1\n",
       "                  -101         1\n",
       "OK                 146         1\n",
       "Name: delivery_delayed, Length: 197, dtype: int64"
      ]
     },
     "execution_count": 81,
     "metadata": {},
     "output_type": "execute_result"
    }
   ],
   "source": [
    "pedidos.groupby(['delivery_delayed','atraso'])['delivery_delayed'].count().sort_values(ascending=False)"
   ]
  },
  {
   "cell_type": "code",
   "execution_count": 82,
   "metadata": {},
   "outputs": [
    {
     "data": {
      "image/png": "[encoded data removed]",
      "text/plain": [
       "<Figure size 900x400 with 1 Axes>"
      ]
     },
     "metadata": {},
     "output_type": "display_data"
    }
   ],
   "source": [
    "import matplotlib.pyplot as plt\n",
    "import numpy as np\n",
    "\n",
    "\n",
    "fig,ax = plt.subplots(\n",
    "            figsize = (9,4) # Tamanho da figura\n",
    "        )\n",
    "\n",
    "ax = pedidos['delivery_delayed'].value_counts().plot(kind='bar', color=['green', 'red'])\n",
    "\n",
    "ax.set_title(\"Entregas Atrasadas vs. Em Dia\", # Título do gráfico\n",
    "             fontsize=20, # Tamanho da fonte\n",
    "             fontweight='bold', # Espessura da fonte\n",
    "             color='#00b247' # Cor da fonte\n",
    "            )\n",
    "\n",
    "plt.xlabel(\"Status de Entrega\", # Título do gráfico\n",
    "             fontsize=10, # Tamanho da fonte\n",
    "             fontweight='bold', # Espessura da fonte\n",
    "             color='#00b247' # Cor da fonte\n",
    "            )\n",
    "\n",
    "\n",
    "\n",
    "plt.xticks([0, 1], ['Em Dia', 'Atrasado'], rotation=0, color='green',\n",
    "           fontweight='bold', # Espessura da fonte dos rótulos)\n",
    ")\n",
    "ax.tick_params(axis='x',labelsize=14) # Melhorando o visual do eixo x\n",
    "\n",
    "\n",
    "\n",
    "# Ver como  usar o Annotate para fazer essa parte\n",
    "# Adiciona a numeração do eixo y acima das barras\n",
    "for bar in ax.patches:\n",
    "    yval = bar.get_height()\n",
    "    plt.text(bar.get_x() + bar.get_width()/2, yval + 0.05, round(yval, 1), ha='center',\n",
    "    va='bottom',\n",
    "    fontsize=14, # Tamanho da fonte dos rótulos\n",
    "    fontweight='bold', # Espessura da fonte dos rótulos\n",
    "    color=\"green\", # Cor dos rótulos\n",
    "    )\n",
    "\n",
    "\n",
    "\n",
    "ax.set_yticks(np.array([0,120000])) # Diminuindo o tamanho das barras para não cortar o rótulo\n",
    "ax.yaxis.set_visible(False) # Retirando os valores do eixo y\n",
    "\n",
    "ax.spines['top'].set_visible(False) # Retirando os traços do gráfico\n",
    "ax.spines['left'].set_visible(False)\n",
    "ax.spines['right'].set_visible(False)\n",
    "\n",
    "plt.show()"
   ]
  },
  {
   "cell_type": "markdown",
   "metadata": {},
   "source": [
    "- Para verificar o mes que a compra foi feita pode-se utilizar o `to_period`"
   ]
  },
  {
   "cell_type": "code",
   "execution_count": 83,
   "metadata": {},
   "outputs": [
    {
     "data": {
      "text/html": [
       "<div>\n",
       "<style scoped>\n",
       "    .dataframe tbody tr th:only-of-type {\n",
       "        vertical-align: middle;\n",
       "    }\n",
       "\n",
       "    .dataframe tbody tr th {\n",
       "        vertical-align: top;\n",
       "    }\n",
       "\n",
       "    .dataframe thead th {\n",
       "        text-align: right;\n",
       "    }\n",
       "</style>\n",
       "<table border=\"1\" class=\"dataframe\">\n",
       "  <thead>\n",
       "    <tr style=\"text-align: right;\">\n",
       "      <th></th>\n",
       "      <th>order_id</th>\n",
       "      <th>order_purchase_timestamp</th>\n",
       "      <th>order_delivered_customer_date</th>\n",
       "      <th>order_estimated_delivery_date</th>\n",
       "      <th>delivery_delayed</th>\n",
       "      <th>atraso</th>\n",
       "      <th>mes</th>\n",
       "    </tr>\n",
       "  </thead>\n",
       "  <tbody>\n",
       "    <tr>\n",
       "      <th>0</th>\n",
       "      <td>e481f51cbdc54678b7cc49136f2d6af7</td>\n",
       "      <td>2017-10-02 10:56:33</td>\n",
       "      <td>2017-10-10 21:25:13</td>\n",
       "      <td>2017-10-18</td>\n",
       "      <td>OK</td>\n",
       "      <td>7</td>\n",
       "      <td>2017-10</td>\n",
       "    </tr>\n",
       "    <tr>\n",
       "      <th>1</th>\n",
       "      <td>53cdb2fc8bc7dce0b6741e2150273451</td>\n",
       "      <td>2018-07-24 20:41:37</td>\n",
       "      <td>2018-08-07 15:27:45</td>\n",
       "      <td>2018-08-13</td>\n",
       "      <td>OK</td>\n",
       "      <td>5</td>\n",
       "      <td>2018-07</td>\n",
       "    </tr>\n",
       "    <tr>\n",
       "      <th>2</th>\n",
       "      <td>47770eb9100c2d0c44946d9cf07ec65d</td>\n",
       "      <td>2018-08-08 08:38:49</td>\n",
       "      <td>2018-08-17 18:06:29</td>\n",
       "      <td>2018-09-04</td>\n",
       "      <td>OK</td>\n",
       "      <td>17</td>\n",
       "      <td>2018-08</td>\n",
       "    </tr>\n",
       "  </tbody>\n",
       "</table>\n",
       "</div>"
      ],
      "text/plain": [
       "                           order_id order_purchase_timestamp   \n",
       "0  e481f51cbdc54678b7cc49136f2d6af7      2017-10-02 10:56:33  \\\n",
       "1  53cdb2fc8bc7dce0b6741e2150273451      2018-07-24 20:41:37   \n",
       "2  47770eb9100c2d0c44946d9cf07ec65d      2018-08-08 08:38:49   \n",
       "\n",
       "  order_delivered_customer_date order_estimated_delivery_date   \n",
       "0           2017-10-10 21:25:13                    2017-10-18  \\\n",
       "1           2018-08-07 15:27:45                    2018-08-13   \n",
       "2           2018-08-17 18:06:29                    2018-09-04   \n",
       "\n",
       "  delivery_delayed  atraso      mes  \n",
       "0               OK       7  2017-10  \n",
       "1               OK       5  2018-07  \n",
       "2               OK      17  2018-08  "
      ]
     },
     "execution_count": 83,
     "metadata": {},
     "output_type": "execute_result"
    }
   ],
   "source": [
    "# Verificando o periodo (mes/ano) da compra\n",
    "\n",
    "pedidos['mes'] = pedidos.order_purchase_timestamp.dt.to_period(\"M\")\n",
    "\n",
    "pedidos.head(3)"
   ]
  },
  {
   "cell_type": "code",
   "execution_count": 84,
   "metadata": {},
   "outputs": [
    {
     "data": {
      "image/png": "[encoded data removed]",
      "text/plain": [
       "<Figure size 640x480 with 1 Axes>"
      ]
     },
     "metadata": {},
     "output_type": "display_data"
    }
   ],
   "source": [
    "# Verificar o atraso por mês\n",
    "pedidos.groupby('mes')['atraso'].mean().plot.bar();"
   ]
  },
  {
   "cell_type": "code",
   "execution_count": 85,
   "metadata": {},
   "outputs": [
    {
     "name": "stdout",
     "output_type": "stream",
     "text": [
      "(2965, 9)\n"
     ]
    },
    {
     "data": {
      "text/html": [
       "<div>\n",
       "<style scoped>\n",
       "    .dataframe tbody tr th:only-of-type {\n",
       "        vertical-align: middle;\n",
       "    }\n",
       "\n",
       "    .dataframe tbody tr th {\n",
       "        vertical-align: top;\n",
       "    }\n",
       "\n",
       "    .dataframe thead th {\n",
       "        text-align: right;\n",
       "    }\n",
       "</style>\n",
       "<table border=\"1\" class=\"dataframe\">\n",
       "  <thead>\n",
       "    <tr style=\"text-align: right;\">\n",
       "      <th></th>\n",
       "      <th>index</th>\n",
       "      <th>order_id</th>\n",
       "      <th>customer_id</th>\n",
       "      <th>order_status</th>\n",
       "      <th>order_purchase_timestamp</th>\n",
       "      <th>order_approved_at</th>\n",
       "      <th>order_delivered_carrier_date</th>\n",
       "      <th>order_delivered_customer_date</th>\n",
       "      <th>order_estimated_delivery_date</th>\n",
       "    </tr>\n",
       "  </thead>\n",
       "  <tbody>\n",
       "    <tr>\n",
       "      <th>0</th>\n",
       "      <td>6</td>\n",
       "      <td>136cce7faa42fdb2cefd53fdc79a6098</td>\n",
       "      <td>ed0271e0b7da060a393796590e7b737a</td>\n",
       "      <td>invoiced</td>\n",
       "      <td>2017-04-11 12:22:08</td>\n",
       "      <td>2017-04-13 13:25:17</td>\n",
       "      <td>None</td>\n",
       "      <td>None</td>\n",
       "      <td>2017-05-09 00:00:00</td>\n",
       "    </tr>\n",
       "    <tr>\n",
       "      <th>1</th>\n",
       "      <td>44</td>\n",
       "      <td>ee64d42b8cf066f35eac1cf57de1aa85</td>\n",
       "      <td>caded193e8e47b8362864762a83db3c5</td>\n",
       "      <td>shipped</td>\n",
       "      <td>2018-06-04 16:44:48</td>\n",
       "      <td>2018-06-05 04:31:18</td>\n",
       "      <td>2018-06-05 14:32:00</td>\n",
       "      <td>None</td>\n",
       "      <td>2018-06-28 00:00:00</td>\n",
       "    </tr>\n",
       "    <tr>\n",
       "      <th>2</th>\n",
       "      <td>103</td>\n",
       "      <td>0760a852e4e9d89eb77bf631eaaf1c84</td>\n",
       "      <td>d2a79636084590b7465af8ab374a8cf5</td>\n",
       "      <td>invoiced</td>\n",
       "      <td>2018-08-03 17:44:42</td>\n",
       "      <td>2018-08-07 06:15:14</td>\n",
       "      <td>None</td>\n",
       "      <td>None</td>\n",
       "      <td>2018-08-21 00:00:00</td>\n",
       "    </tr>\n",
       "  </tbody>\n",
       "</table>\n",
       "</div>"
      ],
      "text/plain": [
       "   index                          order_id                       customer_id   \n",
       "0      6  136cce7faa42fdb2cefd53fdc79a6098  ed0271e0b7da060a393796590e7b737a  \\\n",
       "1     44  ee64d42b8cf066f35eac1cf57de1aa85  caded193e8e47b8362864762a83db3c5   \n",
       "2    103  0760a852e4e9d89eb77bf631eaaf1c84  d2a79636084590b7465af8ab374a8cf5   \n",
       "\n",
       "  order_status order_purchase_timestamp    order_approved_at   \n",
       "0     invoiced      2017-04-11 12:22:08  2017-04-13 13:25:17  \\\n",
       "1      shipped      2018-06-04 16:44:48  2018-06-05 04:31:18   \n",
       "2     invoiced      2018-08-03 17:44:42  2018-08-07 06:15:14   \n",
       "\n",
       "  order_delivered_carrier_date order_delivered_customer_date   \n",
       "0                         None                          None  \\\n",
       "1          2018-06-05 14:32:00                          None   \n",
       "2                         None                          None   \n",
       "\n",
       "  order_estimated_delivery_date  \n",
       "0           2017-05-09 00:00:00  \n",
       "1           2018-06-28 00:00:00  \n",
       "2           2018-08-21 00:00:00  "
      ]
     },
     "execution_count": 85,
     "metadata": {},
     "output_type": "execute_result"
    }
   ],
   "source": [
    "# Existem encomendas que ainda não foram entregues\n",
    "executa_consulta('SELECT * FROM orders WHERE order_delivered_customer_date IS NULL').head(3)"
   ]
  },
  {
   "cell_type": "code",
   "execution_count": 86,
   "metadata": {},
   "outputs": [],
   "source": [
    "# Analisando a média o máximo e o mínimo\n",
    "media = pedidos.groupby('mes')['atraso'].mean()\n",
    "minimo = pedidos.groupby('mes')['atraso'].min()\n",
    "maximo = pedidos.groupby('mes')['atraso'].max()"
   ]
  },
  {
   "cell_type": "code",
   "execution_count": 87,
   "metadata": {},
   "outputs": [],
   "source": [
    "import matplotlib.pyplot as plt\n",
    "import numpy as np"
   ]
  },
  {
   "cell_type": "code",
   "execution_count": 88,
   "metadata": {},
   "outputs": [
    {
     "data": {
      "text/plain": [
       "PeriodIndex(['2017-01', '2017-02', '2017-03', '2017-04', '2017-05', '2017-06',\n",
       "             '2017-07', '2017-08', '2017-09', '2017-10', '2017-11', '2017-12',\n",
       "             '2018-01', '2018-02', '2018-03', '2018-04', '2018-05', '2018-06',\n",
       "             '2018-07', '2018-08'],\n",
       "            dtype='period[M]', name='mes')"
      ]
     },
     "execution_count": 88,
     "metadata": {},
     "output_type": "execute_result"
    }
   ],
   "source": [
    "media.index"
   ]
  },
  {
   "cell_type": "code",
   "execution_count": 89,
   "metadata": {},
   "outputs": [
    {
     "data": {
      "text/plain": [
       "array([26.408     , 18.1954023 , 11.32717989, 11.97177594, 12.49788434,\n",
       "       11.64433812, 11.47081612, 12.09754352, 10.34819277, 10.92340331,\n",
       "        7.12349067, 12.0085253 , 11.9343613 ,  7.28767541,  5.42767385,\n",
       "       11.89511621, 11.19099126, 18.24409449, 10.44152047,  7.16217918])"
      ]
     },
     "execution_count": 89,
     "metadata": {},
     "output_type": "execute_result"
    }
   ],
   "source": [
    "media.values"
   ]
  },
  {
   "cell_type": "code",
   "execution_count": 90,
   "metadata": {},
   "outputs": [
    {
     "data": {
      "image/png": "[encoded data removed]",
      "text/plain": [
       "<Figure size 900x400 with 1 Axes>"
      ]
     },
     "metadata": {},
     "output_type": "display_data"
    }
   ],
   "source": [
    "# plotando graficamente\n",
    "\n",
    "fig, ax = plt.subplots(\n",
    "    figsize = (9,4) # Tamanho da figura\n",
    ")\n",
    "\n",
    "ax.plot(media.index.to_timestamp(), media.values, label='Media')\n",
    "ax.bar(minimo.index.to_timestamp(), minimo.values, width=15, label='Minimo')\n",
    "ax.bar(maximo.index.to_timestamp(), maximo.values, width=15, label='Maximo')\n",
    "\n",
    "plt.xticks(rotation=45)\n",
    "ax.legend()\n",
    "\n",
    "plt.show()"
   ]
  }
 ],
 "metadata": {
  "kernelspec": {
   "display_name": "Python 3",
   "language": "python",
   "name": "python3"
  },
  "language_info": {
   "codemirror_mode": {
    "name": "ipython",
    "version": 3
   },
   "file_extension": ".py",
   "mimetype": "text/x-python",
   "name": "python",
   "nbconvert_exporter": "python",
   "pygments_lexer": "ipython3",
   "version": "3.11.3"
  }
 },
 "nbformat": 4,
 "nbformat_minor": 2
}
