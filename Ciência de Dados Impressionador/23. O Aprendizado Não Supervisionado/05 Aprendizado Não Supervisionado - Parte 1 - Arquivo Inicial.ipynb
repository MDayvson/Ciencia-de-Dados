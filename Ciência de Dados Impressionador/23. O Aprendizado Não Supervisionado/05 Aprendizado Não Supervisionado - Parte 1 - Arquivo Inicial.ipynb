{
 "cells": [
  {
   "cell_type": "markdown",
   "id": "c1e2835d",
   "metadata": {},
   "source": [
    "# Aprendizado Não Supervisionado"
   ]
  },
  {
   "cell_type": "markdown",
   "id": "55ce6e11",
   "metadata": {},
   "source": [
    "- Importando o dataset iris\n",
    "    - https://scikit-learn.org/stable/modules/generated/sklearn.datasets.load_iris.html"
   ]
  },
  {
   "cell_type": "code",
   "execution_count": null,
   "id": "bdf72c30",
   "metadata": {},
   "outputs": [],
   "source": [
    "# Importando o dataset iris"
   ]
  },
  {
   "cell_type": "code",
   "execution_count": null,
   "id": "9f2414bf",
   "metadata": {},
   "outputs": [],
   "source": [
    "# Visualizando X"
   ]
  },
  {
   "cell_type": "code",
   "execution_count": null,
   "id": "68a3976a",
   "metadata": {},
   "outputs": [],
   "source": [
    "# Selecionando apenas as colunas de pétala"
   ]
  },
  {
   "cell_type": "markdown",
   "id": "93b8f237",
   "metadata": {},
   "source": [
    "- **Visualizando graficamente os pontos**\n",
    "    - https://matplotlib.org/stable/plot_types/basic/scatter_plot.html#sphx-glr-plot-types-basic-scatter-plot-py"
   ]
  },
  {
   "cell_type": "code",
   "execution_count": null,
   "id": "eccf454b",
   "metadata": {},
   "outputs": [],
   "source": [
    "# Plotando esse gráfico"
   ]
  },
  {
   "cell_type": "markdown",
   "id": "0a6edb61",
   "metadata": {},
   "source": [
    "- **Utilizando o K-means**\n",
    "    - https://scikit-learn.org/stable/modules/generated/sklearn.cluster.KMeans.html"
   ]
  },
  {
   "cell_type": "code",
   "execution_count": null,
   "id": "86f30d45",
   "metadata": {},
   "outputs": [],
   "source": [
    "# Importando o KMeans"
   ]
  },
  {
   "cell_type": "code",
   "execution_count": null,
   "id": "ceff1cda",
   "metadata": {},
   "outputs": [],
   "source": [
    "# Utilizando o algoritmo"
   ]
  },
  {
   "cell_type": "code",
   "execution_count": null,
   "id": "2f14860e",
   "metadata": {},
   "outputs": [],
   "source": [
    "# Verificando quais foram os labels determinados pelo k-means"
   ]
  },
  {
   "cell_type": "code",
   "execution_count": null,
   "id": "521787b5",
   "metadata": {},
   "outputs": [],
   "source": [
    "# Visualizando graficamente"
   ]
  },
  {
   "cell_type": "markdown",
   "id": "53af11f8",
   "metadata": {},
   "source": [
    "- **Esse ponto distante dos pontos em amarelo, deveria realmente estar como amarelo?**"
   ]
  },
  {
   "cell_type": "code",
   "execution_count": null,
   "id": "58960983",
   "metadata": {},
   "outputs": [],
   "source": [
    "# Quem é esse ponto?"
   ]
  },
  {
   "cell_type": "code",
   "execution_count": null,
   "id": "445c6517",
   "metadata": {},
   "outputs": [],
   "source": [
    "# Visualizando graficamente"
   ]
  },
  {
   "cell_type": "markdown",
   "id": "b32c31a9",
   "metadata": {},
   "source": [
    "- **Podemos ver os centroides de cada cluster para entender o rótulo desse ponto**"
   ]
  },
  {
   "cell_type": "code",
   "execution_count": null,
   "id": "05bb56c3",
   "metadata": {},
   "outputs": [],
   "source": [
    "# Verificando os centróides"
   ]
  },
  {
   "cell_type": "code",
   "execution_count": null,
   "id": "ab868db3",
   "metadata": {},
   "outputs": [],
   "source": [
    "# Considerando o x e o y desse ponto"
   ]
  },
  {
   "cell_type": "code",
   "execution_count": null,
   "id": "d8ab90d3",
   "metadata": {},
   "outputs": [],
   "source": [
    "# O x e y para o ponto em roxo"
   ]
  },
  {
   "cell_type": "code",
   "execution_count": null,
   "id": "0985f8be",
   "metadata": {},
   "outputs": [],
   "source": [
    "# E para o ponto amarelo"
   ]
  },
  {
   "cell_type": "code",
   "execution_count": null,
   "id": "58acf008",
   "metadata": {},
   "outputs": [],
   "source": [
    "# Podemos calcular a distância ao ponto roxo"
   ]
  },
  {
   "cell_type": "code",
   "execution_count": null,
   "id": "c7229ef3",
   "metadata": {},
   "outputs": [],
   "source": [
    "# E a distância ao ponto amarelo"
   ]
  },
  {
   "cell_type": "code",
   "execution_count": null,
   "id": "a8b5b8a8",
   "metadata": {},
   "outputs": [],
   "source": [
    "# Caso a gente queira, também podemos visualizar graficamente"
   ]
  },
  {
   "cell_type": "markdown",
   "id": "597ef4a9",
   "metadata": {},
   "source": [
    "<font color='blue'>**Como a distância ao centroide amarelo é menor que ao centroide roxo, esse ponto foi classificado como amarelo**</font>"
   ]
  },
  {
   "cell_type": "markdown",
   "id": "4e2972d9",
   "metadata": {},
   "source": [
    "- **E se usarmos k = 3? E k = 4? E 5?...**"
   ]
  },
  {
   "cell_type": "code",
   "execution_count": null,
   "id": "a4d17d77",
   "metadata": {},
   "outputs": [],
   "source": [
    "# Utilizando k = 3"
   ]
  },
  {
   "cell_type": "code",
   "execution_count": null,
   "id": "4ac96722",
   "metadata": {},
   "outputs": [],
   "source": [
    "# Verificando quais foram os labels determinados pelo k-means"
   ]
  },
  {
   "cell_type": "code",
   "execution_count": null,
   "id": "5a11b2c4",
   "metadata": {},
   "outputs": [],
   "source": [
    "# Visualizando graficamente"
   ]
  },
  {
   "cell_type": "code",
   "execution_count": null,
   "id": "d1f0bb0b",
   "metadata": {},
   "outputs": [],
   "source": [
    "# Utilizando k = 4"
   ]
  },
  {
   "cell_type": "code",
   "execution_count": null,
   "id": "5786af3b",
   "metadata": {},
   "outputs": [],
   "source": [
    "# Visualizando graficamente"
   ]
  },
  {
   "cell_type": "code",
   "execution_count": null,
   "id": "f235a224",
   "metadata": {},
   "outputs": [],
   "source": [
    "# Utilizando k = 5"
   ]
  },
  {
   "cell_type": "code",
   "execution_count": null,
   "id": "e22e4051",
   "metadata": {},
   "outputs": [],
   "source": [
    "# Visualizando graficamente"
   ]
  },
  {
   "cell_type": "code",
   "execution_count": null,
   "id": "462ff858",
   "metadata": {},
   "outputs": [],
   "source": [
    "# E se reduzirmos o k e utilizando k = 1"
   ]
  },
  {
   "cell_type": "code",
   "execution_count": null,
   "id": "9b4282fb",
   "metadata": {},
   "outputs": [],
   "source": [
    "# Visualizando graficamente"
   ]
  },
  {
   "cell_type": "markdown",
   "id": "236b5c07",
   "metadata": {},
   "source": [
    "- **Qual o valor de k ideal?**"
   ]
  },
  {
   "cell_type": "code",
   "execution_count": null,
   "id": "2f8e64e2",
   "metadata": {},
   "outputs": [],
   "source": [
    "# Podemos visualizar a inércia de cada um dos k`s"
   ]
  },
  {
   "cell_type": "code",
   "execution_count": null,
   "id": "38a9f5b8",
   "metadata": {},
   "outputs": [],
   "source": [
    "# Para k = 1"
   ]
  },
  {
   "cell_type": "code",
   "execution_count": null,
   "id": "5199726d",
   "metadata": {},
   "outputs": [],
   "source": [
    "# Para k = 3"
   ]
  },
  {
   "cell_type": "code",
   "execution_count": null,
   "id": "523e154e",
   "metadata": {},
   "outputs": [],
   "source": [
    "# Para k = 4"
   ]
  },
  {
   "cell_type": "code",
   "execution_count": null,
   "id": "707d8c6a",
   "metadata": {},
   "outputs": [],
   "source": [
    "# Para k = 5"
   ]
  },
  {
   "cell_type": "code",
   "execution_count": null,
   "id": "125dacd0",
   "metadata": {},
   "outputs": [],
   "source": [
    "# Visualizando graficamente"
   ]
  },
  {
   "cell_type": "code",
   "execution_count": null,
   "id": "18d8283d",
   "metadata": {},
   "outputs": [],
   "source": [
    "# Podemos fazer isso utilizando um laço"
   ]
  },
  {
   "cell_type": "code",
   "execution_count": null,
   "id": "4103631b",
   "metadata": {},
   "outputs": [],
   "source": [
    "# Visualizando graficamente"
   ]
  },
  {
   "cell_type": "markdown",
   "id": "b178b252",
   "metadata": {},
   "source": [
    "<font color='blue'>**Existe um cotovelo no 2, então esse é o melhor valor de k?**</font>\n",
    "- Isso é apenas um direcionamento, porém o que é mais importante é <font color='blue'>**conhecermos o negócio**</font>!"
   ]
  },
  {
   "cell_type": "code",
   "execution_count": null,
   "id": "e8641e75",
   "metadata": {},
   "outputs": [],
   "source": [
    "# Visualizando o y"
   ]
  },
  {
   "cell_type": "code",
   "execution_count": null,
   "id": "d9f3bf7c",
   "metadata": {},
   "outputs": [],
   "source": [
    "# Visualizando graficamente para k = 2"
   ]
  },
  {
   "cell_type": "code",
   "execution_count": null,
   "id": "c26bc9b5",
   "metadata": {},
   "outputs": [],
   "source": [
    "# Visualizando graficamente para k = 3"
   ]
  },
  {
   "cell_type": "code",
   "execution_count": null,
   "id": "72a9dfe6",
   "metadata": {},
   "outputs": [],
   "source": [
    "# Visualizando graficamente para k = 4"
   ]
  },
  {
   "cell_type": "code",
   "execution_count": null,
   "id": "f5624817",
   "metadata": {},
   "outputs": [],
   "source": [
    "# Visualizando somente os pontos na região em verde"
   ]
  }
 ],
 "metadata": {
  "kernelspec": {
   "display_name": "Python 3 (ipykernel)",
   "language": "python",
   "name": "python3"
  },
  "language_info": {
   "codemirror_mode": {
    "name": "ipython",
    "version": 3
   },
   "file_extension": ".py",
   "mimetype": "text/x-python",
   "name": "python",
   "nbconvert_exporter": "python",
   "pygments_lexer": "ipython3",
   "version": "3.9.7"
  }
 },
 "nbformat": 4,
 "nbformat_minor": 5
}
