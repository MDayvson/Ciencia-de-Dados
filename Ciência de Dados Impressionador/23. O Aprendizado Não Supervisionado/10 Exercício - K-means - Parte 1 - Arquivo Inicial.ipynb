{
 "cells": [
  {
   "cell_type": "markdown",
   "metadata": {},
   "source": [
    "# Exercício: K-means\n",
    "- Vamos utilizar o K-means no dataset abaixo:\n",
    "    - https://scikit-learn.org/stable/modules/generated/sklearn.datasets.load_digits.html#sklearn.datasets.load_digits\n",
    "    - É um dataset de dígitos escritos a mão, onde cada registro é uma imagem 8x8 de um dígito \n",
    "- **Exercício:**\n",
    "    - Utilize o K-means para criar clusters desses dados\n",
    "    - Utilize o \"Método do Cotovelo\" para determinar o número ideal de k\n",
    "    - Compare o valor encontrado acima com a quantidade de classes do dataset\n",
    "    - Faça os ajustes necessários para melhor agrupar os dados\n",
    "- **Dicas:**\n",
    "    - Os targets podem ser obtidos em **digits.target**\n",
    "    - Você pode utilizar o `.pivot_table` para visualizar melhor a relação entre as classes e os clusters gerados pelo K-means\n",
    "        - https://pandas.pydata.org/pandas-docs/stable/reference/api/pandas.pivot_table.html\n",
    "    - Para melhorar ainda mais a visualização, também é possível utilizar o `.heatmap` do seaborn\n",
    "        - https://seaborn.pydata.org/generated/seaborn.heatmap.html\n",
    "    - Como teste, você pode tentar considerar 2 clusters para representar uma única classe"
   ]
  },
  {
   "cell_type": "code",
   "execution_count": 8,
   "metadata": {},
   "outputs": [],
   "source": [
    "# Importando o dataset"
   ]
  },
  {
   "cell_type": "code",
   "execution_count": 13,
   "metadata": {},
   "outputs": [
    {
     "data": {
      "text/plain": [
       "<Figure size 432x288 with 0 Axes>"
      ]
     },
     "metadata": {},
     "output_type": "display_data"
    },
    {
     "data": {
      "image/png": "[encoded data removed]",
      "text/plain": [
       "<Figure size 288x288 with 1 Axes>"
      ]
     },
     "metadata": {
      "needs_background": "light"
     },
     "output_type": "display_data"
    }
   ],
   "source": [
    "# Visualizando um dígito"
   ]
  },
  {
   "cell_type": "code",
   "execution_count": 32,
   "metadata": {},
   "outputs": [],
   "source": [
    "# Transformando em um DataFrame"
   ]
  },
  {
   "cell_type": "markdown",
   "metadata": {},
   "source": [
    "- **Utilizando o K-means**\n",
    "    - https://scikit-learn.org/stable/modules/generated/sklearn.cluster.KMeans.html"
   ]
  }
 ],
 "metadata": {
  "kernelspec": {
   "display_name": "Python 3",
   "language": "python",
   "name": "python3"
  },
  "language_info": {
   "codemirror_mode": {
    "name": "ipython",
    "version": 3
   },
   "file_extension": ".py",
   "mimetype": "text/x-python",
   "name": "python",
   "nbconvert_exporter": "python",
   "pygments_lexer": "ipython3",
   "version": "3.8.5"
  }
 },
 "nbformat": 4,
 "nbformat_minor": 5
}
