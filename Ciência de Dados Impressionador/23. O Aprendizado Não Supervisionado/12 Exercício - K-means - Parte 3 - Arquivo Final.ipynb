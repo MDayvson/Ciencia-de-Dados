{
 "cells": [
  {
   "cell_type": "markdown",
   "id": "63e96351",
   "metadata": {},
   "source": [
    "# Exercício: K-means\n",
    "- Vamos utilizar o K-means no dataset abaixo:\n",
    "    - https://scikit-learn.org/stable/modules/generated/sklearn.datasets.load_digits.html#sklearn.datasets.load_digits\n",
    "    - É um dataset de dígitos escritos a mão, onde cada registro é uma imagem 8x8 de um dígito "
   ]
  },
  {
   "cell_type": "code",
   "execution_count": 1,
   "id": "792e972c",
   "metadata": {},
   "outputs": [],
   "source": [
    "# Importando o dataset\n",
    "from sklearn.datasets import load_digits\n",
    "digits = load_digits()"
   ]
  },
  {
   "cell_type": "code",
   "execution_count": 2,
   "id": "88a17e21",
   "metadata": {},
   "outputs": [
    {
     "data": {
      "text/plain": [
       "<Figure size 640x480 with 0 Axes>"
      ]
     },
     "metadata": {},
     "output_type": "display_data"
    },
    {
     "data": {
      "image/png": "[encoded data removed]",
      "text/plain": [
       "<Figure size 480x480 with 1 Axes>"
      ]
     },
     "metadata": {},
     "output_type": "display_data"
    }
   ],
   "source": [
    "# Visualizando um dígito\n",
    "import matplotlib.pyplot as plt\n",
    "plt.gray();\n",
    "plt.matshow(digits.images[9]);"
   ]
  },
  {
   "cell_type": "code",
   "execution_count": 3,
   "id": "65d6128c",
   "metadata": {},
   "outputs": [],
   "source": [
    "# Transformando em um DataFrame\n",
    "import pandas as pd\n",
    "digitos = pd.DataFrame(digits.data,columns=digits.feature_names)\n",
    "digitos['target'] = digits.target"
   ]
  },
  {
   "cell_type": "code",
   "execution_count": 4,
   "id": "27030688",
   "metadata": {},
   "outputs": [
    {
     "data": {
      "text/html": [
       "<div>\n",
       "<style scoped>\n",
       "    .dataframe tbody tr th:only-of-type {\n",
       "        vertical-align: middle;\n",
       "    }\n",
       "\n",
       "    .dataframe tbody tr th {\n",
       "        vertical-align: top;\n",
       "    }\n",
       "\n",
       "    .dataframe thead th {\n",
       "        text-align: right;\n",
       "    }\n",
       "</style>\n",
       "<table border=\"1\" class=\"dataframe\">\n",
       "  <thead>\n",
       "    <tr style=\"text-align: right;\">\n",
       "      <th></th>\n",
       "      <th>pixel_0_0</th>\n",
       "      <th>pixel_0_1</th>\n",
       "      <th>pixel_0_2</th>\n",
       "      <th>pixel_0_3</th>\n",
       "      <th>pixel_0_4</th>\n",
       "      <th>pixel_0_5</th>\n",
       "      <th>pixel_0_6</th>\n",
       "      <th>pixel_0_7</th>\n",
       "      <th>pixel_1_0</th>\n",
       "      <th>pixel_1_1</th>\n",
       "      <th>...</th>\n",
       "      <th>pixel_6_7</th>\n",
       "      <th>pixel_7_0</th>\n",
       "      <th>pixel_7_1</th>\n",
       "      <th>pixel_7_2</th>\n",
       "      <th>pixel_7_3</th>\n",
       "      <th>pixel_7_4</th>\n",
       "      <th>pixel_7_5</th>\n",
       "      <th>pixel_7_6</th>\n",
       "      <th>pixel_7_7</th>\n",
       "      <th>target</th>\n",
       "    </tr>\n",
       "  </thead>\n",
       "  <tbody>\n",
       "    <tr>\n",
       "      <th>0</th>\n",
       "      <td>0.0</td>\n",
       "      <td>0.0</td>\n",
       "      <td>5.0</td>\n",
       "      <td>13.0</td>\n",
       "      <td>9.0</td>\n",
       "      <td>1.0</td>\n",
       "      <td>0.0</td>\n",
       "      <td>0.0</td>\n",
       "      <td>0.0</td>\n",
       "      <td>0.0</td>\n",
       "      <td>...</td>\n",
       "      <td>0.0</td>\n",
       "      <td>0.0</td>\n",
       "      <td>0.0</td>\n",
       "      <td>6.0</td>\n",
       "      <td>13.0</td>\n",
       "      <td>10.0</td>\n",
       "      <td>0.0</td>\n",
       "      <td>0.0</td>\n",
       "      <td>0.0</td>\n",
       "      <td>0</td>\n",
       "    </tr>\n",
       "    <tr>\n",
       "      <th>1</th>\n",
       "      <td>0.0</td>\n",
       "      <td>0.0</td>\n",
       "      <td>0.0</td>\n",
       "      <td>12.0</td>\n",
       "      <td>13.0</td>\n",
       "      <td>5.0</td>\n",
       "      <td>0.0</td>\n",
       "      <td>0.0</td>\n",
       "      <td>0.0</td>\n",
       "      <td>0.0</td>\n",
       "      <td>...</td>\n",
       "      <td>0.0</td>\n",
       "      <td>0.0</td>\n",
       "      <td>0.0</td>\n",
       "      <td>0.0</td>\n",
       "      <td>11.0</td>\n",
       "      <td>16.0</td>\n",
       "      <td>10.0</td>\n",
       "      <td>0.0</td>\n",
       "      <td>0.0</td>\n",
       "      <td>1</td>\n",
       "    </tr>\n",
       "    <tr>\n",
       "      <th>2</th>\n",
       "      <td>0.0</td>\n",
       "      <td>0.0</td>\n",
       "      <td>0.0</td>\n",
       "      <td>4.0</td>\n",
       "      <td>15.0</td>\n",
       "      <td>12.0</td>\n",
       "      <td>0.0</td>\n",
       "      <td>0.0</td>\n",
       "      <td>0.0</td>\n",
       "      <td>0.0</td>\n",
       "      <td>...</td>\n",
       "      <td>0.0</td>\n",
       "      <td>0.0</td>\n",
       "      <td>0.0</td>\n",
       "      <td>0.0</td>\n",
       "      <td>3.0</td>\n",
       "      <td>11.0</td>\n",
       "      <td>16.0</td>\n",
       "      <td>9.0</td>\n",
       "      <td>0.0</td>\n",
       "      <td>2</td>\n",
       "    </tr>\n",
       "  </tbody>\n",
       "</table>\n",
       "<p>3 rows × 65 columns</p>\n",
       "</div>"
      ],
      "text/plain": [
       "   pixel_0_0  pixel_0_1  pixel_0_2  pixel_0_3  pixel_0_4  pixel_0_5  \\\n",
       "0        0.0        0.0        5.0       13.0        9.0        1.0   \n",
       "1        0.0        0.0        0.0       12.0       13.0        5.0   \n",
       "2        0.0        0.0        0.0        4.0       15.0       12.0   \n",
       "\n",
       "   pixel_0_6  pixel_0_7  pixel_1_0  pixel_1_1  ...  pixel_6_7  pixel_7_0  \\\n",
       "0        0.0        0.0        0.0        0.0  ...        0.0        0.0   \n",
       "1        0.0        0.0        0.0        0.0  ...        0.0        0.0   \n",
       "2        0.0        0.0        0.0        0.0  ...        0.0        0.0   \n",
       "\n",
       "   pixel_7_1  pixel_7_2  pixel_7_3  pixel_7_4  pixel_7_5  pixel_7_6  \\\n",
       "0        0.0        6.0       13.0       10.0        0.0        0.0   \n",
       "1        0.0        0.0       11.0       16.0       10.0        0.0   \n",
       "2        0.0        0.0        3.0       11.0       16.0        9.0   \n",
       "\n",
       "   pixel_7_7  target  \n",
       "0        0.0       0  \n",
       "1        0.0       1  \n",
       "2        0.0       2  \n",
       "\n",
       "[3 rows x 65 columns]"
      ]
     },
     "execution_count": 4,
     "metadata": {},
     "output_type": "execute_result"
    }
   ],
   "source": [
    "digitos.head(3)"
   ]
  },
  {
   "cell_type": "markdown",
   "id": "144cf3d7",
   "metadata": {},
   "source": [
    "- **Utilizando o K-means**\n",
    "    - https://scikit-learn.org/stable/modules/generated/sklearn.cluster.KMeans.html"
   ]
  },
  {
   "cell_type": "code",
   "execution_count": 5,
   "id": "584d47d1",
   "metadata": {},
   "outputs": [],
   "source": [
    "# Importando o KMeans\n",
    "from sklearn.cluster import KMeans"
   ]
  },
  {
   "cell_type": "code",
   "execution_count": 6,
   "id": "e731c839",
   "metadata": {},
   "outputs": [],
   "source": [
    "# Selecionando o X para fazer o fit dos dados\n",
    "X = digitos.drop('target',axis=1)"
   ]
  },
  {
   "cell_type": "code",
   "execution_count": 7,
   "id": "0b69f8d2",
   "metadata": {},
   "outputs": [],
   "source": [
    "# Utilizando o algoritmo\n",
    "kmeans = KMeans(n_clusters=2, random_state=0).fit(X)"
   ]
  },
  {
   "cell_type": "code",
   "execution_count": 24,
   "id": "e26b3c48",
   "metadata": {},
   "outputs": [],
   "source": [
    "# Podemos percorrer a lista de valores de K\n",
    "valores_k = []\n",
    "dispersao = []\n",
    "\n",
    "for i in range(1,20):\n",
    "    kmeans = KMeans(n_clusters=i, random_state=0).fit(X)\n",
    "    valores_k.append(i)\n",
    "    dispersao.append(kmeans.inertia_)"
   ]
  },
  {
   "cell_type": "code",
   "execution_count": 26,
   "id": "c1882a75",
   "metadata": {},
   "outputs": [
    {
     "data": {
      "image/png": "[encoded data removed]",
      "text/plain": [
       "<Figure size 640x480 with 1 Axes>"
      ]
     },
     "metadata": {},
     "output_type": "display_data"
    }
   ],
   "source": [
    "# Visualizando o gráfico de dispersão x K\n",
    "import matplotlib.pyplot as plt\n",
    "import numpy as np\n",
    "\n",
    "fig,ax = plt.subplots()\n",
    "\n",
    "ax.plot(valores_k[3:],dispersao[3:])\n",
    "ax.axvline(x=9,color='r')\n",
    "\n",
    "ax.set(xticks=np.arange(1, 20))\n",
    "\n",
    "plt.show()"
   ]
  },
  {
   "cell_type": "markdown",
   "id": "3036a8aa",
   "metadata": {},
   "source": [
    "<a id='valores_K'></a>\n",
    "- **Podemos começar analisando com k = 9**"
   ]
  },
  {
   "cell_type": "code",
   "execution_count": null,
   "id": "8065bdcf",
   "metadata": {},
   "outputs": [],
   "source": [
    "# Escolhendo o valor de k"
   ]
  },
  {
   "cell_type": "code",
   "execution_count": null,
   "id": "f13ac210",
   "metadata": {},
   "outputs": [],
   "source": [
    "# Verificando quais foram os labels determinados pelo k-means"
   ]
  },
  {
   "cell_type": "code",
   "execution_count": null,
   "id": "8989aed0",
   "metadata": {},
   "outputs": [],
   "source": [
    "# Contando a quantidade de valores"
   ]
  },
  {
   "cell_type": "code",
   "execution_count": null,
   "id": "7fa8665b",
   "metadata": {},
   "outputs": [],
   "source": [
    "# Podemos usar a lista abaixo e criar uma função capaz de transformar cada grupo em uma letra\n",
    "letras = ['A','B','C','D','E','F','G','H','I','J','K','L','M','N','O','P','Q','R','S','T']"
   ]
  },
  {
   "cell_type": "code",
   "execution_count": null,
   "id": "92271c46",
   "metadata": {},
   "outputs": [],
   "source": [
    "# Criando uma coluna com os labels dados pelo K-means"
   ]
  },
  {
   "cell_type": "code",
   "execution_count": null,
   "id": "83e6707b",
   "metadata": {},
   "outputs": [],
   "source": [
    "# Podemos selecionar apenas a base com o target e os labels"
   ]
  },
  {
   "cell_type": "markdown",
   "id": "9d5e1179",
   "metadata": {},
   "source": [
    "- **Podemos usar uma `pivot_table` para visualizar melhor**\n",
    "    - https://pandas.pydata.org/pandas-docs/stable/reference/api/pandas.pivot_table.html"
   ]
  },
  {
   "cell_type": "code",
   "execution_count": null,
   "id": "abf59bef",
   "metadata": {},
   "outputs": [],
   "source": [
    "# Pivotando essa tabela"
   ]
  },
  {
   "cell_type": "code",
   "execution_count": null,
   "id": "3c274f3c",
   "metadata": {},
   "outputs": [],
   "source": [
    "# Melhorando a visualização"
   ]
  },
  {
   "cell_type": "code",
   "execution_count": null,
   "id": "0681a562",
   "metadata": {},
   "outputs": [],
   "source": [
    "# Exibindo a tabela resultante"
   ]
  },
  {
   "cell_type": "code",
   "execution_count": null,
   "id": "65feeb10",
   "metadata": {},
   "outputs": [],
   "source": [
    "# Podemos calcular o % de targets do mesmo tipo existem em cada grupo"
   ]
  },
  {
   "cell_type": "markdown",
   "id": "580977c6",
   "metadata": {},
   "source": [
    "- 8 foi o dígito que mais foi classificado errado, vamos visualizar esses dígitos"
   ]
  },
  {
   "cell_type": "code",
   "execution_count": null,
   "id": "206e20e1",
   "metadata": {},
   "outputs": [],
   "source": [
    "# Filtrando os digitos 8"
   ]
  },
  {
   "cell_type": "code",
   "execution_count": null,
   "id": "2b7bf757",
   "metadata": {},
   "outputs": [],
   "source": [
    "# Podemos visualizar esse número"
   ]
  },
  {
   "cell_type": "markdown",
   "id": "63522e16",
   "metadata": {},
   "source": [
    "- Para melhor visualizar essa tabela de targets x grupos, também podemos utilizar o heatmap\n",
    "    - https://seaborn.pydata.org/generated/seaborn.heatmap.html"
   ]
  },
  {
   "cell_type": "code",
   "execution_count": null,
   "id": "8e98f15a",
   "metadata": {},
   "outputs": [],
   "source": [
    "# Importando o seaborn"
   ]
  },
  {
   "cell_type": "code",
   "execution_count": null,
   "id": "097c26d2",
   "metadata": {},
   "outputs": [],
   "source": [
    "# Visualizando a tabela"
   ]
  },
  {
   "cell_type": "markdown",
   "id": "4a8c45db",
   "metadata": {},
   "source": [
    "- **Podemos então avaliar esse modelo**\n",
    "    - Para isso, vamos precisar determinar qual seria a classe que atribuiríamos para cada um dos grupos\n",
    "        - Podemos atribuir a classe mais presente naquele grupo"
   ]
  },
  {
   "cell_type": "code",
   "execution_count": null,
   "id": "bb63e159",
   "metadata": {},
   "outputs": [],
   "source": [
    "# Determinando a classe mais presente em cada grupo"
   ]
  },
  {
   "cell_type": "code",
   "execution_count": null,
   "id": "35032569",
   "metadata": {},
   "outputs": [],
   "source": [
    "# Transformando essa informação em um DataFrame"
   ]
  },
  {
   "cell_type": "code",
   "execution_count": null,
   "id": "e035bff5",
   "metadata": {},
   "outputs": [],
   "source": [
    "# Unindo esse DataFrame gerado com o \"digitos\""
   ]
  },
  {
   "cell_type": "code",
   "execution_count": null,
   "id": "56e16d7c",
   "metadata": {},
   "outputs": [],
   "source": [
    "# Visualizando o resultado"
   ]
  },
  {
   "cell_type": "code",
   "execution_count": null,
   "id": "53fa0c77",
   "metadata": {},
   "outputs": [],
   "source": [
    "# Importando o metrics do sklearn"
   ]
  },
  {
   "cell_type": "code",
   "execution_count": null,
   "id": "0ca6ed3b",
   "metadata": {},
   "outputs": [],
   "source": [
    "# Gerando a matriz de confusão"
   ]
  },
  {
   "cell_type": "code",
   "execution_count": null,
   "id": "12cfd8bb",
   "metadata": {},
   "outputs": [],
   "source": [
    "# Analisando a acurácia"
   ]
  },
  {
   "cell_type": "code",
   "execution_count": null,
   "id": "28215a13",
   "metadata": {},
   "outputs": [],
   "source": [
    "# A precisão"
   ]
  },
  {
   "cell_type": "code",
   "execution_count": null,
   "id": "892b6d39",
   "metadata": {},
   "outputs": [],
   "source": [
    "# E o recall"
   ]
  },
  {
   "cell_type": "markdown",
   "id": "385b6247",
   "metadata": {},
   "source": [
    "- **Sabemos que temos 10 números, e se [voltarmos](#valores_K) e usarmos esse valor para K?**"
   ]
  },
  {
   "cell_type": "markdown",
   "id": "ef93d4e3",
   "metadata": {},
   "source": [
    "- **E se [voltarmos](#valores_K) e tentarmos um K muito maior?**"
   ]
  }
 ],
 "metadata": {
  "kernelspec": {
   "display_name": "Python 3 (ipykernel)",
   "language": "python",
   "name": "python3"
  },
  "language_info": {
   "codemirror_mode": {
    "name": "ipython",
    "version": 3
   },
   "file_extension": ".py",
   "mimetype": "text/x-python",
   "name": "python",
   "nbconvert_exporter": "python",
   "pygments_lexer": "ipython3",
   "version": "3.9.13"
  }
 },
 "nbformat": 4,
 "nbformat_minor": 5
}
