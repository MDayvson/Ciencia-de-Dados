{
 "cells": [
  {
   "cell_type": "markdown",
   "id": "c1e2835d",
   "metadata": {},
   "source": [
    "# Métricas de avaliação no aprendizado não supervisionado\n",
    "- \"Avaliar o desempenho de um algoritmo de agrupamento **não é tão trivial** quanto contar o número de erros ou a precisão e recuperação de um algoritmo de classificação supervisionado.\" \n",
    "    - \"Em particular, qualquer métrica de avaliação **não deve levar em consideração os valores absolutos dos rótulos do cluster**, mas sim se esse agrupamento definir separações dos dados semelhantes a algum conjunto de classes de verdade básica ou satisfazer alguma suposição de que os **membros pertencem à mesma classe são mais semelhantes do que membros de classes diferentes de acordo com alguma métrica de similaridade**.\""
   ]
  },
  {
   "cell_type": "markdown",
   "id": "55ce6e11",
   "metadata": {},
   "source": [
    "<a id='kmeans'></a>\n",
    "- Importando o dataset iris\n",
    "    - https://scikit-learn.org/stable/modules/generated/sklearn.datasets.load_iris.html"
   ]
  },
  {
   "cell_type": "code",
   "execution_count": null,
   "id": "bdf72c30",
   "metadata": {},
   "outputs": [],
   "source": [
    "# Importando o dataset iris"
   ]
  },
  {
   "cell_type": "code",
   "execution_count": null,
   "id": "68a3976a",
   "metadata": {},
   "outputs": [],
   "source": [
    "# Selecionando apenas as colunas de pétala"
   ]
  },
  {
   "cell_type": "markdown",
   "id": "93b8f237",
   "metadata": {},
   "source": [
    "- **Visualizando graficamente os pontos**\n",
    "    - https://matplotlib.org/stable/plot_types/basic/scatter_plot.html#sphx-glr-plot-types-basic-scatter-plot-py"
   ]
  },
  {
   "cell_type": "code",
   "execution_count": null,
   "id": "eccf454b",
   "metadata": {},
   "outputs": [],
   "source": [
    "# Plotando o gráfico com esses dados"
   ]
  },
  {
   "cell_type": "markdown",
   "id": "0a6edb61",
   "metadata": {},
   "source": [
    "- **Utilizando o K-means**\n",
    "    - https://scikit-learn.org/stable/modules/generated/sklearn.cluster.KMeans.html"
   ]
  },
  {
   "cell_type": "code",
   "execution_count": null,
   "id": "86f30d45",
   "metadata": {},
   "outputs": [],
   "source": [
    "# Importando o KMeans"
   ]
  },
  {
   "cell_type": "code",
   "execution_count": null,
   "id": "ceff1cda",
   "metadata": {},
   "outputs": [],
   "source": [
    "# Utilizando o algoritmo"
   ]
  },
  {
   "cell_type": "code",
   "execution_count": null,
   "id": "2f14860e",
   "metadata": {},
   "outputs": [],
   "source": [
    "# Verificando quais foram os labels determinados pelo k-means"
   ]
  },
  {
   "cell_type": "markdown",
   "id": "6dd6f6ba",
   "metadata": {},
   "source": [
    "- **Quando temos os rótulos dos dados, podemos comparar os clusters gerados com os valores esperados (target)**"
   ]
  },
  {
   "cell_type": "code",
   "execution_count": null,
   "id": "4ead4259",
   "metadata": {},
   "outputs": [],
   "source": [
    "# Criando um DataFrame já com os labels gerados acima"
   ]
  },
  {
   "cell_type": "code",
   "execution_count": null,
   "id": "39b8279b",
   "metadata": {},
   "outputs": [],
   "source": [
    "# Verificando a relação entre target e labels"
   ]
  },
  {
   "cell_type": "code",
   "execution_count": null,
   "id": "f1f3dd6c",
   "metadata": {},
   "outputs": [],
   "source": [
    "# Visualizando graficamente essa informação"
   ]
  },
  {
   "cell_type": "code",
   "execution_count": null,
   "id": "cd827409",
   "metadata": {},
   "outputs": [],
   "source": [
    "# Criando uma função para mudar esses números por letras"
   ]
  },
  {
   "cell_type": "code",
   "execution_count": null,
   "id": "7573f93a",
   "metadata": {},
   "outputs": [],
   "source": [
    "# Aplicando a função"
   ]
  },
  {
   "cell_type": "code",
   "execution_count": null,
   "id": "14374356",
   "metadata": {},
   "outputs": [],
   "source": [
    "# Agora novamente visualizando a relação entre os grupos e os targets"
   ]
  },
  {
   "cell_type": "code",
   "execution_count": null,
   "id": "a2ad95ca",
   "metadata": {},
   "outputs": [],
   "source": [
    "# Transformando esses dados em uma tabela"
   ]
  },
  {
   "cell_type": "code",
   "execution_count": null,
   "id": "161cc241",
   "metadata": {},
   "outputs": [],
   "source": [
    "# Visualizando essa tabela"
   ]
  },
  {
   "cell_type": "code",
   "execution_count": null,
   "id": "7572c388",
   "metadata": {},
   "outputs": [],
   "source": [
    "# Vamos começar analisando a tabela para k = 3 e utilizando o target mais \n",
    "# presente no cluster como previsão para aquele cluster"
   ]
  },
  {
   "cell_type": "code",
   "execution_count": null,
   "id": "ae3692e1",
   "metadata": {},
   "outputs": [],
   "source": [
    "# Podemos criar uma tabela unindo as classes com o nosso dataset original"
   ]
  },
  {
   "cell_type": "code",
   "execution_count": null,
   "id": "1d3a0b2b",
   "metadata": {},
   "outputs": [],
   "source": [
    "# E então verificar a relação entre y_true e y_pred"
   ]
  },
  {
   "cell_type": "code",
   "execution_count": null,
   "id": "b1894854",
   "metadata": {},
   "outputs": [],
   "source": [
    "# Importando o metrics do sklearn"
   ]
  },
  {
   "cell_type": "code",
   "execution_count": null,
   "id": "3a31e773",
   "metadata": {},
   "outputs": [],
   "source": [
    "# E avaliando a matriz de confusão"
   ]
  },
  {
   "cell_type": "code",
   "execution_count": null,
   "id": "4d531201",
   "metadata": {},
   "outputs": [],
   "source": [
    "# A acurácia"
   ]
  },
  {
   "cell_type": "code",
   "execution_count": null,
   "id": "c64b5334",
   "metadata": {},
   "outputs": [],
   "source": [
    "# precisão"
   ]
  },
  {
   "cell_type": "code",
   "execution_count": null,
   "id": "ccdb3064",
   "metadata": {},
   "outputs": [],
   "source": [
    "# e recall"
   ]
  },
  {
   "cell_type": "markdown",
   "id": "5e0ffb15",
   "metadata": {},
   "source": [
    "- **Podemos fazer o mesmo processo para k = 2 e comparar o resultado**"
   ]
  },
  {
   "cell_type": "code",
   "execution_count": null,
   "id": "79a53693",
   "metadata": {},
   "outputs": [],
   "source": [
    "# Utilizando o algoritmo"
   ]
  },
  {
   "cell_type": "code",
   "execution_count": null,
   "id": "b9e89e11",
   "metadata": {},
   "outputs": [],
   "source": [
    "# Criando um DataFrame já com os labels gerados acima"
   ]
  },
  {
   "cell_type": "code",
   "execution_count": null,
   "id": "346c8aba",
   "metadata": {},
   "outputs": [],
   "source": [
    "# Verificando a relação entre target e labels"
   ]
  },
  {
   "cell_type": "code",
   "execution_count": null,
   "id": "b2b34040",
   "metadata": {},
   "outputs": [],
   "source": [
    "# Visualizando graficamente essa informação"
   ]
  },
  {
   "cell_type": "code",
   "execution_count": null,
   "id": "5d1a7279",
   "metadata": {},
   "outputs": [],
   "source": [
    "# Aplicando a função"
   ]
  },
  {
   "cell_type": "code",
   "execution_count": null,
   "id": "53267d27",
   "metadata": {},
   "outputs": [],
   "source": [
    "# Agora novamente visualizando a relação entre os grupos e os targets"
   ]
  },
  {
   "cell_type": "code",
   "execution_count": null,
   "id": "9ca79f0a",
   "metadata": {},
   "outputs": [],
   "source": [
    "# Transformando esses dados em uma tabela"
   ]
  },
  {
   "cell_type": "code",
   "execution_count": null,
   "id": "53003628",
   "metadata": {},
   "outputs": [],
   "source": [
    "# Visualizando essa tabela"
   ]
  },
  {
   "cell_type": "code",
   "execution_count": null,
   "id": "dd9fe487",
   "metadata": {},
   "outputs": [],
   "source": [
    "# Vamos começar analisando a tabela para k = 3 e utilizando o target mais \n",
    "# presente no cluster como previsão para aquele cluster"
   ]
  },
  {
   "cell_type": "code",
   "execution_count": null,
   "id": "0eff65cc",
   "metadata": {},
   "outputs": [],
   "source": [
    "# Podemos criar uma tabela unindo as classes com o nosso dataset original"
   ]
  },
  {
   "cell_type": "code",
   "execution_count": null,
   "id": "52fe3ce6",
   "metadata": {},
   "outputs": [],
   "source": [
    "# E então verificar a relação entre y_true e y_pred"
   ]
  },
  {
   "cell_type": "code",
   "execution_count": null,
   "id": "9c4a380f",
   "metadata": {},
   "outputs": [],
   "source": [
    "# E avaliando a matriz de confusão"
   ]
  },
  {
   "cell_type": "code",
   "execution_count": null,
   "id": "98020664",
   "metadata": {},
   "outputs": [],
   "source": [
    "# A acurácia"
   ]
  },
  {
   "cell_type": "code",
   "execution_count": null,
   "id": "97994192",
   "metadata": {},
   "outputs": [],
   "source": [
    "# precisão"
   ]
  },
  {
   "cell_type": "code",
   "execution_count": null,
   "id": "b0bb78bb",
   "metadata": {},
   "outputs": [],
   "source": [
    "# e recall"
   ]
  },
  {
   "cell_type": "markdown",
   "id": "9918b04d",
   "metadata": {},
   "source": [
    "- **Métricas para avaliação de clusterizações**\n",
    "    - https://scikit-learn.org/stable/modules/clustering.html#clustering-performance-evaluation"
   ]
  },
  {
   "cell_type": "markdown",
   "id": "c2774fe7",
   "metadata": {},
   "source": [
    "- **1. Índice Rand**\n",
    "    - https://scikit-learn.org/stable/modules/clustering.html#rand-index\n",
    "    - mede a semelhança entre os clusters (ignorando os labels)\n",
    "    - **Depende de termos os rótulos / labels**\n",
    "    - A [fórmula é dada por](https://en.wikipedia.org/wiki/Rand_index):\n",
    "        <img src=\"https://drive.google.com/uc?id=1_eGU36rS0OTEaZ6JvckTcm2dZb-fmJaG\" style='width: 250px;' />\n",
    "    - Onde:\n",
    "        - a: número de pares que pertencem **a mesma classe e ao mesmo cluster**\n",
    "        - b: número de pares que pertencem **a classes diferentes e a clusters diferentes**\n",
    "        - c: número de pares que pertencem **a mesma classe e a clusters diferentes**\n",
    "        - d: número de pares que pertencem **a classes diferentes e ao mesmo cluster**"
   ]
  },
  {
   "cell_type": "code",
   "execution_count": null,
   "id": "ea885fc3",
   "metadata": {},
   "outputs": [],
   "source": [
    "# Considerando os mesmos dados que utilizamos no início desse módulo\n",
    "dados = pd.DataFrame({\n",
    "     'x': [1,2,3,2,7,8,6,7],\n",
    "     'y': [2,1,2,3,6,6,7,8],\n",
    "     'target': [0,0,0,1,1,1,0,1]\n",
    " })"
   ]
  },
  {
   "cell_type": "code",
   "execution_count": null,
   "id": "c9ca44d9",
   "metadata": {},
   "outputs": [],
   "source": [
    "# Podemos exibir esses dados\n",
    "fig, ax = plt.subplots(figsize=(6,6))\n",
    "\n",
    "ax.scatter(dados.x,dados.y,c=dados.target)\n",
    "\n",
    "for i in range(0,len(dados)):\n",
    "    ax.annotate(i+1,(dados.x[i],dados.y[i]),\n",
    "                ha='center',\n",
    "                xytext=(0,7),\n",
    "                textcoords='offset points'\n",
    "               )\n",
    "\n",
    "plt.show()"
   ]
  },
  {
   "cell_type": "code",
   "execution_count": null,
   "id": "0d357719",
   "metadata": {},
   "outputs": [],
   "source": [
    "# Criando um novo X para esses dados"
   ]
  },
  {
   "cell_type": "code",
   "execution_count": null,
   "id": "fa267dbb",
   "metadata": {},
   "outputs": [],
   "source": [
    "# E utilizando o kmeans"
   ]
  },
  {
   "cell_type": "code",
   "execution_count": null,
   "id": "66317e2b",
   "metadata": {},
   "outputs": [],
   "source": [
    "# Podemos visualizar a classificação desses pontos"
   ]
  },
  {
   "cell_type": "markdown",
   "id": "56804948",
   "metadata": {},
   "source": [
    "- Vamos avaliar esses pares:\n",
    "    - par 1 e 2: pertencem a mesma classe e ao mesmo cluster -> a\n",
    "    - par 1 e 3: também -> a\n",
    "    - par 1 e 4: pertencem a classes diferentes mas ao mesmo cluster  -> d\n",
    "    - par 4 e 7: pertencem a classes diferentes e a clusters diferentes -> b\n",
    "- Classificando todos os pares:\n",
    "    - a = 6 (número de pares que pertencem a mesma classe e ao mesmo cluster)\n",
    "        - 1-2,1-3,2-3,5-6,5-8,6-8\n",
    "    - b = 10 (número de pares que pertencem a classes diferentes e a clusters diferentes)\n",
    "        - 1-5,1-6,1-8,2-5,2-6,2-8,3-5,3-6,3-8,4-7\n",
    "    - c =  6 (número de pares que pertencem a mesma classe e a clusters diferentes)\n",
    "        - 1-7,2-7,3-7,4-5,4-6,4-8\n",
    "    - d = 6 (número de pares que pertencem a classes diferentes e ao mesmo cluster)\n",
    "        - 1-4,2-4,3-4,5-7,6-7,7-8"
   ]
  },
  {
   "cell_type": "code",
   "execution_count": null,
   "id": "a7cc430a",
   "metadata": {},
   "outputs": [],
   "source": [
    "# Calculando o RI\n",
    "# RI = (a+b)/(a+b+c+d)"
   ]
  },
  {
   "cell_type": "code",
   "execution_count": null,
   "id": "e6c273f8",
   "metadata": {},
   "outputs": [],
   "source": [
    "# Agora utilizando o rand_score do sklearn"
   ]
  },
  {
   "cell_type": "markdown",
   "id": "a235f48e",
   "metadata": {},
   "source": [
    "- **Porém o índice rand tem alguns problemas como ter valores altos mesmos para dados aleatórios e aumentar a medida que aumentamos o número de grupos**\n",
    "- **Para resolver podemos usar o `adjusted_rand_score`**\n",
    "    - Para uma clusterização aleatória, seu valor é 0\n",
    "    - O máximo é 1\n",
    "    - Valores negativos representam clusterizações piores que escolher de forma aleatória os clusters"
   ]
  },
  {
   "cell_type": "code",
   "execution_count": null,
   "id": "d2cf0cea",
   "metadata": {},
   "outputs": [],
   "source": [
    "# Testando diferentes valores de k"
   ]
  },
  {
   "cell_type": "code",
   "execution_count": null,
   "id": "7e395244",
   "metadata": {},
   "outputs": [],
   "source": [
    "# RI"
   ]
  },
  {
   "cell_type": "code",
   "execution_count": null,
   "id": "d4df86a5",
   "metadata": {},
   "outputs": [],
   "source": [
    "# ARI (Índice Rand Ajustado)"
   ]
  },
  {
   "cell_type": "code",
   "execution_count": null,
   "id": "03c83f00",
   "metadata": {},
   "outputs": [],
   "source": [
    "# Calculando os dois índices para diferentes valores de k"
   ]
  },
  {
   "cell_type": "code",
   "execution_count": null,
   "id": "b2912062",
   "metadata": {},
   "outputs": [],
   "source": [
    "# Verificando graficamente"
   ]
  },
  {
   "cell_type": "markdown",
   "id": "9c8b598d",
   "metadata": {},
   "source": [
    "- **Podemos usar o rand score e o rand score ajustado para o dataset iris**"
   ]
  },
  {
   "cell_type": "code",
   "execution_count": null,
   "id": "88a08d67",
   "metadata": {},
   "outputs": [],
   "source": [
    "# Calculando o rand_score para o dataset iris utilizando o y_pred"
   ]
  },
  {
   "cell_type": "code",
   "execution_count": null,
   "id": "d08f0067",
   "metadata": {},
   "outputs": [],
   "source": [
    "# Calculando o rand_score AJUSTADO para o dataset iris utilizando o y_pred"
   ]
  },
  {
   "cell_type": "code",
   "execution_count": null,
   "id": "d41e624f",
   "metadata": {},
   "outputs": [],
   "source": [
    "# Agora utilizando os labels para o rand_score"
   ]
  },
  {
   "cell_type": "code",
   "execution_count": null,
   "id": "cf882b69",
   "metadata": {},
   "outputs": [],
   "source": [
    "# E os labels para o rand_score ajustado"
   ]
  },
  {
   "cell_type": "code",
   "execution_count": null,
   "id": "22032791",
   "metadata": {},
   "outputs": [],
   "source": [
    "# Calculando para diferentes valores de K no dataset iris"
   ]
  },
  {
   "cell_type": "code",
   "execution_count": null,
   "id": "9034d094",
   "metadata": {},
   "outputs": [],
   "source": [
    "# E então visualizando graficamente"
   ]
  },
  {
   "cell_type": "markdown",
   "id": "d4a70674",
   "metadata": {},
   "source": [
    "- **2. Medida V**\n",
    "    - https://scikit-learn.org/stable/modules/clustering.html#homogeneity-completeness-and-v-measure\n",
    "    - Analisa 2 informações em relação aos dados (que variam de 0 a 1):\n",
    "        - homogeneidade: cada cluster possui apenas membros de uma única classe\n",
    "        - completude: todos os membros de uma classe estão no mesmo cluster\n",
    "    - **Depende dos rótulos**\n",
    "    - Para amostras pequenas ou um número grande de clusters, é mais seguro usar um índice ajustado como o rand ajustado (visto acima)\n",
    "    - A medida V será dada pela média harmônica entre a homogeneidade e a completude\n",
    "        - Sendo **beta (default=1) a razão entre o peso atribuído a homogeneidade x completude**\n",
    "        <img src=\"https://drive.google.com/uc?id=1RPW0UU6840jIWHrEUYMSUKy69Q6O7HbG\" style='width: 350px;' />"
   ]
  },
  {
   "cell_type": "code",
   "execution_count": null,
   "id": "c59cef55",
   "metadata": {},
   "outputs": [],
   "source": [
    "# Considerando esse mesmo DataFrame\n",
    "dados = pd.DataFrame({\n",
    "     'x': [1,2,3,2,7,8,6,7],\n",
    "     'y': [2,1,2,3,6,6,7,8],\n",
    "     'target': [0,0,0,1,1,1,0,1]\n",
    " })"
   ]
  },
  {
   "cell_type": "code",
   "execution_count": null,
   "id": "430eac90",
   "metadata": {},
   "outputs": [],
   "source": [
    "# Testando diferentes valores de k"
   ]
  },
  {
   "cell_type": "code",
   "execution_count": null,
   "id": "0732e553",
   "metadata": {},
   "outputs": [],
   "source": [
    "# Visualizando "
   ]
  },
  {
   "cell_type": "code",
   "execution_count": null,
   "id": "c12799f7",
   "metadata": {},
   "outputs": [],
   "source": [
    "# Calculando a homogeneidade"
   ]
  },
  {
   "cell_type": "code",
   "execution_count": null,
   "id": "94672599",
   "metadata": {},
   "outputs": [],
   "source": [
    "# a completude"
   ]
  },
  {
   "cell_type": "code",
   "execution_count": null,
   "id": "41e2354d",
   "metadata": {},
   "outputs": [],
   "source": [
    "# e a medida v"
   ]
  },
  {
   "cell_type": "markdown",
   "id": "c1b30fbf",
   "metadata": {},
   "source": [
    "- **Podemos alterar os targets e visualizar como seriam esses parâmetros**"
   ]
  },
  {
   "cell_type": "code",
   "execution_count": null,
   "id": "b22d7e74",
   "metadata": {},
   "outputs": [],
   "source": [
    "# Calculando os 3 indicadores em relação a k"
   ]
  },
  {
   "cell_type": "code",
   "execution_count": null,
   "id": "9567ea87",
   "metadata": {},
   "outputs": [],
   "source": [
    "# E então visualizando graficamente"
   ]
  },
  {
   "cell_type": "markdown",
   "id": "433174d9",
   "metadata": {},
   "source": [
    "- **Também podemos fazer o mesmo com o dataset iris**"
   ]
  },
  {
   "cell_type": "code",
   "execution_count": null,
   "id": "e19156c6",
   "metadata": {},
   "outputs": [],
   "source": [
    "# Visualizando a tabela que vimos acima"
   ]
  },
  {
   "cell_type": "markdown",
   "id": "ac68f1a1",
   "metadata": {},
   "source": [
    "- Quando falamos de homogeneidade estamos falando das colunas, e quando falamos de completude estamos falando das linhas"
   ]
  },
  {
   "cell_type": "code",
   "execution_count": null,
   "id": "b424ea64",
   "metadata": {},
   "outputs": [],
   "source": [
    "# Calculando a homogeneidade para essa tabela acima"
   ]
  },
  {
   "cell_type": "code",
   "execution_count": null,
   "id": "efce1cc2",
   "metadata": {},
   "outputs": [],
   "source": [
    "# Calculando também a completude"
   ]
  },
  {
   "cell_type": "code",
   "execution_count": null,
   "id": "6b9f85dc",
   "metadata": {},
   "outputs": [],
   "source": [
    "# E a medida V"
   ]
  },
  {
   "cell_type": "code",
   "execution_count": null,
   "id": "66569c1c",
   "metadata": {},
   "outputs": [],
   "source": [
    "# Criando o gráfico dos 3 indicadores em relação a k"
   ]
  },
  {
   "cell_type": "code",
   "execution_count": null,
   "id": "4969c314",
   "metadata": {},
   "outputs": [],
   "source": [
    "# Visualizando graficamente"
   ]
  },
  {
   "cell_type": "markdown",
   "id": "0e777c48",
   "metadata": {},
   "source": [
    "- **3. Inércia (soma dos erros ao quadrado)**\n",
    "    - mesma métrica que usamos no método do cotovelo\n",
    "    - aumenta com o aumento de k\n",
    "    - **Independe dos rótulos**"
   ]
  },
  {
   "cell_type": "code",
   "execution_count": null,
   "id": "da4c59bb",
   "metadata": {},
   "outputs": [],
   "source": [
    "# Criando o gráfico de inércia que vimos nas aulas anteriores"
   ]
  },
  {
   "cell_type": "code",
   "execution_count": null,
   "id": "402b1a9b",
   "metadata": {},
   "outputs": [],
   "source": [
    "# Visualizando o gráfico de inércia x K"
   ]
  },
  {
   "cell_type": "markdown",
   "id": "f3023691",
   "metadata": {},
   "source": [
    "- **4. \"Coeficiente Silhueta\"**\n",
    "    - https://scikit-learn.org/stable/modules/clustering.html#silhouette-coefficient\n",
    "    - Quanto maior esse coeficiente, mais bem definidos são os clusters do modelo\n",
    "    - Vamos considerar 2 pontuações\n",
    "        - **a:** A distância média **entre uma amostra e todos os outros pontos da mesma classe**\n",
    "        - **b:** A distância média **entre uma amostra e todos os outros pontos no outro cluster mais próximo**\n",
    "    - **Ele avalia tanto a distância intracluster (o quanto os pontos estão afastados dentro do próprio cluster) quando a distância interclusters (o quanto os clusters estão afastados entre si)**\n",
    "    - O [coeficiente para uma amostra é dado pela fórmula abaixo](https://scikit-learn.org/stable/modules/generated/sklearn.metrics.silhouette_samples.html#sklearn.metrics.silhouette_samples)\n",
    "    <img src=\"https://drive.google.com/uc?id=1iW9amVJNfL9qpLd6swEHnKg4qse-gPIL\" style='width: 250px;' />\n",
    "    - O coeficiente para o conjunto de amostras é dado utilizando a média desse coeficiente para cada amostra"
   ]
  },
  {
   "cell_type": "code",
   "execution_count": null,
   "id": "1cba39aa",
   "metadata": {},
   "outputs": [],
   "source": [
    "# Agora considerando esse novo dataset sem os targets\n",
    "dados2 = pd.DataFrame({\n",
    "     'x': [1,2,3,2,7,8,6,7],\n",
    "     'y': [2,1,2,3,6,6,7,8]\n",
    " })"
   ]
  },
  {
   "cell_type": "code",
   "execution_count": null,
   "id": "76a86ca4",
   "metadata": {},
   "outputs": [],
   "source": [
    "# Utilizando o K-Means para clusterizar esses dados"
   ]
  },
  {
   "cell_type": "code",
   "execution_count": null,
   "id": "f5b35065",
   "metadata": {},
   "outputs": [],
   "source": [
    "# Visualizando graficamente"
   ]
  },
  {
   "cell_type": "code",
   "execution_count": null,
   "id": "bd0e1f9a",
   "metadata": {},
   "outputs": [],
   "source": [
    "# Calculando o silhouette_score PARA CADA UM DOS PONTOS"
   ]
  },
  {
   "cell_type": "code",
   "execution_count": null,
   "id": "ea27c26d",
   "metadata": {},
   "outputs": [],
   "source": [
    "# Considerando o primeiro ponto dessa lista"
   ]
  },
  {
   "cell_type": "code",
   "execution_count": null,
   "id": "058cb736",
   "metadata": {},
   "outputs": [],
   "source": [
    "# Podemos adicionar o label nesses DataFrame"
   ]
  },
  {
   "cell_type": "code",
   "execution_count": null,
   "id": "621730ae",
   "metadata": {},
   "outputs": [],
   "source": [
    "# Visualizando"
   ]
  },
  {
   "cell_type": "code",
   "execution_count": null,
   "id": "bd2f2631",
   "metadata": {},
   "outputs": [],
   "source": [
    "# Considerando todos os dados que estão no mesmo cluster do ponto vermelho"
   ]
  },
  {
   "cell_type": "code",
   "execution_count": null,
   "id": "554d4475",
   "metadata": {},
   "outputs": [],
   "source": [
    "# E os dados que estão no outro cluster"
   ]
  },
  {
   "cell_type": "code",
   "execution_count": null,
   "id": "1bf104cb",
   "metadata": {},
   "outputs": [],
   "source": [
    "# Selecionando o ponto vermelho"
   ]
  },
  {
   "cell_type": "code",
   "execution_count": null,
   "id": "d126ff18",
   "metadata": {},
   "outputs": [],
   "source": [
    "# Podemos calcular as distâncias de cada um dos pontos da mesma classe"
   ]
  },
  {
   "cell_type": "code",
   "execution_count": null,
   "id": "91c6de05",
   "metadata": {},
   "outputs": [],
   "source": [
    "# E usar o numpy para fazer a média dessa lista"
   ]
  },
  {
   "cell_type": "code",
   "execution_count": null,
   "id": "ccb854ce",
   "metadata": {},
   "outputs": [],
   "source": [
    "# Então podemos calcular a distância aos pontos de classes diferentes"
   ]
  },
  {
   "cell_type": "code",
   "execution_count": null,
   "id": "0b980fa8",
   "metadata": {},
   "outputs": [],
   "source": [
    "# E também calcular essa média"
   ]
  },
  {
   "cell_type": "code",
   "execution_count": null,
   "id": "1783464c",
   "metadata": {},
   "outputs": [],
   "source": [
    "# O máximo entre a e b é dado por"
   ]
  },
  {
   "cell_type": "code",
   "execution_count": null,
   "id": "9534053a",
   "metadata": {},
   "outputs": [],
   "source": [
    "# Calculando s"
   ]
  },
  {
   "cell_type": "code",
   "execution_count": null,
   "id": "f109b89f",
   "metadata": {},
   "outputs": [],
   "source": [
    "# Agora utilizando o silhouette_samples para visualizar o resultado novamente"
   ]
  },
  {
   "cell_type": "code",
   "execution_count": null,
   "id": "3eb42b9f",
   "metadata": {},
   "outputs": [],
   "source": [
    "# Tirando a média do array"
   ]
  },
  {
   "cell_type": "code",
   "execution_count": null,
   "id": "fa1734d5",
   "metadata": {},
   "outputs": [],
   "source": [
    "# Agora calculando o silhouette_score"
   ]
  },
  {
   "cell_type": "code",
   "execution_count": null,
   "id": "81c98ffd",
   "metadata": {},
   "outputs": [],
   "source": [
    "# Podemos visualizar o silhouette_score para diferentes valores de K"
   ]
  },
  {
   "cell_type": "code",
   "execution_count": null,
   "id": "4d4b58dc",
   "metadata": {},
   "outputs": [],
   "source": [
    "# E traçar esse gráfico"
   ]
  },
  {
   "cell_type": "markdown",
   "id": "9be68110",
   "metadata": {},
   "source": [
    "- **Também podemos traçar o gráfico de silhueta utilizando a silhueta de cada ponto de dado**\n",
    "    - https://scikit-learn.org/stable/auto_examples/cluster/plot_kmeans_silhouette_analysis.html#sphx-glr-auto-examples-cluster-plot-kmeans-silhouette-analysis-py"
   ]
  },
  {
   "cell_type": "code",
   "execution_count": null,
   "id": "1d37e143",
   "metadata": {},
   "outputs": [],
   "source": [
    "# Considerando um valor de K"
   ]
  },
  {
   "cell_type": "code",
   "execution_count": null,
   "id": "f0c27f66",
   "metadata": {},
   "outputs": [],
   "source": [
    "# Podemos adicionar o valor do silhouette_score para cada um dos pontos no nosso DataFrame"
   ]
  },
  {
   "cell_type": "code",
   "execution_count": null,
   "id": "a16ebb64",
   "metadata": {},
   "outputs": [],
   "source": [
    "# E então ordenar os dados de acordo com o label e o silhouette_score"
   ]
  },
  {
   "cell_type": "code",
   "execution_count": null,
   "id": "d0c1b81a",
   "metadata": {
    "scrolled": true
   },
   "outputs": [],
   "source": [
    "# Visualizando essa tabela"
   ]
  },
  {
   "cell_type": "code",
   "execution_count": null,
   "id": "1e34d853",
   "metadata": {},
   "outputs": [],
   "source": [
    "# Para visualizar as cores, podemos utilizar o nipy_spectral do matplotlib"
   ]
  },
  {
   "cell_type": "code",
   "execution_count": null,
   "id": "42a64717",
   "metadata": {},
   "outputs": [],
   "source": [
    "# E agora traçar o gráfico do silhouette_score junto ao gráfico dos pontos para melhorar a visualização"
   ]
  },
  {
   "cell_type": "markdown",
   "id": "3653759e",
   "metadata": {},
   "source": [
    "- Podemos fazer o mesmo para o dataset iris"
   ]
  },
  {
   "cell_type": "code",
   "execution_count": null,
   "id": "58563e2d",
   "metadata": {},
   "outputs": [],
   "source": [
    "# Considerando qualquer valor de K"
   ]
  },
  {
   "cell_type": "code",
   "execution_count": null,
   "id": "427dbfd3",
   "metadata": {},
   "outputs": [],
   "source": [
    "# Adicionando o valor do silhouette_score para cada um dos pontos no nosso DataFrame"
   ]
  },
  {
   "cell_type": "code",
   "execution_count": null,
   "id": "6a1116bb",
   "metadata": {},
   "outputs": [],
   "source": [
    "# Ordenando os dados"
   ]
  },
  {
   "cell_type": "code",
   "execution_count": null,
   "id": "894f0fea",
   "metadata": {},
   "outputs": [],
   "source": [
    "# Selecionando as cores"
   ]
  },
  {
   "cell_type": "code",
   "execution_count": null,
   "id": "3ba7de1c",
   "metadata": {},
   "outputs": [],
   "source": [
    "# E agora traçando esses gráficos"
   ]
  },
  {
   "cell_type": "markdown",
   "id": "ff47c700",
   "metadata": {},
   "source": [
    "- Se quiser podemos colocar tudo isso em um único gráfico, apesar de que isso pode gerar muita poluição visual"
   ]
  },
  {
   "cell_type": "code",
   "execution_count": null,
   "id": "7356a07c",
   "metadata": {},
   "outputs": [],
   "source": [
    "# Criando o kmeans para k = 2"
   ]
  },
  {
   "cell_type": "code",
   "execution_count": null,
   "id": "c3e1807c",
   "metadata": {},
   "outputs": [],
   "source": [
    "# Criando o kmeans para k = 3"
   ]
  },
  {
   "cell_type": "code",
   "execution_count": null,
   "id": "30917b19",
   "metadata": {},
   "outputs": [],
   "source": [
    "# Criando uma figura com 2 linhas e 2 colunas"
   ]
  }
 ],
 "metadata": {
  "kernelspec": {
   "display_name": "Python 3 (ipykernel)",
   "language": "python",
   "name": "python3"
  },
  "language_info": {
   "codemirror_mode": {
    "name": "ipython",
    "version": 3
   },
   "file_extension": ".py",
   "mimetype": "text/x-python",
   "name": "python",
   "nbconvert_exporter": "python",
   "pygments_lexer": "ipython3",
   "version": "3.9.7"
  }
 },
 "nbformat": 4,
 "nbformat_minor": 5
}
