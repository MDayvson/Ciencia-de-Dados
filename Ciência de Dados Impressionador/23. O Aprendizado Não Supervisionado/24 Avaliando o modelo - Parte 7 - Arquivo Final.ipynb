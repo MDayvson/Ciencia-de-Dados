{
 "cells": [
  {
   "cell_type": "markdown",
   "id": "c1e2835d",
   "metadata": {},
   "source": [
    "# Métricas de avaliação no aprendizado não supervisionado\n",
    "- \"Avaliar o desempenho de um algoritmo de agrupamento **não é tão trivial** quanto contar o número de erros ou a precisão e recuperação de um algoritmo de classificação supervisionado.\" \n",
    "    - \"Em particular, qualquer métrica de avaliação **não deve levar em consideração os valores absolutos dos rótulos do cluster**, mas sim se esse agrupamento definir separações dos dados semelhantes a algum conjunto de classes de verdade básica ou satisfazer alguma suposição de que os **membros pertencem à mesma classe são mais semelhantes do que membros de classes diferentes de acordo com alguma métrica de similaridade**.\""
   ]
  },
  {
   "cell_type": "markdown",
   "id": "55ce6e11",
   "metadata": {},
   "source": [
    "<a id='kmeans'></a>\n",
    "- Importando o dataset iris\n",
    "    - https://scikit-learn.org/stable/modules/generated/sklearn.datasets.load_iris.html"
   ]
  },
  {
   "cell_type": "code",
   "execution_count": 1,
   "id": "bdf72c30",
   "metadata": {},
   "outputs": [],
   "source": [
    "# Importando o dataset iris\n",
    "from sklearn.datasets import load_iris\n",
    "X,y = load_iris(return_X_y=True,as_frame=True)"
   ]
  },
  {
   "cell_type": "code",
   "execution_count": 2,
   "id": "68a3976a",
   "metadata": {},
   "outputs": [],
   "source": [
    "# Selecionando apenas as colunas de pétala\n",
    "X_iris = X[['petal length (cm)','petal width (cm)']]"
   ]
  },
  {
   "cell_type": "markdown",
   "id": "93b8f237",
   "metadata": {},
   "source": [
    "- **Visualizando graficamente os pontos**\n",
    "    - https://matplotlib.org/stable/plot_types/basic/scatter_plot.html#sphx-glr-plot-types-basic-scatter-plot-py"
   ]
  },
  {
   "cell_type": "code",
   "execution_count": 3,
   "id": "eccf454b",
   "metadata": {},
   "outputs": [
    {
     "data": {
      "image/png": "[encoded data removed]",
      "text/plain": [
       "<Figure size 640x480 with 1 Axes>"
      ]
     },
     "metadata": {},
     "output_type": "display_data"
    }
   ],
   "source": [
    "# Plotando o gráfico com esses dados\n",
    "import matplotlib.pyplot as plt\n",
    "\n",
    "# plot\n",
    "fig, ax = plt.subplots()\n",
    "\n",
    "ax.scatter(X_iris['petal length (cm)'], X_iris['petal width (cm)'])\n",
    "\n",
    "plt.show()"
   ]
  },
  {
   "cell_type": "markdown",
   "id": "0a6edb61",
   "metadata": {},
   "source": [
    "- **Utilizando o K-means**\n",
    "    - https://scikit-learn.org/stable/modules/generated/sklearn.cluster.KMeans.html"
   ]
  },
  {
   "cell_type": "code",
   "execution_count": 4,
   "id": "86f30d45",
   "metadata": {},
   "outputs": [],
   "source": [
    "# Importando o KMeans\n",
    "from sklearn.cluster import KMeans"
   ]
  },
  {
   "cell_type": "code",
   "execution_count": 5,
   "id": "ceff1cda",
   "metadata": {},
   "outputs": [],
   "source": [
    "# Utilizando o algoritmo\n",
    "kmeans = KMeans(n_clusters=3, random_state=0).fit(X_iris)"
   ]
  },
  {
   "cell_type": "code",
   "execution_count": 6,
   "id": "2f14860e",
   "metadata": {},
   "outputs": [
    {
     "data": {
      "text/plain": [
       "array([0, 0, 0, 0, 0, 0, 0, 0, 0, 0, 0, 0, 0, 0, 0, 0, 0, 0, 0, 0, 0, 0,\n",
       "       0, 0, 0, 0, 0, 0, 0, 0, 0, 0, 0, 0, 0, 0, 0, 0, 0, 0, 0, 0, 0, 0,\n",
       "       0, 0, 0, 0, 0, 0, 2, 2, 2, 2, 2, 2, 2, 2, 2, 2, 2, 2, 2, 2, 2, 2,\n",
       "       2, 2, 2, 2, 2, 2, 2, 2, 2, 2, 2, 1, 2, 2, 2, 2, 2, 1, 2, 2, 2, 2,\n",
       "       2, 2, 2, 2, 2, 2, 2, 2, 2, 2, 2, 2, 1, 1, 1, 1, 1, 1, 2, 1, 1, 1,\n",
       "       1, 1, 1, 1, 1, 1, 1, 1, 1, 2, 1, 1, 1, 1, 1, 1, 2, 1, 1, 1, 1, 1,\n",
       "       1, 1, 1, 1, 1, 1, 2, 1, 1, 1, 1, 1, 1, 1, 1, 1, 1, 1], dtype=int32)"
      ]
     },
     "execution_count": 6,
     "metadata": {},
     "output_type": "execute_result"
    }
   ],
   "source": [
    "# Verificando quais foram os labels determinados pelo k-means\n",
    "kmeans.labels_"
   ]
  },
  {
   "cell_type": "markdown",
   "id": "6dd6f6ba",
   "metadata": {},
   "source": [
    "- **Quando temos os rótulos dos dados, podemos comparar os clusters gerados com os valores esperados (target)**"
   ]
  },
  {
   "cell_type": "code",
   "execution_count": 7,
   "id": "4ead4259",
   "metadata": {},
   "outputs": [
    {
     "data": {
      "text/html": [
       "<div>\n",
       "<style scoped>\n",
       "    .dataframe tbody tr th:only-of-type {\n",
       "        vertical-align: middle;\n",
       "    }\n",
       "\n",
       "    .dataframe tbody tr th {\n",
       "        vertical-align: top;\n",
       "    }\n",
       "\n",
       "    .dataframe thead th {\n",
       "        text-align: right;\n",
       "    }\n",
       "</style>\n",
       "<table border=\"1\" class=\"dataframe\">\n",
       "  <thead>\n",
       "    <tr style=\"text-align: right;\">\n",
       "      <th></th>\n",
       "      <th>sepal length (cm)</th>\n",
       "      <th>sepal width (cm)</th>\n",
       "      <th>petal length (cm)</th>\n",
       "      <th>petal width (cm)</th>\n",
       "      <th>target</th>\n",
       "      <th>labels</th>\n",
       "    </tr>\n",
       "  </thead>\n",
       "  <tbody>\n",
       "    <tr>\n",
       "      <th>0</th>\n",
       "      <td>5.1</td>\n",
       "      <td>3.5</td>\n",
       "      <td>1.4</td>\n",
       "      <td>0.2</td>\n",
       "      <td>0</td>\n",
       "      <td>0</td>\n",
       "    </tr>\n",
       "    <tr>\n",
       "      <th>1</th>\n",
       "      <td>4.9</td>\n",
       "      <td>3.0</td>\n",
       "      <td>1.4</td>\n",
       "      <td>0.2</td>\n",
       "      <td>0</td>\n",
       "      <td>0</td>\n",
       "    </tr>\n",
       "    <tr>\n",
       "      <th>2</th>\n",
       "      <td>4.7</td>\n",
       "      <td>3.2</td>\n",
       "      <td>1.3</td>\n",
       "      <td>0.2</td>\n",
       "      <td>0</td>\n",
       "      <td>0</td>\n",
       "    </tr>\n",
       "  </tbody>\n",
       "</table>\n",
       "</div>"
      ],
      "text/plain": [
       "   sepal length (cm)  sepal width (cm)  petal length (cm)  petal width (cm)  \\\n",
       "0                5.1               3.5                1.4               0.2   \n",
       "1                4.9               3.0                1.4               0.2   \n",
       "2                4.7               3.2                1.3               0.2   \n",
       "\n",
       "   target  labels  \n",
       "0       0       0  \n",
       "1       0       0  \n",
       "2       0       0  "
      ]
     },
     "execution_count": 7,
     "metadata": {},
     "output_type": "execute_result"
    }
   ],
   "source": [
    "# Criando um DataFrame já com os labels gerados acima\n",
    "import pandas as pd\n",
    "iris = pd.concat([X,y],axis=1)\n",
    "iris['labels'] = kmeans.labels_\n",
    "iris.head(3)"
   ]
  },
  {
   "cell_type": "code",
   "execution_count": 8,
   "id": "39b8279b",
   "metadata": {},
   "outputs": [
    {
     "data": {
      "text/plain": [
       "target  labels\n",
       "0       0         50\n",
       "1       2         48\n",
       "2       1         46\n",
       "        2          4\n",
       "1       1          2\n",
       "dtype: int64"
      ]
     },
     "execution_count": 8,
     "metadata": {},
     "output_type": "execute_result"
    }
   ],
   "source": [
    "# Verificando a relação entre target e labels\n",
    "iris[['target','labels']].value_counts()"
   ]
  },
  {
   "cell_type": "code",
   "execution_count": 9,
   "id": "f1f3dd6c",
   "metadata": {},
   "outputs": [
    {
     "data": {
      "image/png": "[encoded data removed]",
      "text/plain": [
       "<Figure size 1500x600 with 3 Axes>"
      ]
     },
     "metadata": {},
     "output_type": "display_data"
    }
   ],
   "source": [
    "# Visualizando graficamente essa informação\n",
    "fig, ax = plt.subplots(ncols=3,figsize=(15,6))\n",
    "\n",
    "ax[0].scatter(X_iris['petal length (cm)'], X_iris['petal width (cm)'],c=iris.labels)\n",
    "ax[1].scatter(X_iris['petal length (cm)'], X_iris['petal width (cm)'],c=iris.target)\n",
    "ax[2].scatter(X_iris['petal length (cm)'], X_iris['petal width (cm)'],c=iris.labels,alpha=0.4)\n",
    "ax[2].scatter(X_iris['petal length (cm)'], X_iris['petal width (cm)'],c=iris.target,alpha=0.4)\n",
    "\n",
    "plt.show()"
   ]
  },
  {
   "cell_type": "code",
   "execution_count": 10,
   "id": "cd827409",
   "metadata": {},
   "outputs": [],
   "source": [
    "# Criando uma função para mudar esses números por letras\n",
    "def numero_letra(valor):\n",
    "    lista = ['A','B','C']\n",
    "    return lista[valor]"
   ]
  },
  {
   "cell_type": "code",
   "execution_count": 11,
   "id": "7573f93a",
   "metadata": {},
   "outputs": [],
   "source": [
    "# Aplicando a função\n",
    "iris['grupos'] = iris.labels.apply(numero_letra)"
   ]
  },
  {
   "cell_type": "code",
   "execution_count": 12,
   "id": "14374356",
   "metadata": {},
   "outputs": [],
   "source": [
    "# Agora novamente visualizando a relação entre os grupos e os targets\n",
    "resultados_k3 = iris[['target','grupos']].value_counts().reset_index(name='cont')"
   ]
  },
  {
   "cell_type": "code",
   "execution_count": 13,
   "id": "a2ad95ca",
   "metadata": {},
   "outputs": [],
   "source": [
    "# Transformando esses dados em uma tabela\n",
    "tabela_k3 = resultados_k3.pivot_table(index='target',columns='grupos',values='cont',fill_value=0).rename_axis(index=None,columns=None)"
   ]
  },
  {
   "cell_type": "code",
   "execution_count": 14,
   "id": "161cc241",
   "metadata": {},
   "outputs": [
    {
     "data": {
      "text/html": [
       "<div>\n",
       "<style scoped>\n",
       "    .dataframe tbody tr th:only-of-type {\n",
       "        vertical-align: middle;\n",
       "    }\n",
       "\n",
       "    .dataframe tbody tr th {\n",
       "        vertical-align: top;\n",
       "    }\n",
       "\n",
       "    .dataframe thead th {\n",
       "        text-align: right;\n",
       "    }\n",
       "</style>\n",
       "<table border=\"1\" class=\"dataframe\">\n",
       "  <thead>\n",
       "    <tr style=\"text-align: right;\">\n",
       "      <th></th>\n",
       "      <th>A</th>\n",
       "      <th>B</th>\n",
       "      <th>C</th>\n",
       "    </tr>\n",
       "  </thead>\n",
       "  <tbody>\n",
       "    <tr>\n",
       "      <th>0</th>\n",
       "      <td>50</td>\n",
       "      <td>0</td>\n",
       "      <td>0</td>\n",
       "    </tr>\n",
       "    <tr>\n",
       "      <th>1</th>\n",
       "      <td>0</td>\n",
       "      <td>2</td>\n",
       "      <td>48</td>\n",
       "    </tr>\n",
       "    <tr>\n",
       "      <th>2</th>\n",
       "      <td>0</td>\n",
       "      <td>46</td>\n",
       "      <td>4</td>\n",
       "    </tr>\n",
       "  </tbody>\n",
       "</table>\n",
       "</div>"
      ],
      "text/plain": [
       "    A   B   C\n",
       "0  50   0   0\n",
       "1   0   2  48\n",
       "2   0  46   4"
      ]
     },
     "execution_count": 14,
     "metadata": {},
     "output_type": "execute_result"
    }
   ],
   "source": [
    "# Visualizando essa tabela\n",
    "tabela_k3"
   ]
  },
  {
   "cell_type": "code",
   "execution_count": 15,
   "id": "7572c388",
   "metadata": {},
   "outputs": [
    {
     "data": {
      "text/html": [
       "<div>\n",
       "<style scoped>\n",
       "    .dataframe tbody tr th:only-of-type {\n",
       "        vertical-align: middle;\n",
       "    }\n",
       "\n",
       "    .dataframe tbody tr th {\n",
       "        vertical-align: top;\n",
       "    }\n",
       "\n",
       "    .dataframe thead th {\n",
       "        text-align: right;\n",
       "    }\n",
       "</style>\n",
       "<table border=\"1\" class=\"dataframe\">\n",
       "  <thead>\n",
       "    <tr style=\"text-align: right;\">\n",
       "      <th></th>\n",
       "      <th>grupos</th>\n",
       "      <th>y_pred</th>\n",
       "    </tr>\n",
       "  </thead>\n",
       "  <tbody>\n",
       "    <tr>\n",
       "      <th>0</th>\n",
       "      <td>A</td>\n",
       "      <td>0</td>\n",
       "    </tr>\n",
       "    <tr>\n",
       "      <th>1</th>\n",
       "      <td>B</td>\n",
       "      <td>2</td>\n",
       "    </tr>\n",
       "    <tr>\n",
       "      <th>2</th>\n",
       "      <td>C</td>\n",
       "      <td>1</td>\n",
       "    </tr>\n",
       "  </tbody>\n",
       "</table>\n",
       "</div>"
      ],
      "text/plain": [
       "  grupos  y_pred\n",
       "0      A       0\n",
       "1      B       2\n",
       "2      C       1"
      ]
     },
     "execution_count": 15,
     "metadata": {},
     "output_type": "execute_result"
    }
   ],
   "source": [
    "# Vamos começar analisando a tabela para k = 3 e utilizando o target mais \n",
    "# presente no cluster como previsão para aquele cluster\n",
    "classes_k3 = tabela_k3.idxmax().reset_index()\n",
    "classes_k3.columns = ['grupos','y_pred']\n",
    "classes_k3"
   ]
  },
  {
   "cell_type": "code",
   "execution_count": 16,
   "id": "ae3692e1",
   "metadata": {},
   "outputs": [],
   "source": [
    "# Podemos criar uma tabela unindo as classes com o nosso dataset original\n",
    "merge_k3 = pd.merge(\n",
    "                iris,\n",
    "                classes_k3,\n",
    "                how='left',\n",
    "                on='grupos')"
   ]
  },
  {
   "cell_type": "code",
   "execution_count": 17,
   "id": "1d3a0b2b",
   "metadata": {},
   "outputs": [
    {
     "data": {
      "text/plain": [
       "target  y_pred\n",
       "0       0         50\n",
       "1       1         48\n",
       "2       2         46\n",
       "        1          4\n",
       "1       2          2\n",
       "dtype: int64"
      ]
     },
     "execution_count": 17,
     "metadata": {},
     "output_type": "execute_result"
    }
   ],
   "source": [
    "# E então verificar a relação entre y_true e y_pred\n",
    "merge_k3[['target','y_pred']].value_counts()"
   ]
  },
  {
   "cell_type": "code",
   "execution_count": 18,
   "id": "b1894854",
   "metadata": {},
   "outputs": [],
   "source": [
    "# Importando o metrics do sklearn\n",
    "from sklearn import metrics"
   ]
  },
  {
   "cell_type": "code",
   "execution_count": 19,
   "id": "3a31e773",
   "metadata": {},
   "outputs": [
    {
     "data": {
      "text/plain": [
       "array([[50,  0,  0],\n",
       "       [ 0, 48,  2],\n",
       "       [ 0,  4, 46]])"
      ]
     },
     "execution_count": 19,
     "metadata": {},
     "output_type": "execute_result"
    }
   ],
   "source": [
    "# E avaliando a matriz de confusão\n",
    "metrics.confusion_matrix(merge_k3.target,merge_k3.y_pred)"
   ]
  },
  {
   "cell_type": "code",
   "execution_count": 20,
   "id": "4d531201",
   "metadata": {},
   "outputs": [
    {
     "data": {
      "text/plain": [
       "0.96"
      ]
     },
     "execution_count": 20,
     "metadata": {},
     "output_type": "execute_result"
    }
   ],
   "source": [
    "# A acurácia\n",
    "metrics.accuracy_score(merge_k3.target,merge_k3.y_pred)"
   ]
  },
  {
   "cell_type": "code",
   "execution_count": 21,
   "id": "c64b5334",
   "metadata": {},
   "outputs": [
    {
     "data": {
      "text/plain": [
       "0.9604700854700855"
      ]
     },
     "execution_count": 21,
     "metadata": {},
     "output_type": "execute_result"
    }
   ],
   "source": [
    "# precisão\n",
    "metrics.precision_score(merge_k3.target,merge_k3.y_pred,average='macro')"
   ]
  },
  {
   "cell_type": "code",
   "execution_count": 22,
   "id": "ccdb3064",
   "metadata": {},
   "outputs": [
    {
     "data": {
      "text/plain": [
       "0.96"
      ]
     },
     "execution_count": 22,
     "metadata": {},
     "output_type": "execute_result"
    }
   ],
   "source": [
    "# e recall\n",
    "metrics.recall_score(merge_k3.target,merge_k3.y_pred,average='macro')"
   ]
  },
  {
   "cell_type": "markdown",
   "id": "5e0ffb15",
   "metadata": {},
   "source": [
    "- **Podemos fazer o mesmo processo para k = 2 e comparar o resultado**"
   ]
  },
  {
   "cell_type": "code",
   "execution_count": 23,
   "id": "79a53693",
   "metadata": {},
   "outputs": [],
   "source": [
    "# Utilizando o algoritmo\n",
    "kmeans_k2 = KMeans(n_clusters=2, random_state=0).fit(X_iris)"
   ]
  },
  {
   "cell_type": "code",
   "execution_count": 24,
   "id": "b9e89e11",
   "metadata": {},
   "outputs": [
    {
     "data": {
      "text/html": [
       "<div>\n",
       "<style scoped>\n",
       "    .dataframe tbody tr th:only-of-type {\n",
       "        vertical-align: middle;\n",
       "    }\n",
       "\n",
       "    .dataframe tbody tr th {\n",
       "        vertical-align: top;\n",
       "    }\n",
       "\n",
       "    .dataframe thead th {\n",
       "        text-align: right;\n",
       "    }\n",
       "</style>\n",
       "<table border=\"1\" class=\"dataframe\">\n",
       "  <thead>\n",
       "    <tr style=\"text-align: right;\">\n",
       "      <th></th>\n",
       "      <th>sepal length (cm)</th>\n",
       "      <th>sepal width (cm)</th>\n",
       "      <th>petal length (cm)</th>\n",
       "      <th>petal width (cm)</th>\n",
       "      <th>target</th>\n",
       "      <th>labels</th>\n",
       "    </tr>\n",
       "  </thead>\n",
       "  <tbody>\n",
       "    <tr>\n",
       "      <th>0</th>\n",
       "      <td>5.1</td>\n",
       "      <td>3.5</td>\n",
       "      <td>1.4</td>\n",
       "      <td>0.2</td>\n",
       "      <td>0</td>\n",
       "      <td>0</td>\n",
       "    </tr>\n",
       "    <tr>\n",
       "      <th>1</th>\n",
       "      <td>4.9</td>\n",
       "      <td>3.0</td>\n",
       "      <td>1.4</td>\n",
       "      <td>0.2</td>\n",
       "      <td>0</td>\n",
       "      <td>0</td>\n",
       "    </tr>\n",
       "    <tr>\n",
       "      <th>2</th>\n",
       "      <td>4.7</td>\n",
       "      <td>3.2</td>\n",
       "      <td>1.3</td>\n",
       "      <td>0.2</td>\n",
       "      <td>0</td>\n",
       "      <td>0</td>\n",
       "    </tr>\n",
       "  </tbody>\n",
       "</table>\n",
       "</div>"
      ],
      "text/plain": [
       "   sepal length (cm)  sepal width (cm)  petal length (cm)  petal width (cm)  \\\n",
       "0                5.1               3.5                1.4               0.2   \n",
       "1                4.9               3.0                1.4               0.2   \n",
       "2                4.7               3.2                1.3               0.2   \n",
       "\n",
       "   target  labels  \n",
       "0       0       0  \n",
       "1       0       0  \n",
       "2       0       0  "
      ]
     },
     "execution_count": 24,
     "metadata": {},
     "output_type": "execute_result"
    }
   ],
   "source": [
    "# Criando um DataFrame já com os labels gerados acima\n",
    "iris = pd.concat([X,y],axis=1)\n",
    "iris['labels'] = kmeans_k2.labels_\n",
    "iris.head(3)"
   ]
  },
  {
   "cell_type": "code",
   "execution_count": 25,
   "id": "346c8aba",
   "metadata": {},
   "outputs": [
    {
     "data": {
      "text/plain": [
       "target  labels\n",
       "0       0         50\n",
       "2       1         50\n",
       "1       1         49\n",
       "        0          1\n",
       "dtype: int64"
      ]
     },
     "execution_count": 25,
     "metadata": {},
     "output_type": "execute_result"
    }
   ],
   "source": [
    "# Verificando a relação entre target e labels\n",
    "iris[['target','labels']].value_counts()"
   ]
  },
  {
   "cell_type": "code",
   "execution_count": 26,
   "id": "b2b34040",
   "metadata": {},
   "outputs": [
    {
     "data": {
      "image/png": "[encoded data removed]",
      "text/plain": [
       "<Figure size 1500x600 with 3 Axes>"
      ]
     },
     "metadata": {},
     "output_type": "display_data"
    }
   ],
   "source": [
    "# Visualizando graficamente essa informação\n",
    "fig, ax = plt.subplots(ncols=3,figsize=(15,6))\n",
    "\n",
    "ax[0].scatter(X_iris['petal length (cm)'], X_iris['petal width (cm)'],c=iris.labels)\n",
    "ax[1].scatter(X_iris['petal length (cm)'], X_iris['petal width (cm)'],c=iris.target)\n",
    "ax[2].scatter(X_iris['petal length (cm)'], X_iris['petal width (cm)'],c=iris.labels,alpha=0.4)\n",
    "ax[2].scatter(X_iris['petal length (cm)'], X_iris['petal width (cm)'],c=iris.target,alpha=0.4)\n",
    "\n",
    "plt.show()"
   ]
  },
  {
   "cell_type": "code",
   "execution_count": 27,
   "id": "5d1a7279",
   "metadata": {},
   "outputs": [],
   "source": [
    "# Aplicando a função\n",
    "iris['grupos'] = iris.labels.apply(numero_letra)"
   ]
  },
  {
   "cell_type": "code",
   "execution_count": 28,
   "id": "53267d27",
   "metadata": {},
   "outputs": [
    {
     "data": {
      "text/plain": [
       "target  grupos\n",
       "0       A         50\n",
       "2       B         50\n",
       "1       B         49\n",
       "        A          1\n",
       "dtype: int64"
      ]
     },
     "execution_count": 28,
     "metadata": {},
     "output_type": "execute_result"
    }
   ],
   "source": [
    "# Agora novamente visualizando a relação entre os grupos e os targets\n",
    "iris[['target','grupos']].value_counts()"
   ]
  },
  {
   "cell_type": "code",
   "execution_count": 29,
   "id": "9ca79f0a",
   "metadata": {},
   "outputs": [],
   "source": [
    "# Transformando esses dados em uma tabela\n",
    "resultados_k2 = iris[['target','grupos']].value_counts().reset_index(name='cont')\n",
    "tabela_k2 = resultados_k2.pivot_table(index='target',columns='grupos',values='cont',fill_value=0).rename_axis(index=None,columns=None)"
   ]
  },
  {
   "cell_type": "code",
   "execution_count": 30,
   "id": "53003628",
   "metadata": {},
   "outputs": [
    {
     "data": {
      "text/html": [
       "<div>\n",
       "<style scoped>\n",
       "    .dataframe tbody tr th:only-of-type {\n",
       "        vertical-align: middle;\n",
       "    }\n",
       "\n",
       "    .dataframe tbody tr th {\n",
       "        vertical-align: top;\n",
       "    }\n",
       "\n",
       "    .dataframe thead th {\n",
       "        text-align: right;\n",
       "    }\n",
       "</style>\n",
       "<table border=\"1\" class=\"dataframe\">\n",
       "  <thead>\n",
       "    <tr style=\"text-align: right;\">\n",
       "      <th></th>\n",
       "      <th>A</th>\n",
       "      <th>B</th>\n",
       "    </tr>\n",
       "  </thead>\n",
       "  <tbody>\n",
       "    <tr>\n",
       "      <th>0</th>\n",
       "      <td>50</td>\n",
       "      <td>0</td>\n",
       "    </tr>\n",
       "    <tr>\n",
       "      <th>1</th>\n",
       "      <td>1</td>\n",
       "      <td>49</td>\n",
       "    </tr>\n",
       "    <tr>\n",
       "      <th>2</th>\n",
       "      <td>0</td>\n",
       "      <td>50</td>\n",
       "    </tr>\n",
       "  </tbody>\n",
       "</table>\n",
       "</div>"
      ],
      "text/plain": [
       "    A   B\n",
       "0  50   0\n",
       "1   1  49\n",
       "2   0  50"
      ]
     },
     "execution_count": 30,
     "metadata": {},
     "output_type": "execute_result"
    }
   ],
   "source": [
    "# Visualizando essa tabela\n",
    "tabela_k2"
   ]
  },
  {
   "cell_type": "code",
   "execution_count": 31,
   "id": "dd9fe487",
   "metadata": {},
   "outputs": [
    {
     "data": {
      "text/html": [
       "<div>\n",
       "<style scoped>\n",
       "    .dataframe tbody tr th:only-of-type {\n",
       "        vertical-align: middle;\n",
       "    }\n",
       "\n",
       "    .dataframe tbody tr th {\n",
       "        vertical-align: top;\n",
       "    }\n",
       "\n",
       "    .dataframe thead th {\n",
       "        text-align: right;\n",
       "    }\n",
       "</style>\n",
       "<table border=\"1\" class=\"dataframe\">\n",
       "  <thead>\n",
       "    <tr style=\"text-align: right;\">\n",
       "      <th></th>\n",
       "      <th>grupos</th>\n",
       "      <th>y_pred</th>\n",
       "    </tr>\n",
       "  </thead>\n",
       "  <tbody>\n",
       "    <tr>\n",
       "      <th>0</th>\n",
       "      <td>A</td>\n",
       "      <td>0</td>\n",
       "    </tr>\n",
       "    <tr>\n",
       "      <th>1</th>\n",
       "      <td>B</td>\n",
       "      <td>2</td>\n",
       "    </tr>\n",
       "  </tbody>\n",
       "</table>\n",
       "</div>"
      ],
      "text/plain": [
       "  grupos  y_pred\n",
       "0      A       0\n",
       "1      B       2"
      ]
     },
     "execution_count": 31,
     "metadata": {},
     "output_type": "execute_result"
    }
   ],
   "source": [
    "# Vamos analisar para k=2\n",
    "classes_k2 = tabela_k2.idxmax().reset_index()\n",
    "classes_k2.columns = ['grupos','y_pred']\n",
    "classes_k2"
   ]
  },
  {
   "cell_type": "code",
   "execution_count": 32,
   "id": "0eff65cc",
   "metadata": {},
   "outputs": [],
   "source": [
    "# Podemos criar uma tabela unindo as classes com o nosso dataset original\n",
    "merge_k2 = pd.merge(\n",
    "                iris,\n",
    "                classes_k2,\n",
    "                how='left',\n",
    "                on='grupos')"
   ]
  },
  {
   "cell_type": "code",
   "execution_count": 33,
   "id": "52fe3ce6",
   "metadata": {},
   "outputs": [
    {
     "data": {
      "text/plain": [
       "target  y_pred\n",
       "0       0         50\n",
       "2       2         50\n",
       "1       2         49\n",
       "        0          1\n",
       "dtype: int64"
      ]
     },
     "execution_count": 33,
     "metadata": {},
     "output_type": "execute_result"
    }
   ],
   "source": [
    "# E então verificar a relação entre y_true e y_pred\n",
    "merge_k2[['target','y_pred']].value_counts()"
   ]
  },
  {
   "cell_type": "code",
   "execution_count": 34,
   "id": "9c4a380f",
   "metadata": {},
   "outputs": [
    {
     "data": {
      "text/plain": [
       "array([[50,  0,  0],\n",
       "       [ 1,  0, 49],\n",
       "       [ 0,  0, 50]])"
      ]
     },
     "execution_count": 34,
     "metadata": {},
     "output_type": "execute_result"
    }
   ],
   "source": [
    "# E avaliando a matriz de confusão\n",
    "metrics.confusion_matrix(merge_k2.target,merge_k2.y_pred)"
   ]
  },
  {
   "cell_type": "code",
   "execution_count": 35,
   "id": "98020664",
   "metadata": {},
   "outputs": [
    {
     "data": {
      "text/plain": [
       "0.6666666666666666"
      ]
     },
     "execution_count": 35,
     "metadata": {},
     "output_type": "execute_result"
    }
   ],
   "source": [
    "# A acurácia\n",
    "metrics.accuracy_score(merge_k2.target,merge_k2.y_pred)"
   ]
  },
  {
   "cell_type": "code",
   "execution_count": 36,
   "id": "97994192",
   "metadata": {},
   "outputs": [
    {
     "name": "stderr",
     "output_type": "stream",
     "text": [
      "/opt/anaconda3/lib/python3.9/site-packages/sklearn/metrics/_classification.py:1318: UndefinedMetricWarning: Precision is ill-defined and being set to 0.0 in labels with no predicted samples. Use `zero_division` parameter to control this behavior.\n",
      "  _warn_prf(average, modifier, msg_start, len(result))\n"
     ]
    },
    {
     "data": {
      "text/plain": [
       "0.4951475539710834"
      ]
     },
     "execution_count": 36,
     "metadata": {},
     "output_type": "execute_result"
    }
   ],
   "source": [
    "# precisão\n",
    "metrics.precision_score(merge_k2.target,merge_k2.y_pred,average='macro')"
   ]
  },
  {
   "cell_type": "code",
   "execution_count": 37,
   "id": "b0bb78bb",
   "metadata": {},
   "outputs": [
    {
     "data": {
      "text/plain": [
       "0.6666666666666666"
      ]
     },
     "execution_count": 37,
     "metadata": {},
     "output_type": "execute_result"
    }
   ],
   "source": [
    "# e recall\n",
    "metrics.recall_score(merge_k2.target,merge_k2.y_pred,average='macro')"
   ]
  },
  {
   "cell_type": "markdown",
   "id": "9918b04d",
   "metadata": {},
   "source": [
    "- **Métricas para avaliação de clusterizações**\n",
    "    - https://scikit-learn.org/stable/modules/clustering.html#clustering-performance-evaluation"
   ]
  },
  {
   "cell_type": "markdown",
   "id": "c2774fe7",
   "metadata": {},
   "source": [
    "- **1. Índice Rand**\n",
    "    - https://scikit-learn.org/stable/modules/clustering.html#rand-index\n",
    "    - mede a semelhança de classe e cluster entre os pares de pontos\n",
    "    - **Depende de termos os rótulos / labels**\n",
    "    - A [fórmula é dada por](https://en.wikipedia.org/wiki/Rand_index):\n",
    "        <img src=\"https://drive.google.com/uc?id=1_eGU36rS0OTEaZ6JvckTcm2dZb-fmJaG\" style='width: 250px;' />\n",
    "    - Onde:\n",
    "        - a: número de pares que pertencem **a mesma classe e ao mesmo cluster**\n",
    "        - b: número de pares que pertencem **a classes diferentes e a clusters diferentes**\n",
    "        - c: número de pares que pertencem **a mesma classe e a clusters diferentes**\n",
    "        - d: número de pares que pertencem **a classes diferentes e ao mesmo cluster**"
   ]
  },
  {
   "cell_type": "code",
   "execution_count": 38,
   "id": "ea885fc3",
   "metadata": {},
   "outputs": [],
   "source": [
    "# Considerando os mesmos dados que utilizamos no início desse módulo\n",
    "dados = pd.DataFrame({\n",
    "     'x': [1,2,3,2,7,8,6,7],\n",
    "     'y': [2,1,2,3,6,6,7,8],\n",
    "     'target': [0,0,0,1,1,1,0,1]\n",
    " })"
   ]
  },
  {
   "cell_type": "code",
   "execution_count": 39,
   "id": "c9ca44d9",
   "metadata": {},
   "outputs": [
    {
     "data": {
      "image/png": "[encoded data removed]",
      "text/plain": [
       "<Figure size 600x600 with 1 Axes>"
      ]
     },
     "metadata": {},
     "output_type": "display_data"
    }
   ],
   "source": [
    "# Podemos exibir esses dados\n",
    "fig, ax = plt.subplots(figsize=(6,6))\n",
    "\n",
    "ax.scatter(dados.x,dados.y,c=dados.target)\n",
    "\n",
    "for i in range(0,len(dados)):\n",
    "    ax.annotate(i+1,(dados.x[i],dados.y[i]),\n",
    "                ha='center',\n",
    "                xytext=(0,7),\n",
    "                textcoords='offset points'\n",
    "               )\n",
    "\n",
    "plt.show()"
   ]
  },
  {
   "cell_type": "code",
   "execution_count": 40,
   "id": "0d357719",
   "metadata": {},
   "outputs": [],
   "source": [
    "# Criando um novo X para esses dados\n",
    "X_dados = dados[['x','y']]"
   ]
  },
  {
   "cell_type": "code",
   "execution_count": 41,
   "id": "fa267dbb",
   "metadata": {},
   "outputs": [],
   "source": [
    "# E utilizando o kmeans\n",
    "kmeans = KMeans(n_clusters=5, random_state=0).fit(X_dados)"
   ]
  },
  {
   "cell_type": "code",
   "execution_count": 42,
   "id": "66317e2b",
   "metadata": {},
   "outputs": [
    {
     "data": {
      "image/png": "[encoded data removed]",
      "text/plain": [
       "<Figure size 1200x600 with 2 Axes>"
      ]
     },
     "metadata": {},
     "output_type": "display_data"
    }
   ],
   "source": [
    "# Podemos visualizar a classificação desses pontos\n",
    "fig, ax = plt.subplots(ncols=2,figsize=(12,6))\n",
    "\n",
    "ax[0].scatter(dados.x,dados.y,c=dados.target)\n",
    "ax[1].scatter(dados.x,dados.y,c=kmeans.labels_)\n",
    "\n",
    "for i in range(0,len(dados)):\n",
    "    ax[0].annotate(i+1,(dados.x[i],dados.y[i]),\n",
    "                ha='center',\n",
    "                xytext=(0,7),\n",
    "                textcoords='offset points'\n",
    "               )\n",
    "    ax[1].annotate(i+1,(dados.x[i],dados.y[i]),\n",
    "                ha='center',\n",
    "                xytext=(0,7),\n",
    "                textcoords='offset points'\n",
    "               )\n",
    "    \n",
    "plt.show()"
   ]
  },
  {
   "cell_type": "markdown",
   "id": "56804948",
   "metadata": {},
   "source": [
    "- Vamos avaliar esses pares:\n",
    "    - par 1 e 2: pertencem a mesma classe e ao mesmo cluster -> a\n",
    "    - par 1 e 3: também -> a\n",
    "    - par 1 e 4: pertencem a classes diferentes mas ao mesmo cluster  -> d\n",
    "    - par 4 e 7: pertencem a classes diferentes e a clusters diferentes -> b\n",
    "- Classificando todos os pares:\n",
    "    - a = 6 (número de pares que pertencem a mesma classe e ao mesmo cluster)\n",
    "        - 1-2,1-3,2-3,5-6,5-8,6-8\n",
    "    - b = 10 (número de pares que pertencem a classes diferentes e a clusters diferentes)\n",
    "        - 1-5,1-6,1-8,2-5,2-6,2-8,3-5,3-6,3-8,4-7\n",
    "    - c =  6 (número de pares que pertencem a mesma classe e a clusters diferentes)\n",
    "        - 1-7,2-7,3-7,4-5,4-6,4-8\n",
    "    - d = 6 (número de pares que pertencem a classes diferentes e ao mesmo cluster)\n",
    "        - 1-4,2-4,3-4,5-7,6-7,7-8"
   ]
  },
  {
   "cell_type": "code",
   "execution_count": 43,
   "id": "a7cc430a",
   "metadata": {},
   "outputs": [
    {
     "data": {
      "text/plain": [
       "0.5714285714285714"
      ]
     },
     "execution_count": 43,
     "metadata": {},
     "output_type": "execute_result"
    }
   ],
   "source": [
    "# Calculando o RI\n",
    "# RI = (a+b)/(a+b+c+d)\n",
    "(6+10)/(6+10+6+6)"
   ]
  },
  {
   "cell_type": "code",
   "execution_count": 44,
   "id": "e6c273f8",
   "metadata": {},
   "outputs": [
    {
     "data": {
      "text/plain": [
       "0.6071428571428571"
      ]
     },
     "execution_count": 44,
     "metadata": {},
     "output_type": "execute_result"
    }
   ],
   "source": [
    "# Agora utilizando o rand_score do sklearn\n",
    "metrics.rand_score(dados.target,kmeans.labels_)"
   ]
  },
  {
   "cell_type": "markdown",
   "id": "a235f48e",
   "metadata": {},
   "source": [
    "- **Porém o índice rand tem alguns problemas como ter valores altos mesmos para dados aleatórios e aumentar a medida que aumentamos o número de grupos**\n",
    "- **Para resolver podemos usar o `adjusted_rand_score`**\n",
    "    - Para uma clusterização aleatória, seu valor é 0\n",
    "    - O máximo é 1\n",
    "    - Valores negativos representam clusterizações piores que escolher de forma aleatória os clusters"
   ]
  },
  {
   "cell_type": "code",
   "execution_count": 45,
   "id": "d2cf0cea",
   "metadata": {},
   "outputs": [],
   "source": [
    "# Testando diferentes valores de k\n",
    "kmeans = KMeans(n_clusters=4, random_state=0).fit(X_dados)"
   ]
  },
  {
   "cell_type": "code",
   "execution_count": 46,
   "id": "7e395244",
   "metadata": {},
   "outputs": [
    {
     "data": {
      "text/plain": [
       "0.5714285714285714"
      ]
     },
     "execution_count": 46,
     "metadata": {},
     "output_type": "execute_result"
    }
   ],
   "source": [
    "# RI\n",
    "metrics.rand_score(dados.target,kmeans.labels_)"
   ]
  },
  {
   "cell_type": "code",
   "execution_count": 47,
   "id": "d4df86a5",
   "metadata": {},
   "outputs": [
    {
     "data": {
      "text/plain": [
       "0.045454545454545456"
      ]
     },
     "execution_count": 47,
     "metadata": {},
     "output_type": "execute_result"
    }
   ],
   "source": [
    "# ARI (Índice Rand Ajustado)\n",
    "metrics.adjusted_rand_score(dados.target,kmeans.labels_)"
   ]
  },
  {
   "cell_type": "code",
   "execution_count": 48,
   "id": "03c83f00",
   "metadata": {},
   "outputs": [],
   "source": [
    "# Calculando os dois índices para diferentes valores de k\n",
    "valores_k = []\n",
    "RI = [] \n",
    "ARI = []\n",
    "\n",
    "for i in range(1,9):\n",
    "    kmeans = KMeans(n_clusters=i, random_state=0).fit(X_dados)\n",
    "    valores_k.append(i)\n",
    "    RI.append(metrics.rand_score(dados.target,kmeans.labels_))\n",
    "    ARI.append(metrics.adjusted_rand_score(dados.target,kmeans.labels_))"
   ]
  },
  {
   "cell_type": "code",
   "execution_count": 49,
   "id": "b2912062",
   "metadata": {},
   "outputs": [
    {
     "data": {
      "image/png": "[encoded data removed]",
      "text/plain": [
       "<Figure size 640x480 with 1 Axes>"
      ]
     },
     "metadata": {},
     "output_type": "display_data"
    }
   ],
   "source": [
    "# Verificando graficamente\n",
    "fig, ax = plt.subplots()\n",
    "\n",
    "ax.plot(valores_k,RI)\n",
    "ax.plot(valores_k,ARI)\n",
    "\n",
    "plt.show()"
   ]
  },
  {
   "cell_type": "markdown",
   "id": "9c8b598d",
   "metadata": {},
   "source": [
    "- **Podemos usar o rand score e o rand score ajustado para o dataset iris**"
   ]
  },
  {
   "cell_type": "code",
   "execution_count": 50,
   "id": "39e4192e",
   "metadata": {},
   "outputs": [
    {
     "data": {
      "text/html": [
       "<div>\n",
       "<style scoped>\n",
       "    .dataframe tbody tr th:only-of-type {\n",
       "        vertical-align: middle;\n",
       "    }\n",
       "\n",
       "    .dataframe tbody tr th {\n",
       "        vertical-align: top;\n",
       "    }\n",
       "\n",
       "    .dataframe thead th {\n",
       "        text-align: right;\n",
       "    }\n",
       "</style>\n",
       "<table border=\"1\" class=\"dataframe\">\n",
       "  <thead>\n",
       "    <tr style=\"text-align: right;\">\n",
       "      <th></th>\n",
       "      <th>sepal length (cm)</th>\n",
       "      <th>sepal width (cm)</th>\n",
       "      <th>petal length (cm)</th>\n",
       "      <th>petal width (cm)</th>\n",
       "      <th>target</th>\n",
       "      <th>labels</th>\n",
       "      <th>grupos</th>\n",
       "      <th>y_pred</th>\n",
       "    </tr>\n",
       "  </thead>\n",
       "  <tbody>\n",
       "    <tr>\n",
       "      <th>0</th>\n",
       "      <td>5.1</td>\n",
       "      <td>3.5</td>\n",
       "      <td>1.4</td>\n",
       "      <td>0.2</td>\n",
       "      <td>0</td>\n",
       "      <td>0</td>\n",
       "      <td>A</td>\n",
       "      <td>0</td>\n",
       "    </tr>\n",
       "    <tr>\n",
       "      <th>1</th>\n",
       "      <td>4.9</td>\n",
       "      <td>3.0</td>\n",
       "      <td>1.4</td>\n",
       "      <td>0.2</td>\n",
       "      <td>0</td>\n",
       "      <td>0</td>\n",
       "      <td>A</td>\n",
       "      <td>0</td>\n",
       "    </tr>\n",
       "    <tr>\n",
       "      <th>2</th>\n",
       "      <td>4.7</td>\n",
       "      <td>3.2</td>\n",
       "      <td>1.3</td>\n",
       "      <td>0.2</td>\n",
       "      <td>0</td>\n",
       "      <td>0</td>\n",
       "      <td>A</td>\n",
       "      <td>0</td>\n",
       "    </tr>\n",
       "    <tr>\n",
       "      <th>3</th>\n",
       "      <td>4.6</td>\n",
       "      <td>3.1</td>\n",
       "      <td>1.5</td>\n",
       "      <td>0.2</td>\n",
       "      <td>0</td>\n",
       "      <td>0</td>\n",
       "      <td>A</td>\n",
       "      <td>0</td>\n",
       "    </tr>\n",
       "    <tr>\n",
       "      <th>4</th>\n",
       "      <td>5.0</td>\n",
       "      <td>3.6</td>\n",
       "      <td>1.4</td>\n",
       "      <td>0.2</td>\n",
       "      <td>0</td>\n",
       "      <td>0</td>\n",
       "      <td>A</td>\n",
       "      <td>0</td>\n",
       "    </tr>\n",
       "    <tr>\n",
       "      <th>...</th>\n",
       "      <td>...</td>\n",
       "      <td>...</td>\n",
       "      <td>...</td>\n",
       "      <td>...</td>\n",
       "      <td>...</td>\n",
       "      <td>...</td>\n",
       "      <td>...</td>\n",
       "      <td>...</td>\n",
       "    </tr>\n",
       "    <tr>\n",
       "      <th>145</th>\n",
       "      <td>6.7</td>\n",
       "      <td>3.0</td>\n",
       "      <td>5.2</td>\n",
       "      <td>2.3</td>\n",
       "      <td>2</td>\n",
       "      <td>1</td>\n",
       "      <td>B</td>\n",
       "      <td>2</td>\n",
       "    </tr>\n",
       "    <tr>\n",
       "      <th>146</th>\n",
       "      <td>6.3</td>\n",
       "      <td>2.5</td>\n",
       "      <td>5.0</td>\n",
       "      <td>1.9</td>\n",
       "      <td>2</td>\n",
       "      <td>1</td>\n",
       "      <td>B</td>\n",
       "      <td>2</td>\n",
       "    </tr>\n",
       "    <tr>\n",
       "      <th>147</th>\n",
       "      <td>6.5</td>\n",
       "      <td>3.0</td>\n",
       "      <td>5.2</td>\n",
       "      <td>2.0</td>\n",
       "      <td>2</td>\n",
       "      <td>1</td>\n",
       "      <td>B</td>\n",
       "      <td>2</td>\n",
       "    </tr>\n",
       "    <tr>\n",
       "      <th>148</th>\n",
       "      <td>6.2</td>\n",
       "      <td>3.4</td>\n",
       "      <td>5.4</td>\n",
       "      <td>2.3</td>\n",
       "      <td>2</td>\n",
       "      <td>1</td>\n",
       "      <td>B</td>\n",
       "      <td>2</td>\n",
       "    </tr>\n",
       "    <tr>\n",
       "      <th>149</th>\n",
       "      <td>5.9</td>\n",
       "      <td>3.0</td>\n",
       "      <td>5.1</td>\n",
       "      <td>1.8</td>\n",
       "      <td>2</td>\n",
       "      <td>1</td>\n",
       "      <td>B</td>\n",
       "      <td>2</td>\n",
       "    </tr>\n",
       "  </tbody>\n",
       "</table>\n",
       "<p>150 rows × 8 columns</p>\n",
       "</div>"
      ],
      "text/plain": [
       "     sepal length (cm)  sepal width (cm)  petal length (cm)  petal width (cm)  \\\n",
       "0                  5.1               3.5                1.4               0.2   \n",
       "1                  4.9               3.0                1.4               0.2   \n",
       "2                  4.7               3.2                1.3               0.2   \n",
       "3                  4.6               3.1                1.5               0.2   \n",
       "4                  5.0               3.6                1.4               0.2   \n",
       "..                 ...               ...                ...               ...   \n",
       "145                6.7               3.0                5.2               2.3   \n",
       "146                6.3               2.5                5.0               1.9   \n",
       "147                6.5               3.0                5.2               2.0   \n",
       "148                6.2               3.4                5.4               2.3   \n",
       "149                5.9               3.0                5.1               1.8   \n",
       "\n",
       "     target  labels grupos  y_pred  \n",
       "0         0       0      A       0  \n",
       "1         0       0      A       0  \n",
       "2         0       0      A       0  \n",
       "3         0       0      A       0  \n",
       "4         0       0      A       0  \n",
       "..      ...     ...    ...     ...  \n",
       "145       2       1      B       2  \n",
       "146       2       1      B       2  \n",
       "147       2       1      B       2  \n",
       "148       2       1      B       2  \n",
       "149       2       1      B       2  \n",
       "\n",
       "[150 rows x 8 columns]"
      ]
     },
     "execution_count": 50,
     "metadata": {},
     "output_type": "execute_result"
    }
   ],
   "source": [
    "merge_k2"
   ]
  },
  {
   "cell_type": "code",
   "execution_count": 51,
   "id": "88a08d67",
   "metadata": {},
   "outputs": [
    {
     "data": {
      "text/plain": [
       "0.7719015659955257"
      ]
     },
     "execution_count": 51,
     "metadata": {},
     "output_type": "execute_result"
    }
   ],
   "source": [
    "# Calculando o rand_score para o dataset iris utilizando o y_pred\n",
    "metrics.rand_score(merge_k2.target,merge_k2.y_pred)"
   ]
  },
  {
   "cell_type": "code",
   "execution_count": 52,
   "id": "d08f0067",
   "metadata": {},
   "outputs": [
    {
     "data": {
      "text/plain": [
       "0.5583714437541352"
      ]
     },
     "execution_count": 52,
     "metadata": {},
     "output_type": "execute_result"
    }
   ],
   "source": [
    "# Calculando o rand_score AJUSTADO para o dataset iris utilizando o y_pred\n",
    "metrics.adjusted_rand_score(merge_k2.target,merge_k2.y_pred)"
   ]
  },
  {
   "cell_type": "code",
   "execution_count": 54,
   "id": "d41e624f",
   "metadata": {},
   "outputs": [
    {
     "data": {
      "text/plain": [
       "0.7719015659955257"
      ]
     },
     "execution_count": 54,
     "metadata": {},
     "output_type": "execute_result"
    }
   ],
   "source": [
    "# Agora utilizando os labels para o rand_score\n",
    "metrics.rand_score(merge_k2.target,kmeans_k2.labels_)"
   ]
  },
  {
   "cell_type": "code",
   "execution_count": 55,
   "id": "07252c36",
   "metadata": {},
   "outputs": [
    {
     "data": {
      "text/plain": [
       "True"
      ]
     },
     "execution_count": 55,
     "metadata": {},
     "output_type": "execute_result"
    }
   ],
   "source": [
    "metrics.rand_score(merge_k2.target,merge_k2.y_pred) == metrics.rand_score(merge_k2.target,kmeans_k2.labels_)"
   ]
  },
  {
   "cell_type": "code",
   "execution_count": 56,
   "id": "cf882b69",
   "metadata": {},
   "outputs": [
    {
     "data": {
      "text/plain": [
       "0.5583714437541352"
      ]
     },
     "execution_count": 56,
     "metadata": {},
     "output_type": "execute_result"
    }
   ],
   "source": [
    "# E os labels para o rand_score ajustado\n",
    "metrics.adjusted_rand_score(merge_k2.target,merge_k2.labels)"
   ]
  },
  {
   "cell_type": "code",
   "execution_count": 58,
   "id": "22032791",
   "metadata": {},
   "outputs": [],
   "source": [
    "# Calculando para diferentes valores de K no dataset iris\n",
    "valores_k = []\n",
    "RI = [] \n",
    "ARI = []\n",
    "\n",
    "for i in range(1,9):\n",
    "    kmeans = KMeans(n_clusters=i, random_state=0).fit(X_iris)\n",
    "    valores_k.append(i)\n",
    "    RI.append(metrics.rand_score(y,kmeans.labels_))\n",
    "    ARI.append(metrics.adjusted_rand_score(y,kmeans.labels_))"
   ]
  },
  {
   "cell_type": "code",
   "execution_count": 59,
   "id": "9034d094",
   "metadata": {},
   "outputs": [
    {
     "data": {
      "image/png": "[encoded data removed]",
      "text/plain": [
       "<Figure size 640x480 with 1 Axes>"
      ]
     },
     "metadata": {},
     "output_type": "display_data"
    }
   ],
   "source": [
    "# E então visualizando graficamente\n",
    "fig, ax = plt.subplots()\n",
    "\n",
    "ax.plot(valores_k,RI)\n",
    "ax.plot(valores_k,ARI)\n",
    "\n",
    "plt.show()"
   ]
  },
  {
   "cell_type": "markdown",
   "id": "d4a70674",
   "metadata": {},
   "source": [
    "- **2. Medida V**\n",
    "    - https://scikit-learn.org/stable/modules/clustering.html#homogeneity-completeness-and-v-measure\n",
    "    - Analisa 2 informações em relação aos dados (que variam de 0 a 1):\n",
    "        - homogeneidade: cada cluster possui apenas membros de uma única classe\n",
    "        - completude: todos os membros de uma classe estão no mesmo cluster\n",
    "    - **Depende dos rótulos**\n",
    "    - Para amostras pequenas ou um número grande de clusters, é mais seguro usar um índice ajustado como o rand ajustado (visto acima)\n",
    "    - A medida V será dada pela média harmônica entre a homogeneidade e a completude\n",
    "        - Sendo **beta (default=1) a razão entre o peso atribuído a homogeneidade x completude**\n",
    "        <img src=\"https://drive.google.com/uc?id=1RPW0UU6840jIWHrEUYMSUKy69Q6O7HbG\" style='width: 350px;' />"
   ]
  },
  {
   "cell_type": "code",
   "execution_count": null,
   "id": "c59cef55",
   "metadata": {},
   "outputs": [],
   "source": [
    "# Considerando esse mesmo DataFrame\n",
    "dados = pd.DataFrame({\n",
    "     'x': [1,2,3,2,7,8,6,7],\n",
    "     'y': [2,1,2,3,6,6,7,8],\n",
    "     'target': [0,0,0,1,1,1,0,1]\n",
    " })"
   ]
  },
  {
   "cell_type": "code",
   "execution_count": null,
   "id": "430eac90",
   "metadata": {},
   "outputs": [],
   "source": [
    "# Testando diferentes valores de k"
   ]
  },
  {
   "cell_type": "code",
   "execution_count": null,
   "id": "0732e553",
   "metadata": {},
   "outputs": [],
   "source": [
    "# Visualizando "
   ]
  },
  {
   "cell_type": "code",
   "execution_count": null,
   "id": "c12799f7",
   "metadata": {},
   "outputs": [],
   "source": [
    "# Calculando a homogeneidade"
   ]
  },
  {
   "cell_type": "code",
   "execution_count": null,
   "id": "94672599",
   "metadata": {},
   "outputs": [],
   "source": [
    "# a completude"
   ]
  },
  {
   "cell_type": "code",
   "execution_count": null,
   "id": "41e2354d",
   "metadata": {},
   "outputs": [],
   "source": [
    "# e a medida v"
   ]
  },
  {
   "cell_type": "markdown",
   "id": "c1b30fbf",
   "metadata": {},
   "source": [
    "- **Podemos alterar os targets e visualizar como seriam esses parâmetros**"
   ]
  },
  {
   "cell_type": "code",
   "execution_count": null,
   "id": "b22d7e74",
   "metadata": {},
   "outputs": [],
   "source": [
    "# Calculando os 3 indicadores em relação a k"
   ]
  },
  {
   "cell_type": "code",
   "execution_count": null,
   "id": "9567ea87",
   "metadata": {},
   "outputs": [],
   "source": [
    "# E então visualizando graficamente"
   ]
  },
  {
   "cell_type": "markdown",
   "id": "433174d9",
   "metadata": {},
   "source": [
    "- **Também podemos fazer o mesmo com o dataset iris**"
   ]
  },
  {
   "cell_type": "code",
   "execution_count": null,
   "id": "e19156c6",
   "metadata": {},
   "outputs": [],
   "source": [
    "# Visualizando a tabela que vimos acima"
   ]
  },
  {
   "cell_type": "markdown",
   "id": "ac68f1a1",
   "metadata": {},
   "source": [
    "- Quando falamos de homogeneidade estamos falando das colunas, e quando falamos de completude estamos falando das linhas"
   ]
  },
  {
   "cell_type": "code",
   "execution_count": null,
   "id": "b424ea64",
   "metadata": {},
   "outputs": [],
   "source": [
    "# Calculando a homogeneidade para essa tabela acima"
   ]
  },
  {
   "cell_type": "code",
   "execution_count": null,
   "id": "efce1cc2",
   "metadata": {},
   "outputs": [],
   "source": [
    "# Calculando também a completude"
   ]
  },
  {
   "cell_type": "code",
   "execution_count": null,
   "id": "6b9f85dc",
   "metadata": {},
   "outputs": [],
   "source": [
    "# E a medida V"
   ]
  },
  {
   "cell_type": "code",
   "execution_count": null,
   "id": "66569c1c",
   "metadata": {},
   "outputs": [],
   "source": [
    "# Criando o gráfico dos 3 indicadores em relação a k"
   ]
  },
  {
   "cell_type": "code",
   "execution_count": null,
   "id": "4969c314",
   "metadata": {},
   "outputs": [],
   "source": [
    "# Visualizando graficamente"
   ]
  },
  {
   "cell_type": "markdown",
   "id": "0e777c48",
   "metadata": {},
   "source": [
    "- **3. Inércia (soma dos erros ao quadrado)**\n",
    "    - mesma métrica que usamos no método do cotovelo\n",
    "    - aumenta com o aumento de k\n",
    "    - **Independe dos rótulos**"
   ]
  },
  {
   "cell_type": "code",
   "execution_count": null,
   "id": "da4c59bb",
   "metadata": {},
   "outputs": [],
   "source": [
    "# Criando o gráfico de inércia que vimos nas aulas anteriores"
   ]
  },
  {
   "cell_type": "code",
   "execution_count": null,
   "id": "402b1a9b",
   "metadata": {},
   "outputs": [],
   "source": [
    "# Visualizando o gráfico de inércia x K"
   ]
  },
  {
   "cell_type": "markdown",
   "id": "f3023691",
   "metadata": {},
   "source": [
    "- **4. \"Coeficiente Silhueta\"**\n",
    "    - https://scikit-learn.org/stable/modules/clustering.html#silhouette-coefficient\n",
    "    - Quanto maior esse coeficiente, mais bem definidos são os clusters do modelo\n",
    "    - Vamos considerar 2 pontuações\n",
    "        - **a:** A distância média **entre uma amostra e todos os outros pontos da mesma classe**\n",
    "        - **b:** A distância média **entre uma amostra e todos os outros pontos no outro cluster mais próximo**\n",
    "    - **Ele avalia tanto a distância intracluster (o quanto os pontos estão afastados dentro do próprio cluster) quando a distância interclusters (o quanto os clusters estão afastados entre si)**\n",
    "    - O [coeficiente para uma amostra é dado pela fórmula abaixo](https://scikit-learn.org/stable/modules/generated/sklearn.metrics.silhouette_samples.html#sklearn.metrics.silhouette_samples)\n",
    "    <img src=\"https://drive.google.com/uc?id=1iW9amVJNfL9qpLd6swEHnKg4qse-gPIL\" style='width: 250px;' />\n",
    "    - O coeficiente para o conjunto de amostras é dado utilizando a média desse coeficiente para cada amostra"
   ]
  },
  {
   "cell_type": "code",
   "execution_count": null,
   "id": "1cba39aa",
   "metadata": {},
   "outputs": [],
   "source": [
    "# Agora considerando esse novo dataset sem os targets\n",
    "dados2 = pd.DataFrame({\n",
    "     'x': [1,2,3,2,7,8,6,7],\n",
    "     'y': [2,1,2,3,6,6,7,8]\n",
    " })"
   ]
  },
  {
   "cell_type": "code",
   "execution_count": null,
   "id": "76a86ca4",
   "metadata": {},
   "outputs": [],
   "source": [
    "# Utilizando o K-Means para clusterizar esses dados"
   ]
  },
  {
   "cell_type": "code",
   "execution_count": null,
   "id": "f5b35065",
   "metadata": {},
   "outputs": [],
   "source": [
    "# Visualizando graficamente"
   ]
  },
  {
   "cell_type": "code",
   "execution_count": null,
   "id": "bd0e1f9a",
   "metadata": {},
   "outputs": [],
   "source": [
    "# Calculando o silhouette_score PARA CADA UM DOS PONTOS"
   ]
  },
  {
   "cell_type": "code",
   "execution_count": null,
   "id": "ea27c26d",
   "metadata": {},
   "outputs": [],
   "source": [
    "# Considerando o primeiro ponto dessa lista"
   ]
  },
  {
   "cell_type": "code",
   "execution_count": null,
   "id": "058cb736",
   "metadata": {},
   "outputs": [],
   "source": [
    "# Podemos adicionar o label nesses DataFrame"
   ]
  },
  {
   "cell_type": "code",
   "execution_count": null,
   "id": "621730ae",
   "metadata": {},
   "outputs": [],
   "source": [
    "# Visualizando"
   ]
  },
  {
   "cell_type": "code",
   "execution_count": null,
   "id": "bd2f2631",
   "metadata": {},
   "outputs": [],
   "source": [
    "# Considerando todos os dados que estão no mesmo cluster do ponto vermelho"
   ]
  },
  {
   "cell_type": "code",
   "execution_count": null,
   "id": "554d4475",
   "metadata": {},
   "outputs": [],
   "source": [
    "# E os dados que estão no outro cluster"
   ]
  },
  {
   "cell_type": "code",
   "execution_count": null,
   "id": "1bf104cb",
   "metadata": {},
   "outputs": [],
   "source": [
    "# Selecionando o ponto vermelho"
   ]
  },
  {
   "cell_type": "code",
   "execution_count": null,
   "id": "d126ff18",
   "metadata": {},
   "outputs": [],
   "source": [
    "# Podemos calcular as distâncias de cada um dos pontos da mesma classe"
   ]
  },
  {
   "cell_type": "code",
   "execution_count": null,
   "id": "91c6de05",
   "metadata": {},
   "outputs": [],
   "source": [
    "# E usar o numpy para fazer a média dessa lista"
   ]
  },
  {
   "cell_type": "code",
   "execution_count": null,
   "id": "ccb854ce",
   "metadata": {},
   "outputs": [],
   "source": [
    "# Então podemos calcular a distância aos pontos de classes diferentes"
   ]
  },
  {
   "cell_type": "code",
   "execution_count": null,
   "id": "0b980fa8",
   "metadata": {},
   "outputs": [],
   "source": [
    "# E também calcular essa média"
   ]
  },
  {
   "cell_type": "code",
   "execution_count": null,
   "id": "1783464c",
   "metadata": {},
   "outputs": [],
   "source": [
    "# O máximo entre a e b é dado por"
   ]
  },
  {
   "cell_type": "code",
   "execution_count": null,
   "id": "9534053a",
   "metadata": {},
   "outputs": [],
   "source": [
    "# Calculando s"
   ]
  },
  {
   "cell_type": "code",
   "execution_count": null,
   "id": "f109b89f",
   "metadata": {},
   "outputs": [],
   "source": [
    "# Agora utilizando o silhouette_samples para visualizar o resultado novamente"
   ]
  },
  {
   "cell_type": "code",
   "execution_count": null,
   "id": "3eb42b9f",
   "metadata": {},
   "outputs": [],
   "source": [
    "# Tirando a média do array"
   ]
  },
  {
   "cell_type": "code",
   "execution_count": null,
   "id": "fa1734d5",
   "metadata": {},
   "outputs": [],
   "source": [
    "# Agora calculando o silhouette_score"
   ]
  },
  {
   "cell_type": "code",
   "execution_count": null,
   "id": "81c98ffd",
   "metadata": {},
   "outputs": [],
   "source": [
    "# Podemos visualizar o silhouette_score para diferentes valores de K"
   ]
  },
  {
   "cell_type": "code",
   "execution_count": null,
   "id": "4d4b58dc",
   "metadata": {},
   "outputs": [],
   "source": [
    "# E traçar esse gráfico"
   ]
  },
  {
   "cell_type": "markdown",
   "id": "9be68110",
   "metadata": {},
   "source": [
    "- **Também podemos traçar o gráfico de silhueta utilizando a silhueta de cada ponto de dado**\n",
    "    - https://scikit-learn.org/stable/auto_examples/cluster/plot_kmeans_silhouette_analysis.html#sphx-glr-auto-examples-cluster-plot-kmeans-silhouette-analysis-py"
   ]
  },
  {
   "cell_type": "code",
   "execution_count": null,
   "id": "1d37e143",
   "metadata": {},
   "outputs": [],
   "source": [
    "# Considerando um valor de K"
   ]
  },
  {
   "cell_type": "code",
   "execution_count": null,
   "id": "f0c27f66",
   "metadata": {},
   "outputs": [],
   "source": [
    "# Podemos adicionar o valor do silhouette_score para cada um dos pontos no nosso DataFrame"
   ]
  },
  {
   "cell_type": "code",
   "execution_count": null,
   "id": "a16ebb64",
   "metadata": {},
   "outputs": [],
   "source": [
    "# E então ordenar os dados de acordo com o label e o silhouette_score"
   ]
  },
  {
   "cell_type": "code",
   "execution_count": null,
   "id": "d0c1b81a",
   "metadata": {
    "scrolled": true
   },
   "outputs": [],
   "source": [
    "# Visualizando essa tabela"
   ]
  },
  {
   "cell_type": "code",
   "execution_count": null,
   "id": "1e34d853",
   "metadata": {},
   "outputs": [],
   "source": [
    "# Para visualizar as cores, podemos utilizar o nipy_spectral do matplotlib"
   ]
  },
  {
   "cell_type": "code",
   "execution_count": null,
   "id": "42a64717",
   "metadata": {},
   "outputs": [],
   "source": [
    "# E agora traçar o gráfico do silhouette_score junto ao gráfico dos pontos para melhorar a visualização"
   ]
  },
  {
   "cell_type": "markdown",
   "id": "3653759e",
   "metadata": {},
   "source": [
    "- Podemos fazer o mesmo para o dataset iris"
   ]
  },
  {
   "cell_type": "code",
   "execution_count": null,
   "id": "58563e2d",
   "metadata": {},
   "outputs": [],
   "source": [
    "# Considerando qualquer valor de K"
   ]
  },
  {
   "cell_type": "code",
   "execution_count": null,
   "id": "427dbfd3",
   "metadata": {},
   "outputs": [],
   "source": [
    "# Adicionando o valor do silhouette_score para cada um dos pontos no nosso DataFrame"
   ]
  },
  {
   "cell_type": "code",
   "execution_count": null,
   "id": "6a1116bb",
   "metadata": {},
   "outputs": [],
   "source": [
    "# Ordenando os dados"
   ]
  },
  {
   "cell_type": "code",
   "execution_count": null,
   "id": "894f0fea",
   "metadata": {},
   "outputs": [],
   "source": [
    "# Selecionando as cores"
   ]
  },
  {
   "cell_type": "code",
   "execution_count": null,
   "id": "3ba7de1c",
   "metadata": {},
   "outputs": [],
   "source": [
    "# E agora traçando esses gráficos"
   ]
  },
  {
   "cell_type": "markdown",
   "id": "ff47c700",
   "metadata": {},
   "source": [
    "- Se quiser podemos colocar tudo isso em um único gráfico, apesar de que isso pode gerar muita poluição visual"
   ]
  },
  {
   "cell_type": "code",
   "execution_count": null,
   "id": "7356a07c",
   "metadata": {},
   "outputs": [],
   "source": [
    "# Criando o kmeans para k = 2"
   ]
  },
  {
   "cell_type": "code",
   "execution_count": null,
   "id": "c3e1807c",
   "metadata": {},
   "outputs": [],
   "source": [
    "# Criando o kmeans para k = 3"
   ]
  },
  {
   "cell_type": "code",
   "execution_count": null,
   "id": "30917b19",
   "metadata": {},
   "outputs": [],
   "source": [
    "# Criando uma figura com 2 linhas e 2 colunas"
   ]
  }
 ],
 "metadata": {
  "kernelspec": {
   "display_name": "Python 3 (ipykernel)",
   "language": "python",
   "name": "python3"
  },
  "language_info": {
   "codemirror_mode": {
    "name": "ipython",
    "version": 3
   },
   "file_extension": ".py",
   "mimetype": "text/x-python",
   "name": "python",
   "nbconvert_exporter": "python",
   "pygments_lexer": "ipython3",
   "version": "3.9.13"
  }
 },
 "nbformat": 4,
 "nbformat_minor": 5
}
