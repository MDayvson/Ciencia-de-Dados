{
 "cells": [
  {
   "cell_type": "markdown",
   "id": "367bf669",
   "metadata": {},
   "source": [
    "# PCA (Principal Component Analysis)\n",
    "- Apresentar o dataset iris utilizando somente 2 variáveis é a melhor opção?\n",
    "<br><img src=\"https://drive.google.com/uc?id=13xzXK-VzjNS81Clh0efUzeiOsuv1BZm-\" style='width: 700px;' /><br>\n",
    "- https://scikit-learn.org/stable/modules/generated/sklearn.decomposition.PCA.html#sklearn.decomposition.PCA\n",
    "- Análise de Componentes Principais\n",
    "- Técnica **não supervisionada** de **redução de dimensionalidade** através de combinações lineares dos recursos (features)\n",
    "- **Variáveis relacionadas** (com relação entre si) são reduzidas a um número menor de **componentes não relacionados**\n",
    "    - O primeiro componente principal tenta explicar o máximo da variância dos dados\n",
    "        - O segundo tenta explicar o máximo da variância não explicada pelo primeiro\n",
    "            - O terceiro, a variância não explicada pelo primeiro nem pelo segundo\n",
    "                - O quarto...\n",
    "- Facilita a visualização em problemas de clusterização, viabiliza análises em casos com muitas variáveis, melhora os modelos, etc.\n",
    "- **IMPORTANTE:** os dados devem estar padronizados!"
   ]
  },
  {
   "cell_type": "code",
   "execution_count": null,
   "id": "3c218bb9",
   "metadata": {},
   "outputs": [],
   "source": [
    "# Importando o pandas\n",
    "import pandas as pd"
   ]
  },
  {
   "cell_type": "code",
   "execution_count": null,
   "id": "20ed4bc8",
   "metadata": {},
   "outputs": [],
   "source": [
    "# Considerando os mesmos dados que utilizamos no início desse módulo\n",
    "dados = pd.DataFrame({\n",
    "     'x': [1,2,3,2,7,8,6,7],\n",
    "     'y': [2,1,2,3,6,6,7,8],\n",
    "     'target': [0,0,0,0,1,1,1,1]\n",
    " })\n",
    "\n",
    "X_dados = dados[['x','y']]"
   ]
  },
  {
   "cell_type": "code",
   "execution_count": null,
   "id": "3f56e462",
   "metadata": {},
   "outputs": [],
   "source": [
    "# Podemos exibir esses dados\n",
    "import matplotlib.pyplot as plt\n",
    "fig, ax = plt.subplots(figsize=(4,4))\n",
    "\n",
    "ax.scatter(dados.x,dados.y,c=dados.target)\n",
    "\n",
    "plt.show()"
   ]
  },
  {
   "cell_type": "markdown",
   "id": "479916d8",
   "metadata": {},
   "source": [
    "- **Para começarmos, vamos importar o PCA**\n",
    "    - https://scikit-learn.org/stable/modules/generated/sklearn.decomposition.PCA.html#sklearn.decomposition.PCA"
   ]
  },
  {
   "cell_type": "code",
   "execution_count": null,
   "id": "35f7a641",
   "metadata": {},
   "outputs": [],
   "source": [
    "# Importando o PCA"
   ]
  },
  {
   "cell_type": "code",
   "execution_count": null,
   "id": "d04cf59b",
   "metadata": {},
   "outputs": [],
   "source": [
    "# Considerando para 2 componentes"
   ]
  },
  {
   "cell_type": "code",
   "execution_count": null,
   "id": "92105d04",
   "metadata": {},
   "outputs": [],
   "source": [
    "# Fazendo o fit com os dados"
   ]
  },
  {
   "cell_type": "code",
   "execution_count": null,
   "id": "f38b4c53",
   "metadata": {},
   "outputs": [],
   "source": [
    "# Verificando a média"
   ]
  },
  {
   "cell_type": "code",
   "execution_count": null,
   "id": "145a740e",
   "metadata": {},
   "outputs": [],
   "source": [
    "# Podemos deslocar todos os pontos em relação a media"
   ]
  },
  {
   "cell_type": "code",
   "execution_count": null,
   "id": "22c055de",
   "metadata": {},
   "outputs": [],
   "source": [
    "# E então traçar esse novo gráfico"
   ]
  },
  {
   "cell_type": "code",
   "execution_count": null,
   "id": "3e152c8f",
   "metadata": {},
   "outputs": [],
   "source": [
    "# Agora visualizando os componentes"
   ]
  },
  {
   "cell_type": "code",
   "execution_count": null,
   "id": "c1f2574f",
   "metadata": {},
   "outputs": [],
   "source": [
    "# Podemos traçar graficamente"
   ]
  },
  {
   "cell_type": "code",
   "execution_count": null,
   "id": "7c31eec4",
   "metadata": {},
   "outputs": [],
   "source": [
    "# Verificando o quanto esses componentes explicam a variância dos nossos dados"
   ]
  },
  {
   "cell_type": "code",
   "execution_count": null,
   "id": "5c747bd4",
   "metadata": {},
   "outputs": [],
   "source": [
    "# Visualizando a transformação"
   ]
  },
  {
   "cell_type": "code",
   "execution_count": null,
   "id": "43b010f1",
   "metadata": {},
   "outputs": [],
   "source": [
    "# E plotando essa transformação graficamente"
   ]
  },
  {
   "cell_type": "markdown",
   "id": "642053b6",
   "metadata": {},
   "source": [
    "- **E se nossos dados estivessem em 3 dimensões?**"
   ]
  },
  {
   "cell_type": "code",
   "execution_count": null,
   "id": "b3f8dc86",
   "metadata": {},
   "outputs": [],
   "source": [
    "# Considerando os novos dados\n",
    "dados2 = pd.DataFrame({\n",
    "     'x': [1,2,3,2,7,8,6,7],\n",
    "     'y': [2,1,2,3,6,6,7,8],\n",
    "     'z': [1,2,1,2,7,8,8,7],\n",
    "     'target': [0,0,0,0,1,1,1,1]\n",
    " })\n",
    "\n",
    "X_dados2 = dados2[['x','y','z']]"
   ]
  },
  {
   "cell_type": "code",
   "execution_count": null,
   "id": "07a4a5df",
   "metadata": {},
   "outputs": [],
   "source": [
    "# Visualizando graficamente\n",
    "ax = plt.figure().add_subplot(projection='3d')\n",
    "\n",
    "ax.scatter(dados2.x,dados2.y,dados2.z,c=dados.target)\n",
    "\n",
    "plt.show()"
   ]
  },
  {
   "cell_type": "code",
   "execution_count": null,
   "id": "7b625395",
   "metadata": {},
   "outputs": [],
   "source": [
    "# Utilizando o PCA novamente para 2 componentes e já fazendo o fit com os dados"
   ]
  },
  {
   "cell_type": "code",
   "execution_count": null,
   "id": "b6a907bb",
   "metadata": {},
   "outputs": [],
   "source": [
    "# Visualizando os componentes"
   ]
  },
  {
   "cell_type": "code",
   "execution_count": null,
   "id": "02d64ba6",
   "metadata": {},
   "outputs": [],
   "source": [
    "# Verificando o quanto esses componentes explicam a variância dos nossos dados"
   ]
  },
  {
   "cell_type": "code",
   "execution_count": null,
   "id": "1ef7a5ba",
   "metadata": {},
   "outputs": [],
   "source": [
    "# Plotando essa transformação graficamente"
   ]
  },
  {
   "cell_type": "markdown",
   "id": "c00a259d",
   "metadata": {},
   "source": [
    "- **Utilizando o PCA para visualizar o dataset iris**\n",
    "    - https://scikit-learn.org/stable/modules/generated/sklearn.datasets.load_iris.html#sklearn.datasets.load_iris"
   ]
  },
  {
   "cell_type": "code",
   "execution_count": null,
   "id": "7cb3b91c",
   "metadata": {},
   "outputs": [],
   "source": [
    "# Importando o dataset iris"
   ]
  },
  {
   "cell_type": "code",
   "execution_count": null,
   "id": "4388acc0",
   "metadata": {},
   "outputs": [],
   "source": [
    "# Utilizando o PCA"
   ]
  },
  {
   "cell_type": "code",
   "execution_count": null,
   "id": "88d55906",
   "metadata": {},
   "outputs": [],
   "source": [
    "# Verificando o resultado da transformação"
   ]
  },
  {
   "cell_type": "code",
   "execution_count": null,
   "id": "cb73b366",
   "metadata": {},
   "outputs": [],
   "source": [
    "# Visualizando graficamente"
   ]
  },
  {
   "cell_type": "code",
   "execution_count": null,
   "id": "84cd721d",
   "metadata": {},
   "outputs": [],
   "source": [
    "# Verificando o quanto o PCA consegue explicar da variação dos nossos dados"
   ]
  },
  {
   "cell_type": "code",
   "execution_count": null,
   "id": "7385ad08",
   "metadata": {},
   "outputs": [],
   "source": [
    "# Visualizando os componentes"
   ]
  },
  {
   "cell_type": "code",
   "execution_count": null,
   "id": "95798cba",
   "metadata": {},
   "outputs": [],
   "source": [
    "# E visualizando a importância de cada variável em cada um dos componentes"
   ]
  }
 ],
 "metadata": {
  "kernelspec": {
   "display_name": "Python 3 (ipykernel)",
   "language": "python",
   "name": "python3"
  },
  "language_info": {
   "codemirror_mode": {
    "name": "ipython",
    "version": 3
   },
   "file_extension": ".py",
   "mimetype": "text/x-python",
   "name": "python",
   "nbconvert_exporter": "python",
   "pygments_lexer": "ipython3",
   "version": "3.9.13"
  }
 },
 "nbformat": 4,
 "nbformat_minor": 5
}
