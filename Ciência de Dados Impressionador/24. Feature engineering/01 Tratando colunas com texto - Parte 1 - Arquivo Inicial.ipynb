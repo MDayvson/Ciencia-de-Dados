{
 "cells": [
  {
   "cell_type": "markdown",
   "id": "ace2d587",
   "metadata": {},
   "source": [
    "# Feature Engineering\n",
    "- O processo de **extração, transformação, criação e seleção de recursos (features) dos dados**\n",
    "    - **\"Feature\"**: em resumo, é qualquer atributo nos dados capaz de **diferenciar alguma coisa** \n",
    "        - Por exemplo, para diferenciar uma banana de uma maça podemos usar as features: **formato, cor, textura**\n",
    "    <img src=\"https://drive.google.com/uc?id=1w2PykpRyPhDF7GLkEsEi46q44ZrklZRe\" style='width: 450px;' /><br>\n",
    "            - Tradução: atributo ou aspecto **distintivo (capaz de distinguir)** de algo\n",
    "    <br><br>\n",
    "    - Como vantagens:\n",
    "        - Melhora o resultado do modelo\n",
    "        - Viabiliza o uso de determinadas informações\n",
    "        - Reduz esforço computacional\n",
    "        - Aumenta a **generalização**\n",
    "    - Consome grande parte do tempo do projeto"
   ]
  },
  {
   "cell_type": "code",
   "execution_count": null,
   "id": "5397c64e",
   "metadata": {},
   "outputs": [],
   "source": [
    "# Importando o pandas"
   ]
  },
  {
   "cell_type": "code",
   "execution_count": null,
   "id": "55ddab68",
   "metadata": {},
   "outputs": [],
   "source": [
    "# Importando os dados do titanic após as etapas de Data Cleaning"
   ]
  },
  {
   "cell_type": "code",
   "execution_count": null,
   "id": "11a91555",
   "metadata": {},
   "outputs": [],
   "source": [
    "# Visualizando a tabela"
   ]
  },
  {
   "cell_type": "markdown",
   "id": "c46e16a8",
   "metadata": {},
   "source": [
    "- **Se tentarmos usar a árvore de classificação**\n",
    "    - https://scikit-learn.org/stable/modules/generated/sklearn.tree.DecisionTreeClassifier.html#sklearn.tree.DecisionTreeClassifier"
   ]
  },
  {
   "cell_type": "code",
   "execution_count": null,
   "id": "88dddc4d",
   "metadata": {},
   "outputs": [],
   "source": [
    "# Importando o DecisionTreeClassifier"
   ]
  },
  {
   "cell_type": "code",
   "execution_count": null,
   "id": "7551252d",
   "metadata": {},
   "outputs": [],
   "source": [
    "# Criando o classificador"
   ]
  },
  {
   "cell_type": "code",
   "execution_count": null,
   "id": "5aee6d45",
   "metadata": {},
   "outputs": [],
   "source": [
    "# Separando X e Y"
   ]
  },
  {
   "cell_type": "code",
   "execution_count": null,
   "id": "3f2b84ad",
   "metadata": {},
   "outputs": [],
   "source": [
    "# Fazendo o fit com os dados"
   ]
  },
  {
   "cell_type": "markdown",
   "id": "ea17012d",
   "metadata": {},
   "source": [
    "## <font color='blue'> Tratando variáveis de texto </font>\n",
    "- **Grande parte dos modelos não é capaz de receber valores de texto e devemos transformar esses valores em numéricos**"
   ]
  },
  {
   "cell_type": "markdown",
   "id": "37e14231",
   "metadata": {},
   "source": [
    "- **Vamos começar tratando os problemas que inviabilizam de usarmos os dados no nosso modelo**\n",
    "    - `ValueError: could not convert string to float: 'male'`"
   ]
  },
  {
   "cell_type": "code",
   "execution_count": null,
   "id": "3d8c80c6",
   "metadata": {},
   "outputs": [],
   "source": [
    "# Verificando os valores na coluna Sex"
   ]
  },
  {
   "cell_type": "markdown",
   "id": "b7411e51",
   "metadata": {},
   "source": [
    "- Como temos apenas 2 valores, podemos considerar que ou o valor é `male` ou não é\n",
    "    - **Podemos usar 1 quando o valor for `male` e 0 quando não for**\n",
    "    - Para fazer isso podemos usar a <font color='blue'>**lambda function para verificar se o valor é igual ou não a 'male'**</font>\n",
    "    - É importante entendermos com o negócio se vamos receber novos valores além desses e, caso isso aconteça, pensarmos na melhor maneira de tratar esse valor"
   ]
  },
  {
   "cell_type": "code",
   "execution_count": null,
   "id": "5ea1b514",
   "metadata": {},
   "outputs": [],
   "source": [
    "# Verificando se o valor na coluna é \"male\""
   ]
  },
  {
   "cell_type": "code",
   "execution_count": null,
   "id": "f981fb7e",
   "metadata": {},
   "outputs": [],
   "source": [
    "# Criando uma nova coluna com essa informação"
   ]
  },
  {
   "cell_type": "code",
   "execution_count": null,
   "id": "a45b2afd",
   "metadata": {},
   "outputs": [],
   "source": [
    "# Verificando a base com essa nova coluna"
   ]
  },
  {
   "cell_type": "code",
   "execution_count": null,
   "id": "ff84bcc4",
   "metadata": {},
   "outputs": [],
   "source": [
    "# Podemos inclusive fazer um groupby para verificar se todos os dados da nova coluna estão corretos"
   ]
  },
  {
   "cell_type": "markdown",
   "id": "08fbabce",
   "metadata": {},
   "source": [
    "- Já que a informação nas colunas `Is_Male` e `Sex`estão nos dando **a mesma informação** sobre os dados, **não é necessário manter as duas**"
   ]
  },
  {
   "cell_type": "code",
   "execution_count": null,
   "id": "2ab7d9c1",
   "metadata": {},
   "outputs": [],
   "source": [
    "# Excluindo a coluna \"Sex\""
   ]
  },
  {
   "cell_type": "code",
   "execution_count": null,
   "id": "50acf046",
   "metadata": {},
   "outputs": [],
   "source": [
    "### Novamente tentando fazer o fit com os dados\n",
    "# Separando X e Y\n",
    "\n",
    "# Fazendo o fit"
   ]
  },
  {
   "cell_type": "markdown",
   "id": "6e880ee7",
   "metadata": {},
   "source": [
    "- **Ainda temos o mesmo problema de tentar passar uma string para o nosso modelo, mas agora temos mais de 2 categorias (não podemos criar uma coluna apenas com 1 ou 0)**\n",
    "    - `ValueError: could not convert string to float: 'S'`\n",
    "    - Como <font color='blue'>**não existe uma relação de ordem entre os valores**</font>, podemos utilizar o <font color='blue'>**One Hot Encoder**</font>\n",
    "        - https://scikit-learn.org/stable/modules/generated/sklearn.preprocessing.OneHotEncoder.html"
   ]
  },
  {
   "cell_type": "code",
   "execution_count": null,
   "id": "2e6f7cd3",
   "metadata": {},
   "outputs": [],
   "source": [
    "# Importando"
   ]
  },
  {
   "cell_type": "code",
   "execution_count": null,
   "id": "abebddd1",
   "metadata": {},
   "outputs": [],
   "source": [
    "# Utilizando o OneHotEncoder"
   ]
  },
  {
   "cell_type": "code",
   "execution_count": null,
   "id": "01ac3705",
   "metadata": {},
   "outputs": [],
   "source": [
    "# Fazendo o fit com os dados"
   ]
  },
  {
   "cell_type": "code",
   "execution_count": null,
   "id": "396dd39d",
   "metadata": {},
   "outputs": [],
   "source": [
    "# Fazendo a transformação da coluna Embarked"
   ]
  },
  {
   "cell_type": "code",
   "execution_count": null,
   "id": "4026f267",
   "metadata": {},
   "outputs": [],
   "source": [
    "# Podemos transformar esse resultado em um DataFrame"
   ]
  },
  {
   "cell_type": "code",
   "execution_count": null,
   "id": "245e782a",
   "metadata": {},
   "outputs": [],
   "source": [
    "# Agora podemos utilizar o categories_ para nomear essas colunas"
   ]
  },
  {
   "cell_type": "code",
   "execution_count": null,
   "id": "f469ad31",
   "metadata": {},
   "outputs": [],
   "source": [
    "# Visualizando esse DF"
   ]
  },
  {
   "cell_type": "code",
   "execution_count": null,
   "id": "d7c48859",
   "metadata": {},
   "outputs": [],
   "source": [
    "# Visualizando o dataset titanic"
   ]
  },
  {
   "cell_type": "code",
   "execution_count": null,
   "id": "7296c5ca",
   "metadata": {},
   "outputs": [],
   "source": [
    "# Unindo essas duas informações"
   ]
  },
  {
   "cell_type": "code",
   "execution_count": null,
   "id": "ff6a6163",
   "metadata": {},
   "outputs": [],
   "source": [
    "# Visualizando esses dados"
   ]
  },
  {
   "cell_type": "code",
   "execution_count": null,
   "id": "efe8612f",
   "metadata": {},
   "outputs": [],
   "source": [
    "# E então excluindo as duas colunas que usamos para fazer o OHE"
   ]
  },
  {
   "cell_type": "code",
   "execution_count": null,
   "id": "6511580a",
   "metadata": {},
   "outputs": [],
   "source": [
    "# Visualizando novamente"
   ]
  },
  {
   "cell_type": "code",
   "execution_count": null,
   "id": "e26a4808",
   "metadata": {},
   "outputs": [],
   "source": [
    "# Novamente tentando fazer o fit com os dados\n",
    "# Separando X e Y\n",
    "\n",
    "# Fazendo o fit"
   ]
  }
 ],
 "metadata": {
  "kernelspec": {
   "display_name": "Python 3 (ipykernel)",
   "language": "python",
   "name": "python3"
  },
  "language_info": {
   "codemirror_mode": {
    "name": "ipython",
    "version": 3
   },
   "file_extension": ".py",
   "mimetype": "text/x-python",
   "name": "python",
   "nbconvert_exporter": "python",
   "pygments_lexer": "ipython3",
   "version": "3.9.13"
  }
 },
 "nbformat": 4,
 "nbformat_minor": 5
}
