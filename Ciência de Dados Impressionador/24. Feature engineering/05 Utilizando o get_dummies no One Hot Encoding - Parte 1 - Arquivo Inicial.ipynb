{
 "cells": [
  {
   "cell_type": "markdown",
   "id": "426ca145",
   "metadata": {},
   "source": [
    "# Utilizando o get_dummies para o One Hot Encoding\n",
    "- Utilizando o get_dummies para realizar o One Hot Encoding\n",
    "    - **One Hot Encoding**: é o processo de transformar colunas, onde os dados não possuem relação entre si, em novas colunas com valores 0 ou 1 referente a presença ou não do valor\n",
    "    - Podemos fazer isso através do OneHotEncoder ou de várias outras formas"
   ]
  },
  {
   "cell_type": "code",
   "execution_count": null,
   "id": "a49b985e",
   "metadata": {},
   "outputs": [],
   "source": [
    "# Importando o pandas"
   ]
  },
  {
   "cell_type": "code",
   "execution_count": null,
   "id": "9d938f18",
   "metadata": {},
   "outputs": [],
   "source": [
    "# Importando os dados do titanic após as etapas de Data Cleaning"
   ]
  },
  {
   "cell_type": "code",
   "execution_count": null,
   "id": "978377b7",
   "metadata": {},
   "outputs": [],
   "source": [
    "# Visualizando a tabela"
   ]
  },
  {
   "cell_type": "markdown",
   "id": "598e87e7",
   "metadata": {},
   "source": [
    "- **Vamos utilizar o get_dummies para fazer o One Hot Encoding dessas mesmas colunas**\n",
    "    - https://pandas.pydata.org/pandas-docs/stable/reference/api/pandas.get_dummies.html"
   ]
  },
  {
   "cell_type": "code",
   "execution_count": null,
   "id": "f6dd60c6",
   "metadata": {},
   "outputs": [],
   "source": [
    "# Utilizando o get_dummies"
   ]
  },
  {
   "cell_type": "code",
   "execution_count": null,
   "id": "0e2ecb3a",
   "metadata": {},
   "outputs": [],
   "source": [
    "# Unindo o get_dummies com nossa base"
   ]
  },
  {
   "cell_type": "code",
   "execution_count": null,
   "id": "cdfaa7b1",
   "metadata": {},
   "outputs": [],
   "source": [
    "# Visualizando a base"
   ]
  },
  {
   "cell_type": "markdown",
   "id": "249041e1",
   "metadata": {},
   "source": [
    "- Verificando a quantidade de registros na coluna títulos"
   ]
  },
  {
   "cell_type": "code",
   "execution_count": null,
   "id": "cd68b342",
   "metadata": {},
   "outputs": [],
   "source": [
    "# Contando os valores em \"Títulos\""
   ]
  },
  {
   "cell_type": "markdown",
   "id": "1d8c72d5",
   "metadata": {},
   "source": [
    "- **Utilizando o OneHotEncoder conseguimos limitar o número de categorias (max_categories) e até selecionar o número mínimo de registros para considerarmos uma categoria (min_frequency)**\n",
    "    - https://scikit-learn.org/stable/modules/generated/sklearn.preprocessing.OneHotEncoder.html"
   ]
  },
  {
   "cell_type": "code",
   "execution_count": null,
   "id": "62203c84",
   "metadata": {},
   "outputs": [],
   "source": [
    "# Importando"
   ]
  },
  {
   "cell_type": "code",
   "execution_count": null,
   "id": "84875f0d",
   "metadata": {},
   "outputs": [],
   "source": [
    "# Utilizando o OneHotEncoder limitando as colunas"
   ]
  },
  {
   "cell_type": "code",
   "execution_count": null,
   "id": "90281829",
   "metadata": {},
   "outputs": [],
   "source": [
    "# Fazendo o fit com os dados"
   ]
  },
  {
   "cell_type": "code",
   "execution_count": null,
   "id": "2aadd5d8",
   "metadata": {},
   "outputs": [],
   "source": [
    "# Fazendo a transformação da coluna Embarked"
   ]
  },
  {
   "cell_type": "code",
   "execution_count": null,
   "id": "c70af303",
   "metadata": {},
   "outputs": [],
   "source": [
    "# Verificando o nome das colunas"
   ]
  },
  {
   "cell_type": "code",
   "execution_count": null,
   "id": "0a8ed374",
   "metadata": {},
   "outputs": [],
   "source": [
    "# Agora limitando as linhas"
   ]
  },
  {
   "cell_type": "code",
   "execution_count": null,
   "id": "a87c25b7",
   "metadata": {},
   "outputs": [],
   "source": [
    "# Fazendo o fit com os dados"
   ]
  },
  {
   "cell_type": "code",
   "execution_count": null,
   "id": "3eee8f06",
   "metadata": {},
   "outputs": [],
   "source": [
    "# Fazendo a transformação da coluna Embarked"
   ]
  },
  {
   "cell_type": "code",
   "execution_count": null,
   "id": "bf1b1639",
   "metadata": {},
   "outputs": [],
   "source": [
    "# Verificando o nome das colunas"
   ]
  },
  {
   "cell_type": "markdown",
   "id": "02fb8799",
   "metadata": {},
   "source": [
    "- **Além disso, o OneHotEncoder também funciona melhor no caso de termos uma categoria nos dados de produção que não estava nos dados de treinamento / avaliação do modelo**"
   ]
  },
  {
   "cell_type": "code",
   "execution_count": null,
   "id": "0e3d9222",
   "metadata": {},
   "outputs": [],
   "source": [
    "# Importando novamente o dataset"
   ]
  },
  {
   "cell_type": "code",
   "execution_count": null,
   "id": "362e63be",
   "metadata": {},
   "outputs": [],
   "source": [
    "# Retirando a coluna de embarque e gênero"
   ]
  },
  {
   "cell_type": "code",
   "execution_count": null,
   "id": "d0481900",
   "metadata": {},
   "outputs": [],
   "source": [
    "# Visualizando a base"
   ]
  },
  {
   "cell_type": "markdown",
   "id": "22165d89",
   "metadata": {},
   "source": [
    "- Utilizando o **.get_dummies()**"
   ]
  },
  {
   "cell_type": "code",
   "execution_count": null,
   "id": "0e06866e",
   "metadata": {},
   "outputs": [],
   "source": [
    "# Utilizando o get_dummies"
   ]
  },
  {
   "cell_type": "code",
   "execution_count": null,
   "id": "3c9fa25a",
   "metadata": {},
   "outputs": [],
   "source": [
    "# Excluindo a coluna Titulos"
   ]
  },
  {
   "cell_type": "code",
   "execution_count": null,
   "id": "983ac4b4",
   "metadata": {},
   "outputs": [],
   "source": [
    "# Visualizando a nova base"
   ]
  },
  {
   "cell_type": "code",
   "execution_count": null,
   "id": "b5ee0a72",
   "metadata": {},
   "outputs": [],
   "source": [
    "# Importando o DecisionTreeClassifier"
   ]
  },
  {
   "cell_type": "code",
   "execution_count": null,
   "id": "d6e08ece",
   "metadata": {},
   "outputs": [],
   "source": [
    "# Criando o classificador"
   ]
  },
  {
   "cell_type": "code",
   "execution_count": null,
   "id": "151ab0fa",
   "metadata": {},
   "outputs": [],
   "source": [
    "# Separando X e Y"
   ]
  },
  {
   "cell_type": "code",
   "execution_count": null,
   "id": "5590bffc",
   "metadata": {},
   "outputs": [],
   "source": [
    "# Fazendo o fit com os dados"
   ]
  },
  {
   "cell_type": "markdown",
   "id": "b7f666f6",
   "metadata": {},
   "source": [
    "- Agora vamos usar a base `previsao` para fazer o predict"
   ]
  },
  {
   "cell_type": "code",
   "execution_count": null,
   "id": "2e53c683",
   "metadata": {},
   "outputs": [],
   "source": [
    "# Importando o dataset para fazer a previsao"
   ]
  },
  {
   "cell_type": "code",
   "execution_count": null,
   "id": "5483e12c",
   "metadata": {},
   "outputs": [],
   "source": [
    "# Retirando a coluna de embarque e gênero"
   ]
  },
  {
   "cell_type": "code",
   "execution_count": null,
   "id": "decba093",
   "metadata": {},
   "outputs": [],
   "source": [
    "# Utilizando o get_dummies"
   ]
  },
  {
   "cell_type": "code",
   "execution_count": null,
   "id": "9728f587",
   "metadata": {},
   "outputs": [],
   "source": [
    "# Excluindo a coluna Titulos"
   ]
  },
  {
   "cell_type": "code",
   "execution_count": null,
   "id": "1a32df9d",
   "metadata": {},
   "outputs": [],
   "source": [
    "# Visualizando a base"
   ]
  },
  {
   "cell_type": "code",
   "execution_count": null,
   "id": "55980eb2",
   "metadata": {},
   "outputs": [],
   "source": [
    "# Separando X e Y"
   ]
  },
  {
   "cell_type": "code",
   "execution_count": null,
   "id": "60b69dda",
   "metadata": {},
   "outputs": [],
   "source": [
    "# Utilizando a árvode de classificação para fazer a previsão"
   ]
  },
  {
   "cell_type": "markdown",
   "id": "5b04ef21",
   "metadata": {},
   "source": [
    "<a id='ohe'></a>\n",
    "- Utilizando o **OneHotEncoder**"
   ]
  },
  {
   "cell_type": "code",
   "execution_count": null,
   "id": "b93c284b",
   "metadata": {},
   "outputs": [],
   "source": [
    "# Importando novamente o dataset"
   ]
  },
  {
   "cell_type": "code",
   "execution_count": null,
   "id": "dcdb2a0e",
   "metadata": {},
   "outputs": [],
   "source": [
    "# Retirando a coluna de embarque e gênero"
   ]
  },
  {
   "cell_type": "code",
   "execution_count": null,
   "id": "b31dc378",
   "metadata": {},
   "outputs": [],
   "source": [
    "# Visualizando a base"
   ]
  },
  {
   "cell_type": "code",
   "execution_count": null,
   "id": "d5b5ce54",
   "metadata": {},
   "outputs": [],
   "source": [
    "# Utilizando o OneHotEncoder limitando as colunas"
   ]
  },
  {
   "cell_type": "code",
   "execution_count": null,
   "id": "bbbb95da",
   "metadata": {},
   "outputs": [],
   "source": [
    "# Fazendo o fit com os dados"
   ]
  },
  {
   "cell_type": "code",
   "execution_count": null,
   "id": "c801d5f6",
   "metadata": {},
   "outputs": [],
   "source": [
    "# Verificando o nome das colunas"
   ]
  },
  {
   "cell_type": "code",
   "execution_count": null,
   "id": "4c27e6ee",
   "metadata": {},
   "outputs": [],
   "source": [
    "# Criando um DataFrame"
   ]
  },
  {
   "cell_type": "code",
   "execution_count": null,
   "id": "d8e77025",
   "metadata": {},
   "outputs": [],
   "source": [
    "# Unindo esses valores no dataset do titanic"
   ]
  },
  {
   "cell_type": "code",
   "execution_count": null,
   "id": "e8385885",
   "metadata": {},
   "outputs": [],
   "source": [
    "# Eliminando a coluna Titulos"
   ]
  },
  {
   "cell_type": "code",
   "execution_count": null,
   "id": "f05144b2",
   "metadata": {},
   "outputs": [],
   "source": [
    "# Criando o classificador"
   ]
  },
  {
   "cell_type": "code",
   "execution_count": null,
   "id": "511ffcaf",
   "metadata": {},
   "outputs": [],
   "source": [
    "# Separando X e Y"
   ]
  },
  {
   "cell_type": "code",
   "execution_count": null,
   "id": "332210ee",
   "metadata": {},
   "outputs": [],
   "source": [
    "# Fazendo o fit com os dados"
   ]
  },
  {
   "cell_type": "markdown",
   "id": "ea4bfbf5",
   "metadata": {},
   "source": [
    "- Novamente utilizando a base `previsao` para fazer o predict"
   ]
  },
  {
   "cell_type": "code",
   "execution_count": null,
   "id": "d21eb157",
   "metadata": {},
   "outputs": [],
   "source": [
    "# Importando o dataset para fazer a previsao"
   ]
  },
  {
   "cell_type": "code",
   "execution_count": null,
   "id": "d2a982fb",
   "metadata": {},
   "outputs": [],
   "source": [
    "# Retirando a coluna de embarque e gênero"
   ]
  },
  {
   "cell_type": "code",
   "execution_count": null,
   "id": "358a77f3",
   "metadata": {},
   "outputs": [],
   "source": [
    "# Fazendo a transformação"
   ]
  },
  {
   "cell_type": "markdown",
   "id": "1e2017f0",
   "metadata": {},
   "source": [
    "- [Voltando](#ohe) e trocando o `handle_unknown` por \"ignore\""
   ]
  },
  {
   "cell_type": "code",
   "execution_count": null,
   "id": "143a0d13",
   "metadata": {},
   "outputs": [],
   "source": [
    "# Visualizando o nome das features geradas"
   ]
  },
  {
   "cell_type": "code",
   "execution_count": null,
   "id": "9574d7bc",
   "metadata": {},
   "outputs": [],
   "source": [
    "# Criando um DataFrame"
   ]
  },
  {
   "cell_type": "code",
   "execution_count": null,
   "id": "ce727f6e",
   "metadata": {},
   "outputs": [],
   "source": [
    "# Unindo esses valores no dataset do titanic"
   ]
  },
  {
   "cell_type": "code",
   "execution_count": null,
   "id": "89c83473",
   "metadata": {},
   "outputs": [],
   "source": [
    "# Excluindo a coluna Titulos"
   ]
  },
  {
   "cell_type": "code",
   "execution_count": null,
   "id": "79a6ddad",
   "metadata": {},
   "outputs": [],
   "source": [
    "# Visualizando a base"
   ]
  },
  {
   "cell_type": "code",
   "execution_count": null,
   "id": "23693d7b",
   "metadata": {},
   "outputs": [],
   "source": [
    "# Separando X e Y"
   ]
  },
  {
   "cell_type": "code",
   "execution_count": null,
   "id": "3167e4b8",
   "metadata": {},
   "outputs": [],
   "source": [
    "# Utilizando a árvode de classificação para fazer a previsão"
   ]
  },
  {
   "cell_type": "code",
   "execution_count": null,
   "id": "1efce3f4",
   "metadata": {},
   "outputs": [],
   "source": [
    "# Visualizando essa previsão"
   ]
  }
 ],
 "metadata": {
  "kernelspec": {
   "display_name": "Python 3 (ipykernel)",
   "language": "python",
   "name": "python3"
  },
  "language_info": {
   "codemirror_mode": {
    "name": "ipython",
    "version": 3
   },
   "file_extension": ".py",
   "mimetype": "text/x-python",
   "name": "python",
   "nbconvert_exporter": "python",
   "pygments_lexer": "ipython3",
   "version": "3.9.13"
  }
 },
 "nbformat": 4,
 "nbformat_minor": 5
}
