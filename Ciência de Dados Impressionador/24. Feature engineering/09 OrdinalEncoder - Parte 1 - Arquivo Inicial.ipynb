{
 "cells": [
  {
   "cell_type": "markdown",
   "id": "5c69c4c4",
   "metadata": {},
   "source": [
    "# OrdinalEncoder\n",
    "- Se existe uma relação entre os rótulos de dados, podemos colocá-los em uma ordem e usar números para representar cada um dos rótulos\n",
    "    - Ex: ruim / médio / bom pode ser representado como 0 / 1 / 2\n",
    "- Independente do número de rótulos, é possível fazer a transformação **resultando em 1 única coluna**\n",
    "- Vamos considerar a base de HR disponível no Kaggle:\n",
    "    - https://www.kaggle.com/datasets/arashnic/hr-analytics-job-change-of-data-scientists\n",
    "    - [Essa base está disponível no drive](https://drive.google.com/file/d/1EdQSEnNFM8ufrW3831EItxjSaRhf0Vw9/view?usp=share_link)"
   ]
  },
  {
   "cell_type": "code",
   "execution_count": null,
   "id": "47226923",
   "metadata": {},
   "outputs": [],
   "source": [
    "# Importando o pandas"
   ]
  },
  {
   "cell_type": "code",
   "execution_count": null,
   "id": "b4dbc054",
   "metadata": {},
   "outputs": [],
   "source": [
    "# Importando a base"
   ]
  },
  {
   "cell_type": "code",
   "execution_count": null,
   "id": "943959b8",
   "metadata": {},
   "outputs": [],
   "source": [
    "# Visualizando a base"
   ]
  },
  {
   "cell_type": "code",
   "execution_count": null,
   "id": "10009dcd",
   "metadata": {},
   "outputs": [],
   "source": [
    "# E as informações dessa base"
   ]
  },
  {
   "cell_type": "markdown",
   "id": "aeb3def6",
   "metadata": {},
   "source": [
    "- Podemos verificar a coluna **education_level** para tratar o nível de educação do candidato"
   ]
  },
  {
   "cell_type": "code",
   "execution_count": null,
   "id": "40f848f3",
   "metadata": {},
   "outputs": [],
   "source": [
    "# Verificando a coluna education_level"
   ]
  },
  {
   "cell_type": "markdown",
   "id": "b4901406",
   "metadata": {},
   "source": [
    "- Sabemos que existe uma relação entre o nível de educação\n",
    "    - Por exemplo, começamos no ensino primário, depois vamos para a high school, graduate, masters e então phd\n",
    "- Podemos começar transformando essas informações em colunas utilizando o One-Hot Encoding"
   ]
  },
  {
   "cell_type": "code",
   "execution_count": null,
   "id": "4ac1bbab",
   "metadata": {},
   "outputs": [],
   "source": [
    "# Transformando em colunas"
   ]
  },
  {
   "cell_type": "markdown",
   "id": "7ca6d098",
   "metadata": {},
   "source": [
    "- Só que nesse caso estamos criando 5 novas colunas no lugar de 1, então isso aumenta o tamanho da nossa base\n",
    "- **Outra opção seria utilizar valores relacionados ao nível educacional do candidato (ex: 0 para primário, 1 para ensino médio (high school), 2 para graduação, etc)**"
   ]
  },
  {
   "cell_type": "markdown",
   "id": "8f91c331",
   "metadata": {},
   "source": [
    "<a id=\"OrdinalEncoder\"></a>\n",
    "- **Para isso, vamos utilizar o OrdinalEncoder**:\n",
    "    - https://scikit-learn.org/stable/modules/generated/sklearn.preprocessing.OrdinalEncoder.html#sklearn.preprocessing.OrdinalEncoder"
   ]
  },
  {
   "cell_type": "code",
   "execution_count": null,
   "id": "eb9bb675",
   "metadata": {},
   "outputs": [],
   "source": [
    "# Importando"
   ]
  },
  {
   "cell_type": "code",
   "execution_count": null,
   "id": "4e597270",
   "metadata": {},
   "outputs": [],
   "source": [
    "# Criando o objeto "
   ]
  },
  {
   "cell_type": "code",
   "execution_count": null,
   "id": "d689b27f",
   "metadata": {},
   "outputs": [],
   "source": [
    "# Fazendo o fit com os dados"
   ]
  },
  {
   "cell_type": "code",
   "execution_count": null,
   "id": "53b11db1",
   "metadata": {},
   "outputs": [],
   "source": [
    "# Transformando os dados"
   ]
  },
  {
   "cell_type": "code",
   "execution_count": null,
   "id": "10d62235",
   "metadata": {},
   "outputs": [],
   "source": [
    "# Criando um DF"
   ]
  },
  {
   "cell_type": "code",
   "execution_count": null,
   "id": "156d2b06",
   "metadata": {},
   "outputs": [],
   "source": [
    "# Unindo com o dataset original"
   ]
  },
  {
   "cell_type": "code",
   "execution_count": null,
   "id": "530f1640",
   "metadata": {},
   "outputs": [],
   "source": [
    "# Visualizando a nova base"
   ]
  },
  {
   "cell_type": "code",
   "execution_count": null,
   "id": "c1504c58",
   "metadata": {},
   "outputs": [],
   "source": [
    "# Considerando apenas as colunas de nível educacional"
   ]
  },
  {
   "cell_type": "markdown",
   "id": "b6418c54",
   "metadata": {},
   "source": [
    "- Observe que o encoder que fizemos não está relacionando o nível correto da educação do candidato, pois ele está considerando um candidato com High School como 1, com ensino primário como 4 e graduado como 0\n",
    "- Podemos [voltar](#OrdinalEncoder) no OrdinalEncoder e definir `categories`"
   ]
  },
  {
   "cell_type": "markdown",
   "id": "c2f99a75",
   "metadata": {},
   "source": [
    "- Obs: ao usarmos o `categories`, vamos precisar informar para o OrdinalEncoder o que ele deve fazer com os valores vazios. Caso contrário, vamos ter um erro informando:<br>\n",
    "`ValueError: Found unknown categories [nan] in column ___ during fit`"
   ]
  },
  {
   "cell_type": "code",
   "execution_count": null,
   "id": "9d72f587",
   "metadata": {},
   "outputs": [],
   "source": [
    "# Podemos também filtrar os valores com education_level vazios"
   ]
  },
  {
   "cell_type": "markdown",
   "id": "0b0dc579",
   "metadata": {},
   "source": [
    "- Também podemos passar o `dtype` como parâmetro do próprio OrdinalEncoder para determinar o tipo dos dados"
   ]
  },
  {
   "cell_type": "markdown",
   "id": "45dbb4a2",
   "metadata": {},
   "source": [
    "- Para transformar mais de 1 coluna, basta passar essas informações nas categorias"
   ]
  },
  {
   "cell_type": "code",
   "execution_count": null,
   "id": "4ed6b5b8",
   "metadata": {},
   "outputs": [],
   "source": [
    "# Adicionando a coluna de enrolled_university na análise"
   ]
  },
  {
   "cell_type": "code",
   "execution_count": null,
   "id": "04b4ca68",
   "metadata": {},
   "outputs": [],
   "source": [
    "# Definindo a ordem dos rótulos das duas colunas"
   ]
  },
  {
   "cell_type": "code",
   "execution_count": null,
   "id": "b5777400",
   "metadata": {},
   "outputs": [],
   "source": [
    "# E usando o OrdinalEncoder"
   ]
  },
  {
   "cell_type": "code",
   "execution_count": null,
   "id": "cd090d20",
   "metadata": {},
   "outputs": [],
   "source": [
    "# Fazendo o fit com os dados"
   ]
  },
  {
   "cell_type": "code",
   "execution_count": null,
   "id": "b4a352f5",
   "metadata": {},
   "outputs": [],
   "source": [
    "# Transformando os dados"
   ]
  }
 ],
 "metadata": {
  "kernelspec": {
   "display_name": "Python 3 (ipykernel)",
   "language": "python",
   "name": "python3"
  },
  "language_info": {
   "codemirror_mode": {
    "name": "ipython",
    "version": 3
   },
   "file_extension": ".py",
   "mimetype": "text/x-python",
   "name": "python",
   "nbconvert_exporter": "python",
   "pygments_lexer": "ipython3",
   "version": "3.9.13"
  }
 },
 "nbformat": 4,
 "nbformat_minor": 5
}
