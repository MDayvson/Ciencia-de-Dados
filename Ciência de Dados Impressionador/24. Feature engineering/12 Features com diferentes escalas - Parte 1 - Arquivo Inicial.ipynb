{
 "cells": [
  {
   "cell_type": "markdown",
   "id": "8658d31d",
   "metadata": {},
   "source": [
    "# Features com diferentes escalas\n",
    "- **\"Se uma característica tem uma variância que é ordem de grandeza maior do que outras, ela pode dominar a função objetivo e tornar o estimador incapaz de aprender com outras características corretamente, como esperado\"**\n",
    "- Resumindo, o modelo pode colocar mais peso nas variáveis que possuem maior escala e acabar desconsiderando variáveis com menor escala mas que sejam igualmente ou mais importantes (em algoritmos que consideram a distância)\n",
    "    - Ex: comparar salário com número de filhos (se usarmos a distância euclidiana por exemplo, a variável com maior escala irá dominar o cálculo)\n",
    "- **O objetivo é colocar todos os nossos recursos em escalas próximas para que o modelo entenda cada um deles como igualmente importantes**\n",
    "- Não estamos mudando o formato dos dados, apenas a escala "
   ]
  },
  {
   "cell_type": "code",
   "execution_count": null,
   "id": "57c97bdf",
   "metadata": {},
   "outputs": [],
   "source": [
    "# Importando o pandas"
   ]
  },
  {
   "cell_type": "code",
   "execution_count": null,
   "id": "a9c6d847",
   "metadata": {},
   "outputs": [],
   "source": [
    "# Importando os dados do titanic após as etapas de Data Cleaning"
   ]
  },
  {
   "cell_type": "code",
   "execution_count": null,
   "id": "1067964e",
   "metadata": {},
   "outputs": [],
   "source": [
    "# Visualizando a tabela"
   ]
  },
  {
   "cell_type": "code",
   "execution_count": null,
   "id": "0846a99a",
   "metadata": {},
   "outputs": [],
   "source": [
    "# Podemos visualizar as informações estatísticas dessa base"
   ]
  },
  {
   "cell_type": "markdown",
   "id": "78e9bc1a",
   "metadata": {},
   "source": [
    "- Observe que o Pclass e o Age estão em **escalas muito diferentes e isso pode prejudicar o modelo, principalmente algoritmos que utilizam distâncias entre os pontos**"
   ]
  },
  {
   "cell_type": "code",
   "execution_count": null,
   "id": "3b6621ec",
   "metadata": {},
   "outputs": [],
   "source": [
    "# Visualizando o boxplot da coluna Age"
   ]
  },
  {
   "cell_type": "markdown",
   "id": "6556a799",
   "metadata": {},
   "source": [
    "### Padronização\n",
    "- Redimensionamento dos recursos para garantir que os novos dados tenham **média zero e desvio padrão igual a 1**\n",
    "- https://scikit-learn.org/stable/modules/generated/sklearn.preprocessing.StandardScaler.html#sklearn.preprocessing.StandardScaler\n",
    "- Segundo a própria documentação do scikit-learn, alguns estimadores **\"podem se comportar mal se os recursos individuais não se parecerem mais ou menos com dados padrões normalmente distribuídos (por exemplo, Gaussiano com média zero e variância unitária)\"**\n",
    "    - \"Na prática, muitas vezes ignoramos a forma da distribuição e apenas transformamos os dados para centralizá-los\"\n",
    "- A escala padrão será dada por:\n",
    "    - **z = (x - u) / s**, onde:\n",
    "        - **u:** média das amostras\n",
    "        - **s:** desvio padrão das amostras\n",
    "- Importante considerar que a padronização é mais robusta a outliers que a normalização (que falaremos em seguida)\n",
    "- A padronização também facilita a convergência para alguns algoritmos, como o gradiente descendente (que vamos falar no módulo de redes neurais)"
   ]
  },
  {
   "cell_type": "code",
   "execution_count": null,
   "id": "d38a6095",
   "metadata": {},
   "outputs": [],
   "source": [
    "# Importando o StandardScaler"
   ]
  },
  {
   "cell_type": "code",
   "execution_count": null,
   "id": "6bff11f8",
   "metadata": {},
   "outputs": [],
   "source": [
    "# Criando nosso scaler"
   ]
  },
  {
   "cell_type": "code",
   "execution_count": null,
   "id": "f12e80ac",
   "metadata": {},
   "outputs": [],
   "source": [
    "# Fazendo o fit com os dados"
   ]
  },
  {
   "cell_type": "code",
   "execution_count": null,
   "id": "899001ea",
   "metadata": {},
   "outputs": [],
   "source": [
    "# Fazendo o transform dos dados"
   ]
  },
  {
   "cell_type": "code",
   "execution_count": null,
   "id": "b582b901",
   "metadata": {},
   "outputs": [],
   "source": [
    "# Agora visualizando estatisticamente esses dados"
   ]
  },
  {
   "cell_type": "code",
   "execution_count": null,
   "id": "7a05f967",
   "metadata": {},
   "outputs": [],
   "source": [
    "# Podemos inclusive verificar apenas a média"
   ]
  },
  {
   "cell_type": "code",
   "execution_count": null,
   "id": "f62f4efa",
   "metadata": {},
   "outputs": [],
   "source": [
    "# E o desvio padrão"
   ]
  },
  {
   "cell_type": "markdown",
   "id": "874a99a6",
   "metadata": {},
   "source": [
    "### Normalização\n",
    "- Uma alternativa a padronização é **normalizar os dados entre um valor mínimo e máximo (geralmente entre 0 e 1)**\n",
    "- https://scikit-learn.org/stable/modules/generated/sklearn.preprocessing.MinMaxScaler.html#sklearn.preprocessing.MinMaxScaler\n",
    "- A transformação é dada por:\n",
    "    - **X_scaled = <font color='blue'>X_std</font>.(max - min) + min**, sendo:\n",
    "        - **<font color='blue'>X_std</font> = (X - X.min(axis=0)) / (X.max(axis=0) - X.min(axis=0))**\n",
    "- Em geral, vamos obter desvios padrões menores (dados mais concentrados próximo a média) e a normalização é muito útil quando queremos manter os valores zeros do dataset"
   ]
  },
  {
   "cell_type": "code",
   "execution_count": null,
   "id": "58fff870",
   "metadata": {},
   "outputs": [],
   "source": [
    "# Importando o MinMaxScaler"
   ]
  },
  {
   "cell_type": "code",
   "execution_count": null,
   "id": "82ecc08c",
   "metadata": {},
   "outputs": [],
   "source": [
    "# Criando o scaler"
   ]
  },
  {
   "cell_type": "code",
   "execution_count": null,
   "id": "e163301e",
   "metadata": {},
   "outputs": [],
   "source": [
    "# Fazendo o fit com os dados"
   ]
  },
  {
   "cell_type": "code",
   "execution_count": null,
   "id": "70d4ccb9",
   "metadata": {},
   "outputs": [],
   "source": [
    "# Fazendo a transformação"
   ]
  },
  {
   "cell_type": "code",
   "execution_count": null,
   "id": "338dc8cd",
   "metadata": {},
   "outputs": [],
   "source": [
    "# Visualizando novamente os dados"
   ]
  },
  {
   "cell_type": "markdown",
   "id": "abd8ee13",
   "metadata": {},
   "source": [
    "### Redimensionando dados dispersos  / com outliers\n",
    "- O **MaxAbsScaler** funciona de uma maneira semelhante, porém dividindo todos os dados pelo **máximo absoluto** daquela coluna\n",
    "    - https://scikit-learn.org/stable/modules/generated/sklearn.preprocessing.MaxAbsScaler.html#sklearn.preprocessing.MaxAbsScaler\n",
    "    - Isso faz com que o range seja de -1 a 1 caso existam valores negativos\n",
    "    - **Funciona muito bem para trabalhar com dados esparsos (dispersos / espalhados)**"
   ]
  },
  {
   "cell_type": "code",
   "execution_count": null,
   "id": "19589670",
   "metadata": {},
   "outputs": [],
   "source": [
    "# Importando o MaxAbsScaler"
   ]
  },
  {
   "cell_type": "code",
   "execution_count": null,
   "id": "5603db61",
   "metadata": {},
   "outputs": [],
   "source": [
    "# Criando o scaler"
   ]
  },
  {
   "cell_type": "code",
   "execution_count": null,
   "id": "cc53d953",
   "metadata": {},
   "outputs": [],
   "source": [
    "# Fazendo o fit com os dados"
   ]
  },
  {
   "cell_type": "code",
   "execution_count": null,
   "id": "8e1e7735",
   "metadata": {},
   "outputs": [],
   "source": [
    "# Fazendo a transformação"
   ]
  },
  {
   "cell_type": "code",
   "execution_count": null,
   "id": "2a65bad2",
   "metadata": {},
   "outputs": [],
   "source": [
    "# Visualizando novamente os dados"
   ]
  },
  {
   "cell_type": "markdown",
   "id": "2dc9b950",
   "metadata": {},
   "source": [
    "- Se os dados tiverem muitos outliers, utilizar os métodos mostrados anteriormente pode não funcionar tão bem. Como alternativa podemos utilizar o **RobustScaler**\n",
    "    - https://scikit-learn.org/stable/modules/generated/sklearn.preprocessing.RobustScaler.html#sklearn.preprocessing.RobustScaler\n",
    "    - **Vai usar o interquartil como base do redimensionamento**\n",
    "        - Interquartil: Q3 - Q1"
   ]
  },
  {
   "cell_type": "code",
   "execution_count": null,
   "id": "ec107bf4",
   "metadata": {},
   "outputs": [],
   "source": [
    "# Importando o MaxAbsScaler"
   ]
  },
  {
   "cell_type": "code",
   "execution_count": null,
   "id": "10f40a28",
   "metadata": {},
   "outputs": [],
   "source": [
    "# Criando o scaler"
   ]
  },
  {
   "cell_type": "code",
   "execution_count": null,
   "id": "8cac3432",
   "metadata": {},
   "outputs": [],
   "source": [
    "# Fazendo o fit com os dados"
   ]
  },
  {
   "cell_type": "code",
   "execution_count": null,
   "id": "77d53909",
   "metadata": {},
   "outputs": [],
   "source": [
    "# Fazendo a transformação"
   ]
  },
  {
   "cell_type": "code",
   "execution_count": null,
   "id": "49e6a591",
   "metadata": {},
   "outputs": [],
   "source": [
    "# Selecionando as colunas que queremos analisar"
   ]
  },
  {
   "cell_type": "code",
   "execution_count": null,
   "id": "37bf5918",
   "metadata": {},
   "outputs": [],
   "source": [
    "# Visualizando novamente os dados"
   ]
  },
  {
   "cell_type": "markdown",
   "id": "634b9a0a",
   "metadata": {},
   "source": [
    "- Podemos melhorar esse visual utilizando o KDE do seaborn\n",
    "    - https://seaborn.pydata.org/generated/seaborn.kdeplot.html"
   ]
  },
  {
   "cell_type": "code",
   "execution_count": null,
   "id": "356852b6",
   "metadata": {},
   "outputs": [],
   "source": [
    "# Importando o seaborn"
   ]
  },
  {
   "cell_type": "code",
   "execution_count": null,
   "id": "6adebbe5",
   "metadata": {},
   "outputs": [],
   "source": [
    "# Visualizando graficamente"
   ]
  },
  {
   "cell_type": "markdown",
   "id": "d5f68dcc",
   "metadata": {},
   "source": [
    "- **Podemos fazer o cálculo passo a passo de cada um desses valores**"
   ]
  },
  {
   "cell_type": "code",
   "execution_count": null,
   "id": "566f381c",
   "metadata": {},
   "outputs": [],
   "source": [
    "# Visualizando novamente a descrição estatística"
   ]
  },
  {
   "cell_type": "code",
   "execution_count": null,
   "id": "20b4af1d",
   "metadata": {},
   "outputs": [],
   "source": [
    "# Visualizando a média da coluna"
   ]
  },
  {
   "cell_type": "code",
   "execution_count": null,
   "id": "56268da0",
   "metadata": {},
   "outputs": [],
   "source": [
    "# O desvio padrão"
   ]
  },
  {
   "cell_type": "code",
   "execution_count": null,
   "id": "6f74f0b1",
   "metadata": {},
   "outputs": [],
   "source": [
    "# O mínimo"
   ]
  },
  {
   "cell_type": "code",
   "execution_count": null,
   "id": "d149c1e5",
   "metadata": {},
   "outputs": [],
   "source": [
    "# E o máximo"
   ]
  },
  {
   "cell_type": "markdown",
   "id": "2e437e01",
   "metadata": {},
   "source": [
    "- Calculando para o StandardScaler"
   ]
  },
  {
   "cell_type": "code",
   "execution_count": null,
   "id": "53ab84f1",
   "metadata": {},
   "outputs": [],
   "source": [
    "# O mínimo"
   ]
  },
  {
   "cell_type": "code",
   "execution_count": null,
   "id": "a97088ac",
   "metadata": {},
   "outputs": [],
   "source": [
    "# O máximo"
   ]
  },
  {
   "cell_type": "markdown",
   "id": "4d239fbd",
   "metadata": {},
   "source": [
    "- Para o MinMaxScaler, o mínimo vai ser 0 e o máximo vai ser 1"
   ]
  },
  {
   "cell_type": "markdown",
   "id": "5f29f0b4",
   "metadata": {},
   "source": [
    "- Agora verificando para o MaxAbsScaler"
   ]
  },
  {
   "cell_type": "code",
   "execution_count": null,
   "id": "d7c508b3",
   "metadata": {},
   "outputs": [],
   "source": [
    "# O mínimo"
   ]
  },
  {
   "cell_type": "code",
   "execution_count": null,
   "id": "51cd40c5",
   "metadata": {},
   "outputs": [],
   "source": [
    "# O máximo"
   ]
  },
  {
   "cell_type": "markdown",
   "id": "94f57f1d",
   "metadata": {},
   "source": [
    "- E para o RobustScaler"
   ]
  },
  {
   "cell_type": "code",
   "execution_count": null,
   "id": "2f7d7585",
   "metadata": {},
   "outputs": [],
   "source": [
    "# Calculando a mediana da coluna Age"
   ]
  },
  {
   "cell_type": "code",
   "execution_count": null,
   "id": "8e9b6060",
   "metadata": {},
   "outputs": [],
   "source": [
    "# Verificando o primeiro quartil"
   ]
  },
  {
   "cell_type": "code",
   "execution_count": null,
   "id": "bd588e55",
   "metadata": {},
   "outputs": [],
   "source": [
    "# O terceiro quartil"
   ]
  },
  {
   "cell_type": "code",
   "execution_count": null,
   "id": "782fe4c5",
   "metadata": {},
   "outputs": [],
   "source": [
    "# E o interquartil"
   ]
  },
  {
   "cell_type": "code",
   "execution_count": null,
   "id": "52ed41a6",
   "metadata": {},
   "outputs": [],
   "source": [
    "# Agora calculando para o mínimo"
   ]
  },
  {
   "cell_type": "code",
   "execution_count": null,
   "id": "9d436273",
   "metadata": {},
   "outputs": [],
   "source": [
    "# E para o mínimo"
   ]
  },
  {
   "cell_type": "markdown",
   "id": "03e3f438",
   "metadata": {},
   "source": [
    "- **Podemos fazer agora com a coluna Fare**"
   ]
  },
  {
   "cell_type": "code",
   "execution_count": null,
   "id": "7f13c097",
   "metadata": {},
   "outputs": [],
   "source": [
    "# Selecionando a coluna"
   ]
  },
  {
   "cell_type": "code",
   "execution_count": null,
   "id": "16c1e051",
   "metadata": {},
   "outputs": [],
   "source": [
    "# Utilizando o StandardScaler"
   ]
  },
  {
   "cell_type": "code",
   "execution_count": null,
   "id": "5450bd51",
   "metadata": {},
   "outputs": [],
   "source": [
    "# Fazendo o fit com os dados"
   ]
  },
  {
   "cell_type": "code",
   "execution_count": null,
   "id": "4174f98a",
   "metadata": {},
   "outputs": [],
   "source": [
    "# Transformando"
   ]
  },
  {
   "cell_type": "code",
   "execution_count": null,
   "id": "67609dda",
   "metadata": {},
   "outputs": [],
   "source": [
    "# Utilizando o RobustScaler"
   ]
  },
  {
   "cell_type": "code",
   "execution_count": null,
   "id": "7a2c510c",
   "metadata": {},
   "outputs": [],
   "source": [
    "# Fazendo o fit com os dados"
   ]
  },
  {
   "cell_type": "code",
   "execution_count": null,
   "id": "7a5860d4",
   "metadata": {},
   "outputs": [],
   "source": [
    "# Transformando"
   ]
  },
  {
   "cell_type": "code",
   "execution_count": null,
   "id": "1914332b",
   "metadata": {},
   "outputs": [],
   "source": [
    "# Utilizando o MinMaxScaler"
   ]
  },
  {
   "cell_type": "code",
   "execution_count": null,
   "id": "24484cff",
   "metadata": {},
   "outputs": [],
   "source": [
    "# Fazendo o fit com os dados"
   ]
  },
  {
   "cell_type": "code",
   "execution_count": null,
   "id": "5b0e0d28",
   "metadata": {},
   "outputs": [],
   "source": [
    "# Transformando"
   ]
  },
  {
   "cell_type": "code",
   "execution_count": null,
   "id": "01a48f36",
   "metadata": {},
   "outputs": [],
   "source": [
    "# Selecionando as colunas com Fare"
   ]
  },
  {
   "cell_type": "code",
   "execution_count": null,
   "id": "b83058d0",
   "metadata": {},
   "outputs": [],
   "source": [
    "# E fazendo o describe dessas colunas"
   ]
  },
  {
   "cell_type": "markdown",
   "id": "78435d5c",
   "metadata": {},
   "source": [
    "- **Comparando visualmente**"
   ]
  },
  {
   "cell_type": "code",
   "execution_count": null,
   "id": "6db25a14",
   "metadata": {},
   "outputs": [],
   "source": [
    "# Visualizando graficamente"
   ]
  },
  {
   "cell_type": "markdown",
   "id": "059b20b7",
   "metadata": {},
   "source": [
    "- Podemos usar a própria documentação do matplotlib para comparar essas curvas\n",
    "    - https://matplotlib.org/stable/api/_as_gen/matplotlib.pyplot.hist.html"
   ]
  },
  {
   "cell_type": "code",
   "execution_count": null,
   "id": "7ca8a1e5",
   "metadata": {},
   "outputs": [],
   "source": [
    "# Utilizando a variável hist1 para o histograma"
   ]
  },
  {
   "cell_type": "code",
   "execution_count": null,
   "id": "a1e046e5",
   "metadata": {},
   "outputs": [],
   "source": [
    "# E então retornando essa variável"
   ]
  },
  {
   "cell_type": "markdown",
   "id": "5dfbe7a2",
   "metadata": {},
   "source": [
    "<a id=\"histogramas\"></a>\n",
    "- Criando as variáveis n, bins e patches para os histogramas que queremos comparar"
   ]
  },
  {
   "cell_type": "code",
   "execution_count": null,
   "id": "c63ed7c9",
   "metadata": {},
   "outputs": [],
   "source": [
    "# Criando n, bins e patches para os histogramas que desejamos comparar"
   ]
  },
  {
   "cell_type": "code",
   "execution_count": null,
   "id": "685f24a0",
   "metadata": {},
   "outputs": [],
   "source": [
    "# Visualizando n1"
   ]
  },
  {
   "cell_type": "code",
   "execution_count": null,
   "id": "cbb6d1ff",
   "metadata": {},
   "outputs": [],
   "source": [
    "# n2"
   ]
  },
  {
   "cell_type": "code",
   "execution_count": null,
   "id": "c8f7e655",
   "metadata": {},
   "outputs": [],
   "source": [
    "# bins1"
   ]
  },
  {
   "cell_type": "code",
   "execution_count": null,
   "id": "9744569c",
   "metadata": {},
   "outputs": [],
   "source": [
    "# e bins2"
   ]
  },
  {
   "cell_type": "code",
   "execution_count": null,
   "id": "6cdec63b",
   "metadata": {},
   "outputs": [],
   "source": [
    "# Verificando a diferença de comprimento das barras para o primeiro histograma"
   ]
  },
  {
   "cell_type": "code",
   "execution_count": null,
   "id": "9fdb3c08",
   "metadata": {},
   "outputs": [],
   "source": [
    "# E para o segundo"
   ]
  },
  {
   "cell_type": "code",
   "execution_count": null,
   "id": "b5ceaffe",
   "metadata": {},
   "outputs": [],
   "source": [
    "# Visualizando graficamente os primeiros valores"
   ]
  },
  {
   "cell_type": "markdown",
   "id": "3205032a",
   "metadata": {},
   "source": [
    "- Podemos [voltar](#histogramas) a visualizar essas mesmas informações para qualquer coluna do \"Fare\""
   ]
  },
  {
   "cell_type": "markdown",
   "id": "65bf9fa0",
   "metadata": {},
   "source": [
    "- E até [voltar](#histogramas) e utilizar as informações de \"Age\""
   ]
  }
 ],
 "metadata": {
  "kernelspec": {
   "display_name": "Python 3 (ipykernel)",
   "language": "python",
   "name": "python3"
  },
  "language_info": {
   "codemirror_mode": {
    "name": "ipython",
    "version": 3
   },
   "file_extension": ".py",
   "mimetype": "text/x-python",
   "name": "python",
   "nbconvert_exporter": "python",
   "pygments_lexer": "ipython3",
   "version": "3.9.13"
  }
 },
 "nbformat": 4,
 "nbformat_minor": 5
}
