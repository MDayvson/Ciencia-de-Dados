{
 "cells": [
  {
   "cell_type": "markdown",
   "id": "8658d31d",
   "metadata": {},
   "source": [
    "# Features com diferentes escalas\n",
    "- **\"Se uma característica tem uma variância que é ordem de grandeza maior do que outras, ela pode dominar a função objetivo e tornar o estimador incapaz de aprender com outras características corretamente, como esperado\"**\n",
    "- Resumindo, o modelo pode colocar mais peso nas variáveis que possuem maior escala e acabar desconsiderando variáveis com menor escala mas que sejam igualmente ou mais importantes (em algoritmos que consideram a distância)\n",
    "    - Ex: comparar salário com número de filhos (se usarmos a distância euclidiana por exemplo, a variável com maior escala irá dominar o cálculo)\n",
    "- **O objetivo é colocar todos os nossos recursos em escalas próximas para que o modelo entenda cada um deles como igualmente importantes**\n",
    "- Não estamos mudando o formato dos dados, apenas a escala "
   ]
  },
  {
   "cell_type": "code",
   "execution_count": 1,
   "id": "57c97bdf",
   "metadata": {},
   "outputs": [],
   "source": [
    "# Importando o pandas\n",
    "import pandas as pd"
   ]
  },
  {
   "cell_type": "code",
   "execution_count": 2,
   "id": "a9c6d847",
   "metadata": {},
   "outputs": [],
   "source": [
    "# Importando os dados do titanic após as etapas de Data Cleaning\n",
    "titanic = pd.read_csv('train2.csv')"
   ]
  },
  {
   "cell_type": "code",
   "execution_count": 3,
   "id": "1067964e",
   "metadata": {},
   "outputs": [
    {
     "data": {
      "text/html": [
       "<div>\n",
       "<style scoped>\n",
       "    .dataframe tbody tr th:only-of-type {\n",
       "        vertical-align: middle;\n",
       "    }\n",
       "\n",
       "    .dataframe tbody tr th {\n",
       "        vertical-align: top;\n",
       "    }\n",
       "\n",
       "    .dataframe thead th {\n",
       "        text-align: right;\n",
       "    }\n",
       "</style>\n",
       "<table border=\"1\" class=\"dataframe\">\n",
       "  <thead>\n",
       "    <tr style=\"text-align: right;\">\n",
       "      <th></th>\n",
       "      <th>Survived</th>\n",
       "      <th>Pclass</th>\n",
       "      <th>Sex</th>\n",
       "      <th>Age</th>\n",
       "      <th>SibSp</th>\n",
       "      <th>Parch</th>\n",
       "      <th>Fare</th>\n",
       "      <th>Embarked</th>\n",
       "      <th>Titulos</th>\n",
       "    </tr>\n",
       "  </thead>\n",
       "  <tbody>\n",
       "    <tr>\n",
       "      <th>0</th>\n",
       "      <td>0</td>\n",
       "      <td>3</td>\n",
       "      <td>male</td>\n",
       "      <td>22.0</td>\n",
       "      <td>1</td>\n",
       "      <td>0</td>\n",
       "      <td>7.2500</td>\n",
       "      <td>S</td>\n",
       "      <td>Mr</td>\n",
       "    </tr>\n",
       "    <tr>\n",
       "      <th>1</th>\n",
       "      <td>1</td>\n",
       "      <td>1</td>\n",
       "      <td>female</td>\n",
       "      <td>38.0</td>\n",
       "      <td>1</td>\n",
       "      <td>0</td>\n",
       "      <td>71.2833</td>\n",
       "      <td>C</td>\n",
       "      <td>Mrs</td>\n",
       "    </tr>\n",
       "  </tbody>\n",
       "</table>\n",
       "</div>"
      ],
      "text/plain": [
       "   Survived  Pclass     Sex   Age  SibSp  Parch     Fare Embarked Titulos\n",
       "0         0       3    male  22.0      1      0   7.2500        S      Mr\n",
       "1         1       1  female  38.0      1      0  71.2833        C     Mrs"
      ]
     },
     "execution_count": 3,
     "metadata": {},
     "output_type": "execute_result"
    }
   ],
   "source": [
    "# Visualizando a tabela\n",
    "titanic.head(2)"
   ]
  },
  {
   "cell_type": "code",
   "execution_count": 4,
   "id": "0846a99a",
   "metadata": {},
   "outputs": [
    {
     "data": {
      "text/html": [
       "<div>\n",
       "<style scoped>\n",
       "    .dataframe tbody tr th:only-of-type {\n",
       "        vertical-align: middle;\n",
       "    }\n",
       "\n",
       "    .dataframe tbody tr th {\n",
       "        vertical-align: top;\n",
       "    }\n",
       "\n",
       "    .dataframe thead th {\n",
       "        text-align: right;\n",
       "    }\n",
       "</style>\n",
       "<table border=\"1\" class=\"dataframe\">\n",
       "  <thead>\n",
       "    <tr style=\"text-align: right;\">\n",
       "      <th></th>\n",
       "      <th>Survived</th>\n",
       "      <th>Pclass</th>\n",
       "      <th>Age</th>\n",
       "      <th>SibSp</th>\n",
       "      <th>Parch</th>\n",
       "      <th>Fare</th>\n",
       "    </tr>\n",
       "  </thead>\n",
       "  <tbody>\n",
       "    <tr>\n",
       "      <th>count</th>\n",
       "      <td>891.000000</td>\n",
       "      <td>891.000000</td>\n",
       "      <td>891.000000</td>\n",
       "      <td>891.000000</td>\n",
       "      <td>891.000000</td>\n",
       "      <td>891.000000</td>\n",
       "    </tr>\n",
       "    <tr>\n",
       "      <th>mean</th>\n",
       "      <td>0.383838</td>\n",
       "      <td>2.308642</td>\n",
       "      <td>29.430535</td>\n",
       "      <td>0.523008</td>\n",
       "      <td>0.381594</td>\n",
       "      <td>32.204208</td>\n",
       "    </tr>\n",
       "    <tr>\n",
       "      <th>std</th>\n",
       "      <td>0.486592</td>\n",
       "      <td>0.836071</td>\n",
       "      <td>13.551396</td>\n",
       "      <td>1.102743</td>\n",
       "      <td>0.806057</td>\n",
       "      <td>49.693429</td>\n",
       "    </tr>\n",
       "    <tr>\n",
       "      <th>min</th>\n",
       "      <td>0.000000</td>\n",
       "      <td>1.000000</td>\n",
       "      <td>0.420000</td>\n",
       "      <td>0.000000</td>\n",
       "      <td>0.000000</td>\n",
       "      <td>0.000000</td>\n",
       "    </tr>\n",
       "    <tr>\n",
       "      <th>25%</th>\n",
       "      <td>0.000000</td>\n",
       "      <td>2.000000</td>\n",
       "      <td>21.000000</td>\n",
       "      <td>0.000000</td>\n",
       "      <td>0.000000</td>\n",
       "      <td>7.910400</td>\n",
       "    </tr>\n",
       "    <tr>\n",
       "      <th>50%</th>\n",
       "      <td>0.000000</td>\n",
       "      <td>3.000000</td>\n",
       "      <td>28.724891</td>\n",
       "      <td>0.000000</td>\n",
       "      <td>0.000000</td>\n",
       "      <td>14.454200</td>\n",
       "    </tr>\n",
       "    <tr>\n",
       "      <th>75%</th>\n",
       "      <td>1.000000</td>\n",
       "      <td>3.000000</td>\n",
       "      <td>36.750000</td>\n",
       "      <td>1.000000</td>\n",
       "      <td>0.000000</td>\n",
       "      <td>31.000000</td>\n",
       "    </tr>\n",
       "    <tr>\n",
       "      <th>max</th>\n",
       "      <td>1.000000</td>\n",
       "      <td>3.000000</td>\n",
       "      <td>80.000000</td>\n",
       "      <td>8.000000</td>\n",
       "      <td>6.000000</td>\n",
       "      <td>512.329200</td>\n",
       "    </tr>\n",
       "  </tbody>\n",
       "</table>\n",
       "</div>"
      ],
      "text/plain": [
       "         Survived      Pclass         Age       SibSp       Parch        Fare\n",
       "count  891.000000  891.000000  891.000000  891.000000  891.000000  891.000000\n",
       "mean     0.383838    2.308642   29.430535    0.523008    0.381594   32.204208\n",
       "std      0.486592    0.836071   13.551396    1.102743    0.806057   49.693429\n",
       "min      0.000000    1.000000    0.420000    0.000000    0.000000    0.000000\n",
       "25%      0.000000    2.000000   21.000000    0.000000    0.000000    7.910400\n",
       "50%      0.000000    3.000000   28.724891    0.000000    0.000000   14.454200\n",
       "75%      1.000000    3.000000   36.750000    1.000000    0.000000   31.000000\n",
       "max      1.000000    3.000000   80.000000    8.000000    6.000000  512.329200"
      ]
     },
     "execution_count": 4,
     "metadata": {},
     "output_type": "execute_result"
    }
   ],
   "source": [
    "# Podemos visualizar as informações estatísticas dessa base\n",
    "titanic.describe()"
   ]
  },
  {
   "cell_type": "markdown",
   "id": "78e9bc1a",
   "metadata": {},
   "source": [
    "- Observe que o Pclass e o Age estão em **escalas muito diferentes e isso pode prejudicar o modelo, principalmente algoritmos que utilizam distâncias entre os pontos**"
   ]
  },
  {
   "cell_type": "code",
   "execution_count": 5,
   "id": "3b6621ec",
   "metadata": {},
   "outputs": [
    {
     "data": {
      "image/png": "[encoded data removed]",
      "text/plain": [
       "<Figure size 640x480 with 1 Axes>"
      ]
     },
     "metadata": {},
     "output_type": "display_data"
    }
   ],
   "source": [
    "# Visualizando o boxplot da coluna Age\n",
    "titanic.Age.plot.box();"
   ]
  },
  {
   "cell_type": "markdown",
   "id": "6556a799",
   "metadata": {},
   "source": [
    "### Padronização\n",
    "- Redimensionamento dos recursos para garantir que os novos dados tenham **média zero e desvio padrão igual a 1**\n",
    "- https://scikit-learn.org/stable/modules/generated/sklearn.preprocessing.StandardScaler.html#sklearn.preprocessing.StandardScaler\n",
    "- Segundo a própria documentação do scikit-learn, alguns estimadores **\"podem se comportar mal se os recursos individuais não se parecerem mais ou menos com dados padrões normalmente distribuídos (por exemplo, Gaussiano com média zero e variância unitária)\"**\n",
    "    - \"Na prática, muitas vezes ignoramos a forma da distribuição e apenas transformamos os dados para centralizá-los\"\n",
    "- A escala padrão será dada por:\n",
    "    - **z = (x - u) / s**, onde:\n",
    "        - **u:** média das amostras\n",
    "        - **s:** desvio padrão das amostras\n",
    "- Importante considerar que a padronização é mais robusta a outliers que a normalização (que falaremos em seguida)\n",
    "- A padronização também facilita a convergência para alguns algoritmos, como o gradiente descendente (que vamos falar no módulo de redes neurais)"
   ]
  },
  {
   "cell_type": "code",
   "execution_count": 6,
   "id": "d38a6095",
   "metadata": {},
   "outputs": [],
   "source": [
    "# Importando o StandardScaler\n",
    "from sklearn.preprocessing import StandardScaler"
   ]
  },
  {
   "cell_type": "code",
   "execution_count": 7,
   "id": "6bff11f8",
   "metadata": {},
   "outputs": [],
   "source": [
    "# Criando nosso scaler\n",
    "scaler = StandardScaler()"
   ]
  },
  {
   "cell_type": "code",
   "execution_count": 8,
   "id": "f12e80ac",
   "metadata": {},
   "outputs": [],
   "source": [
    "# Fazendo o fit com os dados\n",
    "scaler = scaler.fit(titanic[['Age']])"
   ]
  },
  {
   "cell_type": "code",
   "execution_count": 9,
   "id": "899001ea",
   "metadata": {},
   "outputs": [],
   "source": [
    "# Fazendo o transform dos dados\n",
    "titanic['Age_padrao'] = scaler.transform(titanic[['Age']])"
   ]
  },
  {
   "cell_type": "code",
   "execution_count": 10,
   "id": "b582b901",
   "metadata": {},
   "outputs": [
    {
     "data": {
      "text/html": [
       "<div>\n",
       "<style scoped>\n",
       "    .dataframe tbody tr th:only-of-type {\n",
       "        vertical-align: middle;\n",
       "    }\n",
       "\n",
       "    .dataframe tbody tr th {\n",
       "        vertical-align: top;\n",
       "    }\n",
       "\n",
       "    .dataframe thead th {\n",
       "        text-align: right;\n",
       "    }\n",
       "</style>\n",
       "<table border=\"1\" class=\"dataframe\">\n",
       "  <thead>\n",
       "    <tr style=\"text-align: right;\">\n",
       "      <th></th>\n",
       "      <th>Age</th>\n",
       "      <th>Age_padrao</th>\n",
       "    </tr>\n",
       "  </thead>\n",
       "  <tbody>\n",
       "    <tr>\n",
       "      <th>count</th>\n",
       "      <td>891.000000</td>\n",
       "      <td>8.910000e+02</td>\n",
       "    </tr>\n",
       "    <tr>\n",
       "      <th>mean</th>\n",
       "      <td>29.430535</td>\n",
       "      <td>-1.458492e-16</td>\n",
       "    </tr>\n",
       "    <tr>\n",
       "      <th>std</th>\n",
       "      <td>13.551396</td>\n",
       "      <td>1.000562e+00</td>\n",
       "    </tr>\n",
       "    <tr>\n",
       "      <th>min</th>\n",
       "      <td>0.420000</td>\n",
       "      <td>-2.141981e+00</td>\n",
       "    </tr>\n",
       "    <tr>\n",
       "      <th>25%</th>\n",
       "      <td>21.000000</td>\n",
       "      <td>-6.224650e-01</td>\n",
       "    </tr>\n",
       "    <tr>\n",
       "      <th>50%</th>\n",
       "      <td>28.724891</td>\n",
       "      <td>-5.210091e-02</td>\n",
       "    </tr>\n",
       "    <tr>\n",
       "      <th>75%</th>\n",
       "      <td>36.750000</td>\n",
       "      <td>5.404297e-01</td>\n",
       "    </tr>\n",
       "    <tr>\n",
       "      <th>max</th>\n",
       "      <td>80.000000</td>\n",
       "      <td>3.733775e+00</td>\n",
       "    </tr>\n",
       "  </tbody>\n",
       "</table>\n",
       "</div>"
      ],
      "text/plain": [
       "              Age    Age_padrao\n",
       "count  891.000000  8.910000e+02\n",
       "mean    29.430535 -1.458492e-16\n",
       "std     13.551396  1.000562e+00\n",
       "min      0.420000 -2.141981e+00\n",
       "25%     21.000000 -6.224650e-01\n",
       "50%     28.724891 -5.210091e-02\n",
       "75%     36.750000  5.404297e-01\n",
       "max     80.000000  3.733775e+00"
      ]
     },
     "execution_count": 10,
     "metadata": {},
     "output_type": "execute_result"
    }
   ],
   "source": [
    "# Agora visualizando estatisticamente esses dados\n",
    "titanic[['Age','Age_padrao']].describe()"
   ]
  },
  {
   "cell_type": "code",
   "execution_count": 11,
   "id": "7a05f967",
   "metadata": {},
   "outputs": [
    {
     "data": {
      "text/plain": [
       "-1.4584916389716562e-16"
      ]
     },
     "execution_count": 11,
     "metadata": {},
     "output_type": "execute_result"
    }
   ],
   "source": [
    "# Podemos inclusive verificar apenas a média\n",
    "titanic.Age_padrao.mean()"
   ]
  },
  {
   "cell_type": "code",
   "execution_count": 12,
   "id": "f62f4efa",
   "metadata": {},
   "outputs": [
    {
     "data": {
      "text/plain": [
       "1.0005616400330455"
      ]
     },
     "execution_count": 12,
     "metadata": {},
     "output_type": "execute_result"
    }
   ],
   "source": [
    "# E o desvio padrão\n",
    "titanic.Age_padrao.std()"
   ]
  },
  {
   "cell_type": "markdown",
   "id": "874a99a6",
   "metadata": {},
   "source": [
    "### Normalização\n",
    "- Uma alternativa a padronização é **normalizar os dados entre um valor mínimo e máximo (geralmente entre 0 e 1)**\n",
    "- https://scikit-learn.org/stable/modules/generated/sklearn.preprocessing.MinMaxScaler.html#sklearn.preprocessing.MinMaxScaler\n",
    "- A transformação é dada por:\n",
    "    - **X_scaled = <font color='blue'>X_std</font>.(max - min) + min**, sendo:\n",
    "        - **<font color='blue'>X_std</font> = (X - X.min(axis=0)) / (X.max(axis=0) - X.min(axis=0))**\n",
    "- Em geral, vamos obter desvios padrões menores (dados mais concentrados próximo a média) e a normalização é muito útil quando queremos manter os valores zeros do dataset"
   ]
  },
  {
   "cell_type": "code",
   "execution_count": 13,
   "id": "d510845c",
   "metadata": {},
   "outputs": [
    {
     "data": {
      "text/plain": [
       "count    891.000000\n",
       "mean      29.430535\n",
       "std       13.551396\n",
       "min        0.420000\n",
       "25%       21.000000\n",
       "50%       28.724891\n",
       "75%       36.750000\n",
       "max       80.000000\n",
       "Name: Age, dtype: float64"
      ]
     },
     "execution_count": 13,
     "metadata": {},
     "output_type": "execute_result"
    }
   ],
   "source": [
    "# Visualizando o \"describe\"\n",
    "titanic.Age.describe()"
   ]
  },
  {
   "cell_type": "code",
   "execution_count": 14,
   "id": "d6371911",
   "metadata": {},
   "outputs": [
    {
     "name": "stdout",
     "output_type": "stream",
     "text": [
      "0.42 80.0\n"
     ]
    }
   ],
   "source": [
    "# Selecionando o máximo e mínimo da coluna Age\n",
    "minimo = titanic.Age.min()\n",
    "maximo = titanic.Age.max()\n",
    "print(minimo,maximo)"
   ]
  },
  {
   "cell_type": "code",
   "execution_count": 15,
   "id": "61c74f4f",
   "metadata": {},
   "outputs": [],
   "source": [
    "# Selecionando a primeira linha do Age\n",
    "X = titanic.Age[0]"
   ]
  },
  {
   "cell_type": "code",
   "execution_count": 16,
   "id": "08e27d06",
   "metadata": {},
   "outputs": [
    {
     "data": {
      "text/plain": [
       "0.2711736617240513"
      ]
     },
     "execution_count": 16,
     "metadata": {},
     "output_type": "execute_result"
    }
   ],
   "source": [
    "# Fazendo o X_std\n",
    "# X_std = (X - X.min(axis=0)) / (X.max(axis=0) - X.min(axis=0))\n",
    "X_std = (X - minimo) / (maximo - minimo)\n",
    "X_std"
   ]
  },
  {
   "cell_type": "code",
   "execution_count": 17,
   "id": "8e0ef062",
   "metadata": {},
   "outputs": [
    {
     "data": {
      "text/plain": [
       "0.2711736617240513"
      ]
     },
     "execution_count": 17,
     "metadata": {},
     "output_type": "execute_result"
    }
   ],
   "source": [
    "# Calculando o X_scaled\n",
    "# X_scaled = X_std.(max - min) + min\n",
    "X_scaled = X_std*(1-0) + 0\n",
    "X_scaled"
   ]
  },
  {
   "cell_type": "code",
   "execution_count": 18,
   "id": "58fff870",
   "metadata": {},
   "outputs": [],
   "source": [
    "# Importando o MinMaxScaler\n",
    "from sklearn.preprocessing import MinMaxScaler"
   ]
  },
  {
   "cell_type": "code",
   "execution_count": 19,
   "id": "82ecc08c",
   "metadata": {},
   "outputs": [],
   "source": [
    "# Criando o scaler\n",
    "scaler = MinMaxScaler()"
   ]
  },
  {
   "cell_type": "code",
   "execution_count": 20,
   "id": "e163301e",
   "metadata": {},
   "outputs": [],
   "source": [
    "# Fazendo o fit com os dados\n",
    "scaler = scaler.fit(titanic[['Age']])"
   ]
  },
  {
   "cell_type": "code",
   "execution_count": 21,
   "id": "70d4ccb9",
   "metadata": {},
   "outputs": [],
   "source": [
    "# Fazendo a transformação\n",
    "titanic['Age_minmax'] = scaler.transform(titanic[['Age']])"
   ]
  },
  {
   "cell_type": "code",
   "execution_count": 22,
   "id": "338dc8cd",
   "metadata": {},
   "outputs": [
    {
     "data": {
      "text/html": [
       "<div>\n",
       "<style scoped>\n",
       "    .dataframe tbody tr th:only-of-type {\n",
       "        vertical-align: middle;\n",
       "    }\n",
       "\n",
       "    .dataframe tbody tr th {\n",
       "        vertical-align: top;\n",
       "    }\n",
       "\n",
       "    .dataframe thead th {\n",
       "        text-align: right;\n",
       "    }\n",
       "</style>\n",
       "<table border=\"1\" class=\"dataframe\">\n",
       "  <thead>\n",
       "    <tr style=\"text-align: right;\">\n",
       "      <th></th>\n",
       "      <th>Age</th>\n",
       "      <th>Age_padrao</th>\n",
       "      <th>Age_minmax</th>\n",
       "    </tr>\n",
       "  </thead>\n",
       "  <tbody>\n",
       "    <tr>\n",
       "      <th>count</th>\n",
       "      <td>891.000000</td>\n",
       "      <td>8.910000e+02</td>\n",
       "      <td>891.000000</td>\n",
       "    </tr>\n",
       "    <tr>\n",
       "      <th>mean</th>\n",
       "      <td>29.430535</td>\n",
       "      <td>-1.458492e-16</td>\n",
       "      <td>0.364546</td>\n",
       "    </tr>\n",
       "    <tr>\n",
       "      <th>std</th>\n",
       "      <td>13.551396</td>\n",
       "      <td>1.000562e+00</td>\n",
       "      <td>0.170286</td>\n",
       "    </tr>\n",
       "    <tr>\n",
       "      <th>min</th>\n",
       "      <td>0.420000</td>\n",
       "      <td>-2.141981e+00</td>\n",
       "      <td>0.000000</td>\n",
       "    </tr>\n",
       "    <tr>\n",
       "      <th>25%</th>\n",
       "      <td>21.000000</td>\n",
       "      <td>-6.224650e-01</td>\n",
       "      <td>0.258608</td>\n",
       "    </tr>\n",
       "    <tr>\n",
       "      <th>50%</th>\n",
       "      <td>28.724891</td>\n",
       "      <td>-5.210091e-02</td>\n",
       "      <td>0.355678</td>\n",
       "    </tr>\n",
       "    <tr>\n",
       "      <th>75%</th>\n",
       "      <td>36.750000</td>\n",
       "      <td>5.404297e-01</td>\n",
       "      <td>0.456522</td>\n",
       "    </tr>\n",
       "    <tr>\n",
       "      <th>max</th>\n",
       "      <td>80.000000</td>\n",
       "      <td>3.733775e+00</td>\n",
       "      <td>1.000000</td>\n",
       "    </tr>\n",
       "  </tbody>\n",
       "</table>\n",
       "</div>"
      ],
      "text/plain": [
       "              Age    Age_padrao  Age_minmax\n",
       "count  891.000000  8.910000e+02  891.000000\n",
       "mean    29.430535 -1.458492e-16    0.364546\n",
       "std     13.551396  1.000562e+00    0.170286\n",
       "min      0.420000 -2.141981e+00    0.000000\n",
       "25%     21.000000 -6.224650e-01    0.258608\n",
       "50%     28.724891 -5.210091e-02    0.355678\n",
       "75%     36.750000  5.404297e-01    0.456522\n",
       "max     80.000000  3.733775e+00    1.000000"
      ]
     },
     "execution_count": 22,
     "metadata": {},
     "output_type": "execute_result"
    }
   ],
   "source": [
    "# Visualizando novamente os dados\n",
    "titanic[['Age','Age_padrao','Age_minmax']].describe()"
   ]
  },
  {
   "cell_type": "markdown",
   "id": "abd8ee13",
   "metadata": {},
   "source": [
    "### Redimensionando dados dispersos  / com outliers\n",
    "- O **MaxAbsScaler** funciona de uma maneira semelhante, porém dividindo todos os dados pelo **máximo absoluto** daquela coluna\n",
    "    - https://scikit-learn.org/stable/modules/generated/sklearn.preprocessing.MaxAbsScaler.html#sklearn.preprocessing.MaxAbsScaler\n",
    "    - Isso faz com que o range seja de -1 a 1 caso existam valores negativos\n",
    "    - **Funciona muito bem para trabalhar com dados esparsos (dispersos / espalhados)**"
   ]
  },
  {
   "cell_type": "code",
   "execution_count": 23,
   "id": "19589670",
   "metadata": {},
   "outputs": [],
   "source": [
    "# Importando o MaxAbsScaler\n",
    "from sklearn.preprocessing import MaxAbsScaler"
   ]
  },
  {
   "cell_type": "code",
   "execution_count": 24,
   "id": "5603db61",
   "metadata": {},
   "outputs": [],
   "source": [
    "# Criando o scaler\n",
    "scaler = MaxAbsScaler()"
   ]
  },
  {
   "cell_type": "code",
   "execution_count": 25,
   "id": "cc53d953",
   "metadata": {},
   "outputs": [],
   "source": [
    "# Fazendo o fit com os dados\n",
    "scaler = scaler.fit(titanic[['Age']])"
   ]
  },
  {
   "cell_type": "code",
   "execution_count": 26,
   "id": "8e1e7735",
   "metadata": {},
   "outputs": [],
   "source": [
    "# Fazendo a transformação\n",
    "titanic['Age_maxabs'] = scaler.transform(titanic[['Age']])"
   ]
  },
  {
   "cell_type": "code",
   "execution_count": 27,
   "id": "2a65bad2",
   "metadata": {},
   "outputs": [
    {
     "data": {
      "text/html": [
       "<div>\n",
       "<style scoped>\n",
       "    .dataframe tbody tr th:only-of-type {\n",
       "        vertical-align: middle;\n",
       "    }\n",
       "\n",
       "    .dataframe tbody tr th {\n",
       "        vertical-align: top;\n",
       "    }\n",
       "\n",
       "    .dataframe thead th {\n",
       "        text-align: right;\n",
       "    }\n",
       "</style>\n",
       "<table border=\"1\" class=\"dataframe\">\n",
       "  <thead>\n",
       "    <tr style=\"text-align: right;\">\n",
       "      <th></th>\n",
       "      <th>Age</th>\n",
       "      <th>Age_padrao</th>\n",
       "      <th>Age_minmax</th>\n",
       "      <th>Age_maxabs</th>\n",
       "    </tr>\n",
       "  </thead>\n",
       "  <tbody>\n",
       "    <tr>\n",
       "      <th>count</th>\n",
       "      <td>891.000000</td>\n",
       "      <td>8.910000e+02</td>\n",
       "      <td>891.000000</td>\n",
       "      <td>891.000000</td>\n",
       "    </tr>\n",
       "    <tr>\n",
       "      <th>mean</th>\n",
       "      <td>29.430535</td>\n",
       "      <td>-1.458492e-16</td>\n",
       "      <td>0.364546</td>\n",
       "      <td>0.367882</td>\n",
       "    </tr>\n",
       "    <tr>\n",
       "      <th>std</th>\n",
       "      <td>13.551396</td>\n",
       "      <td>1.000562e+00</td>\n",
       "      <td>0.170286</td>\n",
       "      <td>0.169392</td>\n",
       "    </tr>\n",
       "    <tr>\n",
       "      <th>min</th>\n",
       "      <td>0.420000</td>\n",
       "      <td>-2.141981e+00</td>\n",
       "      <td>0.000000</td>\n",
       "      <td>0.005250</td>\n",
       "    </tr>\n",
       "    <tr>\n",
       "      <th>25%</th>\n",
       "      <td>21.000000</td>\n",
       "      <td>-6.224650e-01</td>\n",
       "      <td>0.258608</td>\n",
       "      <td>0.262500</td>\n",
       "    </tr>\n",
       "    <tr>\n",
       "      <th>50%</th>\n",
       "      <td>28.724891</td>\n",
       "      <td>-5.210091e-02</td>\n",
       "      <td>0.355678</td>\n",
       "      <td>0.359061</td>\n",
       "    </tr>\n",
       "    <tr>\n",
       "      <th>75%</th>\n",
       "      <td>36.750000</td>\n",
       "      <td>5.404297e-01</td>\n",
       "      <td>0.456522</td>\n",
       "      <td>0.459375</td>\n",
       "    </tr>\n",
       "    <tr>\n",
       "      <th>max</th>\n",
       "      <td>80.000000</td>\n",
       "      <td>3.733775e+00</td>\n",
       "      <td>1.000000</td>\n",
       "      <td>1.000000</td>\n",
       "    </tr>\n",
       "  </tbody>\n",
       "</table>\n",
       "</div>"
      ],
      "text/plain": [
       "              Age    Age_padrao  Age_minmax  Age_maxabs\n",
       "count  891.000000  8.910000e+02  891.000000  891.000000\n",
       "mean    29.430535 -1.458492e-16    0.364546    0.367882\n",
       "std     13.551396  1.000562e+00    0.170286    0.169392\n",
       "min      0.420000 -2.141981e+00    0.000000    0.005250\n",
       "25%     21.000000 -6.224650e-01    0.258608    0.262500\n",
       "50%     28.724891 -5.210091e-02    0.355678    0.359061\n",
       "75%     36.750000  5.404297e-01    0.456522    0.459375\n",
       "max     80.000000  3.733775e+00    1.000000    1.000000"
      ]
     },
     "execution_count": 27,
     "metadata": {},
     "output_type": "execute_result"
    }
   ],
   "source": [
    "# Visualizando novamente os dados\n",
    "colunas = titanic.columns[titanic.columns.str.contains('Age')]\n",
    "titanic[colunas].describe()"
   ]
  },
  {
   "cell_type": "markdown",
   "id": "2dc9b950",
   "metadata": {},
   "source": [
    "- Se os dados tiverem muitos outliers, utilizar os métodos mostrados anteriormente pode não funcionar tão bem. Como alternativa podemos utilizar o **RobustScaler**\n",
    "    - https://scikit-learn.org/stable/modules/generated/sklearn.preprocessing.RobustScaler.html#sklearn.preprocessing.RobustScaler\n",
    "    - **Vai usar o interquartil como base do redimensionamento**\n",
    "        - Interquartil: Q3 - Q1"
   ]
  },
  {
   "cell_type": "code",
   "execution_count": 28,
   "id": "ec107bf4",
   "metadata": {},
   "outputs": [],
   "source": [
    "# Importando o RobustScaler\n",
    "from sklearn.preprocessing import RobustScaler"
   ]
  },
  {
   "cell_type": "code",
   "execution_count": 29,
   "id": "10f40a28",
   "metadata": {},
   "outputs": [],
   "source": [
    "# Criando o scaler\n",
    "scaler = RobustScaler()"
   ]
  },
  {
   "cell_type": "code",
   "execution_count": 30,
   "id": "8cac3432",
   "metadata": {},
   "outputs": [],
   "source": [
    "# Fazendo o fit com os dados\n",
    "scaler = scaler.fit(titanic[['Age']])"
   ]
  },
  {
   "cell_type": "code",
   "execution_count": 31,
   "id": "77d53909",
   "metadata": {},
   "outputs": [],
   "source": [
    "# Fazendo a transformação\n",
    "titanic['Age_robust'] = scaler.transform(titanic[['Age']])"
   ]
  },
  {
   "cell_type": "code",
   "execution_count": 32,
   "id": "49e6a591",
   "metadata": {},
   "outputs": [],
   "source": [
    "# Selecionando as colunas que queremos analisar\n",
    "colunas = titanic.columns[titanic.columns.str.contains('Age')]"
   ]
  },
  {
   "cell_type": "code",
   "execution_count": 33,
   "id": "37bf5918",
   "metadata": {},
   "outputs": [
    {
     "data": {
      "text/html": [
       "<div>\n",
       "<style scoped>\n",
       "    .dataframe tbody tr th:only-of-type {\n",
       "        vertical-align: middle;\n",
       "    }\n",
       "\n",
       "    .dataframe tbody tr th {\n",
       "        vertical-align: top;\n",
       "    }\n",
       "\n",
       "    .dataframe thead th {\n",
       "        text-align: right;\n",
       "    }\n",
       "</style>\n",
       "<table border=\"1\" class=\"dataframe\">\n",
       "  <thead>\n",
       "    <tr style=\"text-align: right;\">\n",
       "      <th></th>\n",
       "      <th>Age</th>\n",
       "      <th>Age_padrao</th>\n",
       "      <th>Age_minmax</th>\n",
       "      <th>Age_maxabs</th>\n",
       "      <th>Age_robust</th>\n",
       "    </tr>\n",
       "  </thead>\n",
       "  <tbody>\n",
       "    <tr>\n",
       "      <th>count</th>\n",
       "      <td>891.000000</td>\n",
       "      <td>8.910000e+02</td>\n",
       "      <td>891.000000</td>\n",
       "      <td>891.000000</td>\n",
       "      <td>891.000000</td>\n",
       "    </tr>\n",
       "    <tr>\n",
       "      <th>mean</th>\n",
       "      <td>29.430535</td>\n",
       "      <td>-1.458492e-16</td>\n",
       "      <td>0.364546</td>\n",
       "      <td>0.367882</td>\n",
       "      <td>0.044803</td>\n",
       "    </tr>\n",
       "    <tr>\n",
       "      <th>std</th>\n",
       "      <td>13.551396</td>\n",
       "      <td>1.000562e+00</td>\n",
       "      <td>0.170286</td>\n",
       "      <td>0.169392</td>\n",
       "      <td>0.860406</td>\n",
       "    </tr>\n",
       "    <tr>\n",
       "      <th>min</th>\n",
       "      <td>0.420000</td>\n",
       "      <td>-2.141981e+00</td>\n",
       "      <td>0.000000</td>\n",
       "      <td>0.005250</td>\n",
       "      <td>-1.797136</td>\n",
       "    </tr>\n",
       "    <tr>\n",
       "      <th>25%</th>\n",
       "      <td>21.000000</td>\n",
       "      <td>-6.224650e-01</td>\n",
       "      <td>0.258608</td>\n",
       "      <td>0.262500</td>\n",
       "      <td>-0.490469</td>\n",
       "    </tr>\n",
       "    <tr>\n",
       "      <th>50%</th>\n",
       "      <td>28.724891</td>\n",
       "      <td>-5.210091e-02</td>\n",
       "      <td>0.355678</td>\n",
       "      <td>0.359061</td>\n",
       "      <td>0.000000</td>\n",
       "    </tr>\n",
       "    <tr>\n",
       "      <th>75%</th>\n",
       "      <td>36.750000</td>\n",
       "      <td>5.404297e-01</td>\n",
       "      <td>0.456522</td>\n",
       "      <td>0.459375</td>\n",
       "      <td>0.509531</td>\n",
       "    </tr>\n",
       "    <tr>\n",
       "      <th>max</th>\n",
       "      <td>80.000000</td>\n",
       "      <td>3.733775e+00</td>\n",
       "      <td>1.000000</td>\n",
       "      <td>1.000000</td>\n",
       "      <td>3.255562</td>\n",
       "    </tr>\n",
       "  </tbody>\n",
       "</table>\n",
       "</div>"
      ],
      "text/plain": [
       "              Age    Age_padrao  Age_minmax  Age_maxabs  Age_robust\n",
       "count  891.000000  8.910000e+02  891.000000  891.000000  891.000000\n",
       "mean    29.430535 -1.458492e-16    0.364546    0.367882    0.044803\n",
       "std     13.551396  1.000562e+00    0.170286    0.169392    0.860406\n",
       "min      0.420000 -2.141981e+00    0.000000    0.005250   -1.797136\n",
       "25%     21.000000 -6.224650e-01    0.258608    0.262500   -0.490469\n",
       "50%     28.724891 -5.210091e-02    0.355678    0.359061    0.000000\n",
       "75%     36.750000  5.404297e-01    0.456522    0.459375    0.509531\n",
       "max     80.000000  3.733775e+00    1.000000    1.000000    3.255562"
      ]
     },
     "execution_count": 33,
     "metadata": {},
     "output_type": "execute_result"
    }
   ],
   "source": [
    "# Visualizando novamente os dados\n",
    "titanic[colunas].describe()"
   ]
  },
  {
   "cell_type": "markdown",
   "id": "634b9a0a",
   "metadata": {},
   "source": [
    "- Podemos melhorar esse visual utilizando o KDE do seaborn\n",
    "    - https://seaborn.pydata.org/generated/seaborn.kdeplot.html"
   ]
  },
  {
   "cell_type": "code",
   "execution_count": 34,
   "id": "356852b6",
   "metadata": {},
   "outputs": [],
   "source": [
    "# Importando o seaborn\n",
    "import seaborn as sns"
   ]
  },
  {
   "cell_type": "code",
   "execution_count": 37,
   "id": "6adebbe5",
   "metadata": {},
   "outputs": [
    {
     "data": {
      "text/plain": [
       "<AxesSubplot: xlabel='Age', ylabel='Count'>"
      ]
     },
     "execution_count": 37,
     "metadata": {},
     "output_type": "execute_result"
    },
    {
     "data": {
      "image/png": "[encoded data removed]",
      "text/plain": [
       "<Figure size 640x480 with 1 Axes>"
      ]
     },
     "metadata": {},
     "output_type": "display_data"
    }
   ],
   "source": [
    "# Visualizando graficamente\n",
    "sns.histplot(titanic.Age)\n",
    "sns.kdeplot(titanic.Age)"
   ]
  },
  {
   "cell_type": "markdown",
   "id": "d5f68dcc",
   "metadata": {},
   "source": [
    "- **Podemos fazer o cálculo passo a passo de cada um desses valores**"
   ]
  },
  {
   "cell_type": "code",
   "execution_count": null,
   "id": "566f381c",
   "metadata": {},
   "outputs": [],
   "source": [
    "# Visualizando novamente a descrição estatística"
   ]
  },
  {
   "cell_type": "code",
   "execution_count": null,
   "id": "20b4af1d",
   "metadata": {},
   "outputs": [],
   "source": [
    "# Visualizando a média da coluna"
   ]
  },
  {
   "cell_type": "code",
   "execution_count": null,
   "id": "56268da0",
   "metadata": {},
   "outputs": [],
   "source": [
    "# O desvio padrão"
   ]
  },
  {
   "cell_type": "code",
   "execution_count": null,
   "id": "6f74f0b1",
   "metadata": {},
   "outputs": [],
   "source": [
    "# O mínimo"
   ]
  },
  {
   "cell_type": "code",
   "execution_count": null,
   "id": "d149c1e5",
   "metadata": {},
   "outputs": [],
   "source": [
    "# E o máximo"
   ]
  },
  {
   "cell_type": "markdown",
   "id": "2e437e01",
   "metadata": {},
   "source": [
    "- Calculando para o StandardScaler"
   ]
  },
  {
   "cell_type": "code",
   "execution_count": null,
   "id": "53ab84f1",
   "metadata": {},
   "outputs": [],
   "source": [
    "# O mínimo"
   ]
  },
  {
   "cell_type": "code",
   "execution_count": null,
   "id": "a97088ac",
   "metadata": {},
   "outputs": [],
   "source": [
    "# O máximo"
   ]
  },
  {
   "cell_type": "markdown",
   "id": "4d239fbd",
   "metadata": {},
   "source": [
    "- Para o MinMaxScaler, o mínimo vai ser 0 e o máximo vai ser 1"
   ]
  },
  {
   "cell_type": "markdown",
   "id": "5f29f0b4",
   "metadata": {},
   "source": [
    "- Agora verificando para o MaxAbsScaler"
   ]
  },
  {
   "cell_type": "code",
   "execution_count": null,
   "id": "d7c508b3",
   "metadata": {},
   "outputs": [],
   "source": [
    "# O mínimo"
   ]
  },
  {
   "cell_type": "code",
   "execution_count": null,
   "id": "51cd40c5",
   "metadata": {},
   "outputs": [],
   "source": [
    "# O máximo"
   ]
  },
  {
   "cell_type": "markdown",
   "id": "94f57f1d",
   "metadata": {},
   "source": [
    "- E para o RobustScaler"
   ]
  },
  {
   "cell_type": "code",
   "execution_count": null,
   "id": "2f7d7585",
   "metadata": {},
   "outputs": [],
   "source": [
    "# Calculando a mediana da coluna Age"
   ]
  },
  {
   "cell_type": "code",
   "execution_count": null,
   "id": "8e9b6060",
   "metadata": {},
   "outputs": [],
   "source": [
    "# Verificando o primeiro quartil"
   ]
  },
  {
   "cell_type": "code",
   "execution_count": null,
   "id": "bd588e55",
   "metadata": {},
   "outputs": [],
   "source": [
    "# O terceiro quartil"
   ]
  },
  {
   "cell_type": "code",
   "execution_count": null,
   "id": "782fe4c5",
   "metadata": {},
   "outputs": [],
   "source": [
    "# E o interquartil"
   ]
  },
  {
   "cell_type": "code",
   "execution_count": null,
   "id": "52ed41a6",
   "metadata": {},
   "outputs": [],
   "source": [
    "# Agora calculando para o mínimo"
   ]
  },
  {
   "cell_type": "code",
   "execution_count": null,
   "id": "9d436273",
   "metadata": {},
   "outputs": [],
   "source": [
    "# E para o mínimo"
   ]
  },
  {
   "cell_type": "markdown",
   "id": "03e3f438",
   "metadata": {},
   "source": [
    "- **Podemos fazer agora com a coluna Fare**"
   ]
  },
  {
   "cell_type": "code",
   "execution_count": null,
   "id": "7f13c097",
   "metadata": {},
   "outputs": [],
   "source": [
    "# Selecionando a coluna"
   ]
  },
  {
   "cell_type": "code",
   "execution_count": null,
   "id": "16c1e051",
   "metadata": {},
   "outputs": [],
   "source": [
    "# Utilizando o StandardScaler"
   ]
  },
  {
   "cell_type": "code",
   "execution_count": null,
   "id": "5450bd51",
   "metadata": {},
   "outputs": [],
   "source": [
    "# Fazendo o fit com os dados"
   ]
  },
  {
   "cell_type": "code",
   "execution_count": null,
   "id": "4174f98a",
   "metadata": {},
   "outputs": [],
   "source": [
    "# Transformando"
   ]
  },
  {
   "cell_type": "code",
   "execution_count": null,
   "id": "67609dda",
   "metadata": {},
   "outputs": [],
   "source": [
    "# Utilizando o RobustScaler"
   ]
  },
  {
   "cell_type": "code",
   "execution_count": null,
   "id": "7a2c510c",
   "metadata": {},
   "outputs": [],
   "source": [
    "# Fazendo o fit com os dados"
   ]
  },
  {
   "cell_type": "code",
   "execution_count": null,
   "id": "7a5860d4",
   "metadata": {},
   "outputs": [],
   "source": [
    "# Transformando"
   ]
  },
  {
   "cell_type": "code",
   "execution_count": null,
   "id": "1914332b",
   "metadata": {},
   "outputs": [],
   "source": [
    "# Utilizando o MinMaxScaler"
   ]
  },
  {
   "cell_type": "code",
   "execution_count": null,
   "id": "24484cff",
   "metadata": {},
   "outputs": [],
   "source": [
    "# Fazendo o fit com os dados"
   ]
  },
  {
   "cell_type": "code",
   "execution_count": null,
   "id": "5b0e0d28",
   "metadata": {},
   "outputs": [],
   "source": [
    "# Transformando"
   ]
  },
  {
   "cell_type": "code",
   "execution_count": null,
   "id": "01a48f36",
   "metadata": {},
   "outputs": [],
   "source": [
    "# Selecionando as colunas com Fare"
   ]
  },
  {
   "cell_type": "code",
   "execution_count": null,
   "id": "b83058d0",
   "metadata": {},
   "outputs": [],
   "source": [
    "# E fazendo o describe dessas colunas"
   ]
  },
  {
   "cell_type": "markdown",
   "id": "78435d5c",
   "metadata": {},
   "source": [
    "- **Comparando visualmente**"
   ]
  },
  {
   "cell_type": "code",
   "execution_count": null,
   "id": "6db25a14",
   "metadata": {},
   "outputs": [],
   "source": [
    "# Visualizando graficamente"
   ]
  },
  {
   "cell_type": "markdown",
   "id": "059b20b7",
   "metadata": {},
   "source": [
    "- Podemos usar a própria documentação do matplotlib para comparar essas curvas\n",
    "    - https://matplotlib.org/stable/api/_as_gen/matplotlib.pyplot.hist.html"
   ]
  },
  {
   "cell_type": "code",
   "execution_count": null,
   "id": "7ca8a1e5",
   "metadata": {},
   "outputs": [],
   "source": [
    "# Utilizando a variável hist1 para o histograma"
   ]
  },
  {
   "cell_type": "code",
   "execution_count": null,
   "id": "a1e046e5",
   "metadata": {},
   "outputs": [],
   "source": [
    "# E então retornando essa variável"
   ]
  },
  {
   "cell_type": "markdown",
   "id": "5dfbe7a2",
   "metadata": {},
   "source": [
    "<a id=\"histogramas\"></a>\n",
    "- Criando as variáveis n, bins e patches para os histogramas que queremos comparar"
   ]
  },
  {
   "cell_type": "code",
   "execution_count": null,
   "id": "c63ed7c9",
   "metadata": {},
   "outputs": [],
   "source": [
    "# Criando n, bins e patches para os histogramas que desejamos comparar"
   ]
  },
  {
   "cell_type": "code",
   "execution_count": null,
   "id": "685f24a0",
   "metadata": {},
   "outputs": [],
   "source": [
    "# Visualizando n1"
   ]
  },
  {
   "cell_type": "code",
   "execution_count": null,
   "id": "cbb6d1ff",
   "metadata": {},
   "outputs": [],
   "source": [
    "# n2"
   ]
  },
  {
   "cell_type": "code",
   "execution_count": null,
   "id": "c8f7e655",
   "metadata": {},
   "outputs": [],
   "source": [
    "# bins1"
   ]
  },
  {
   "cell_type": "code",
   "execution_count": null,
   "id": "9744569c",
   "metadata": {},
   "outputs": [],
   "source": [
    "# e bins2"
   ]
  },
  {
   "cell_type": "code",
   "execution_count": null,
   "id": "6cdec63b",
   "metadata": {},
   "outputs": [],
   "source": [
    "# Verificando a diferença de comprimento das barras para o primeiro histograma"
   ]
  },
  {
   "cell_type": "code",
   "execution_count": null,
   "id": "9fdb3c08",
   "metadata": {},
   "outputs": [],
   "source": [
    "# E para o segundo"
   ]
  },
  {
   "cell_type": "code",
   "execution_count": null,
   "id": "b5ceaffe",
   "metadata": {},
   "outputs": [],
   "source": [
    "# Visualizando graficamente os primeiros valores"
   ]
  },
  {
   "cell_type": "markdown",
   "id": "3205032a",
   "metadata": {},
   "source": [
    "- Podemos [voltar](#histogramas) a visualizar essas mesmas informações para qualquer coluna do \"Fare\""
   ]
  },
  {
   "cell_type": "markdown",
   "id": "65bf9fa0",
   "metadata": {},
   "source": [
    "- E até [voltar](#histogramas) e utilizar as informações de \"Age\""
   ]
  }
 ],
 "metadata": {
  "kernelspec": {
   "display_name": "Python 3 (ipykernel)",
   "language": "python",
   "name": "python3"
  },
  "language_info": {
   "codemirror_mode": {
    "name": "ipython",
    "version": 3
   },
   "file_extension": ".py",
   "mimetype": "text/x-python",
   "name": "python",
   "nbconvert_exporter": "python",
   "pygments_lexer": "ipython3",
   "version": "3.9.13"
  }
 },
 "nbformat": 4,
 "nbformat_minor": 5
}
