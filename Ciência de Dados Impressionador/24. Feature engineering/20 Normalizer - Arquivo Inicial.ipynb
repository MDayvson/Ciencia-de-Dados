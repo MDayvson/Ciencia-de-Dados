{
 "cells": [
  {
   "cell_type": "markdown",
   "id": "d3fb3c29",
   "metadata": {},
   "source": [
    "# Normalizer\n",
    "- Já falamos de normalização ao usar o redimensionamento dos dados (a mudança de escala)\n",
    "    - Utilizar o termo \"normalizar\" é muito comum só que o termo em si é muito genérico\n",
    "    - Como cientistas, é importante sempre que esse termo for utilizado, que a gente entenda o que ele realmente quer dizer\n",
    "- É importante que a gente consiga diferenciar cada um dos termos que vimos até agora:\n",
    "    - **Redimensionar (Scaler)** é mudar a escala dos dados, mantendo a mesma distribuição\n",
    "    - **Padronizar (ou escala padrão)** é quando trazemos a média para zero e o desvio padrão para 1\n",
    "    - **Normalizar** é adequar nossos dados a alguma norma. Por ser algo muito genérico pode ser usado em vários contextos, inclusive no redimensionamento\n",
    "- **Normalizer**\n",
    "    - **O Normalizer vai funcionar nas linhas, não nas colunas**\n",
    "    - https://scikit-learn.org/stable/modules/generated/sklearn.preprocessing.Normalizer.html\n",
    "    - \"Cada linha da matriz de dados com pelo menos um componente diferente de zero é redimensionada independentemente de outras amostras para que sua norma seja igual a um\"\n",
    "    - Segundo a própria documentação, é mais usado em **classificação de texto ou agrupamento**"
   ]
  },
  {
   "cell_type": "code",
   "execution_count": null,
   "id": "c3b4fbdf",
   "metadata": {},
   "outputs": [],
   "source": [
    "# Importando o Normalizer"
   ]
  },
  {
   "cell_type": "code",
   "execution_count": null,
   "id": "db782406",
   "metadata": {},
   "outputs": [],
   "source": [
    "# Sendo X dado pelos valores abaixo"
   ]
  },
  {
   "cell_type": "code",
   "execution_count": null,
   "id": "47081529",
   "metadata": {},
   "outputs": [],
   "source": [
    "# Vamos criar o nosso \"normalizador\""
   ]
  },
  {
   "cell_type": "code",
   "execution_count": null,
   "id": "5a9eb326",
   "metadata": {},
   "outputs": [],
   "source": [
    "# E fazer o fit com os dados"
   ]
  },
  {
   "cell_type": "code",
   "execution_count": null,
   "id": "f80a70ae",
   "metadata": {},
   "outputs": [],
   "source": [
    "# E o tranform"
   ]
  },
  {
   "cell_type": "code",
   "execution_count": null,
   "id": "6598342c",
   "metadata": {},
   "outputs": [],
   "source": [
    "# Elevando ao quadrado"
   ]
  },
  {
   "cell_type": "code",
   "execution_count": null,
   "id": "2cf1800b",
   "metadata": {},
   "outputs": [],
   "source": [
    "# Elevando esse array ao quadrado e somando as linhas"
   ]
  },
  {
   "cell_type": "markdown",
   "id": "437ebc6b",
   "metadata": {},
   "source": [
    "<a id='normas'></a>\n",
    "- Podemos escolher qual será a norma dos dados utilizado na normalização"
   ]
  },
  {
   "cell_type": "code",
   "execution_count": null,
   "id": "0865a42e",
   "metadata": {},
   "outputs": [],
   "source": [
    "# Utilizando o l1 como parâmetro da norma"
   ]
  },
  {
   "cell_type": "code",
   "execution_count": null,
   "id": "112ab0db",
   "metadata": {},
   "outputs": [],
   "source": [
    "# E fazer o fit com os dados"
   ]
  },
  {
   "cell_type": "code",
   "execution_count": null,
   "id": "103463a9",
   "metadata": {},
   "outputs": [],
   "source": [
    "# E o tranform"
   ]
  },
  {
   "cell_type": "code",
   "execution_count": null,
   "id": "89a91292",
   "metadata": {},
   "outputs": [],
   "source": [
    "# Somando as linhas desse array"
   ]
  },
  {
   "cell_type": "markdown",
   "id": "6b3aae97",
   "metadata": {},
   "source": [
    "- Podemos [voltar](#normas) e utilizar o \"max\" como norma"
   ]
  },
  {
   "cell_type": "code",
   "execution_count": null,
   "id": "4c59518e",
   "metadata": {},
   "outputs": [],
   "source": [
    "# Verificando o máximo das linhas do array"
   ]
  }
 ],
 "metadata": {
  "kernelspec": {
   "display_name": "Python 3 (ipykernel)",
   "language": "python",
   "name": "python3"
  },
  "language_info": {
   "codemirror_mode": {
    "name": "ipython",
    "version": 3
   },
   "file_extension": ".py",
   "mimetype": "text/x-python",
   "name": "python",
   "nbconvert_exporter": "python",
   "pygments_lexer": "ipython3",
   "version": "3.9.13"
  }
 },
 "nbformat": 4,
 "nbformat_minor": 5
}
