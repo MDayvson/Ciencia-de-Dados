{
 "cells": [
  {
   "cell_type": "markdown",
   "id": "31eb262c",
   "metadata": {},
   "source": [
    "# Discretização\n",
    "- https://scikit-learn.org/stable/modules/preprocessing.html#discretization\n",
    "- **Transforma atributos contínuos de um conjunto de dados em atributos nominais**\n",
    "    - segundo a própria documentação, é o particionamento de recursos contínuos em valores discretos"
   ]
  },
  {
   "cell_type": "markdown",
   "id": "b7402124",
   "metadata": {},
   "source": [
    "### KBinsDiscretizer\n",
    "- https://scikit-learn.org/stable/modules/generated/sklearn.preprocessing.KBinsDiscretizer.html#sklearn.preprocessing.KBinsDiscretizer\n",
    "- Divide os dados contínuos em intervalos, podendo ser ajustado de acordo com o parâmetro **`strategy`** para que todos os intervalos tenham o **mesmo comprimento** (**`uniform`**), um **número similar de pontos** (**`quantile`**, default) ou até mesmo baseado em um procedimento de agrupamento de k-means (**`kmeans`**)\n",
    "- O **`encode`** define a forma que sera codificado o resultado transformado, em geral usamos **`onehot`** para termos o retorno em colunas e **`ordinal`** para valores numéricos"
   ]
  },
  {
   "cell_type": "code",
   "execution_count": null,
   "id": "56dc43ee",
   "metadata": {},
   "outputs": [],
   "source": [
    "# Importando o pandas"
   ]
  },
  {
   "cell_type": "code",
   "execution_count": null,
   "id": "f943829c",
   "metadata": {},
   "outputs": [],
   "source": [
    "# Importando os dados do titanic após as etapas de Data Cleaning"
   ]
  },
  {
   "cell_type": "code",
   "execution_count": null,
   "id": "1a6f5e4e",
   "metadata": {},
   "outputs": [],
   "source": [
    "# Visualizando a tabela"
   ]
  },
  {
   "cell_type": "code",
   "execution_count": null,
   "id": "d0c6f4db",
   "metadata": {},
   "outputs": [],
   "source": [
    "# Importando o KBinsDiscretizer"
   ]
  },
  {
   "cell_type": "code",
   "execution_count": null,
   "id": "2f79e79d",
   "metadata": {},
   "outputs": [],
   "source": [
    "# Definindo nossa discretização"
   ]
  },
  {
   "cell_type": "code",
   "execution_count": null,
   "id": "d23adac2",
   "metadata": {},
   "outputs": [],
   "source": [
    "# Fazendo o fit com a coluna Fare"
   ]
  },
  {
   "cell_type": "code",
   "execution_count": null,
   "id": "f1b74042",
   "metadata": {},
   "outputs": [],
   "source": [
    "# Transformando os dados"
   ]
  },
  {
   "cell_type": "code",
   "execution_count": null,
   "id": "db567543",
   "metadata": {},
   "outputs": [],
   "source": [
    "# Visualizando os dados gerados"
   ]
  },
  {
   "cell_type": "code",
   "execution_count": null,
   "id": "9482732f",
   "metadata": {},
   "outputs": [],
   "source": [
    "# Salvando a contagem de valores em uma variável"
   ]
  },
  {
   "cell_type": "code",
   "execution_count": null,
   "id": "55629a6b",
   "metadata": {},
   "outputs": [],
   "source": [
    "# Adicionando 0 para o valor 3"
   ]
  },
  {
   "cell_type": "markdown",
   "id": "bcd6df6c",
   "metadata": {},
   "source": [
    "- Podemos utilizar o aggregate do pandas junto ao group by para verificar o mínimo, máximo e contagem de registros dos grupos gerados\n",
    "    - https://pandas.pydata.org/docs/reference/api/pandas.DataFrame.aggregate.html"
   ]
  },
  {
   "cell_type": "code",
   "execution_count": null,
   "id": "d28b8168",
   "metadata": {},
   "outputs": [],
   "source": [
    "# Verificando o intervalo em cada um desses grupos"
   ]
  },
  {
   "cell_type": "code",
   "execution_count": null,
   "id": "4504b9ff",
   "metadata": {},
   "outputs": [],
   "source": [
    "# Calculando os comprimentos"
   ]
  },
  {
   "cell_type": "markdown",
   "id": "76103df8",
   "metadata": {},
   "source": [
    "- O comprimento vai ser calculando considerando todo o range e dividindo em 3. Depois os pontos serão agrupando considerando cada uma dessas 3 regiões"
   ]
  },
  {
   "cell_type": "code",
   "execution_count": null,
   "id": "df16391b",
   "metadata": {},
   "outputs": [],
   "source": [
    "# Verificando os dados estatísticos da coluna Fare"
   ]
  },
  {
   "cell_type": "code",
   "execution_count": null,
   "id": "caf07589",
   "metadata": {},
   "outputs": [],
   "source": [
    "# Calculando o range"
   ]
  },
  {
   "cell_type": "code",
   "execution_count": null,
   "id": "28a4e584",
   "metadata": {},
   "outputs": [],
   "source": [
    "# Dividindo esse range em 3"
   ]
  },
  {
   "cell_type": "markdown",
   "id": "9145f8fb",
   "metadata": {},
   "source": [
    "- Podemos utilizar o **`bin_edges_`** para determinar os limites dos grupos criados"
   ]
  },
  {
   "cell_type": "code",
   "execution_count": null,
   "id": "ab070f49",
   "metadata": {},
   "outputs": [],
   "source": [
    "# Podemos utilizar o bin_edges para verificar os limites dos grupos gerados"
   ]
  },
  {
   "cell_type": "markdown",
   "id": "be0d9f48",
   "metadata": {},
   "source": [
    "- Vamos utilizar o barplot para visualizar graficamente\n",
    "    - https://matplotlib.org/stable/plot_types/basic/bar.html#sphx-glr-plot-types-basic-bar-py"
   ]
  },
  {
   "cell_type": "code",
   "execution_count": null,
   "id": "d581e9ac",
   "metadata": {},
   "outputs": [],
   "source": [
    "# Utilizando um gráfico de barras para visualizar"
   ]
  },
  {
   "cell_type": "markdown",
   "id": "5da9f15a",
   "metadata": {},
   "source": [
    "- Podemos utilizar `strategy=quantile` para que cada região tenha a mesma quantidade de registros\n",
    "    - Segundo a documentação: **\"usa os valores dos quantis para ter compartimentos igualmente preenchidos\"**"
   ]
  },
  {
   "cell_type": "code",
   "execution_count": null,
   "id": "7d1892bd",
   "metadata": {},
   "outputs": [],
   "source": [
    "# Definindo nossa discretização"
   ]
  },
  {
   "cell_type": "code",
   "execution_count": null,
   "id": "021418c9",
   "metadata": {},
   "outputs": [],
   "source": [
    "# Fazendo o fit com a coluna Fare"
   ]
  },
  {
   "cell_type": "code",
   "execution_count": null,
   "id": "04699f5b",
   "metadata": {},
   "outputs": [],
   "source": [
    "# Transformando os dados"
   ]
  },
  {
   "cell_type": "code",
   "execution_count": null,
   "id": "8cd6493c",
   "metadata": {},
   "outputs": [],
   "source": [
    "# Visualizando os dados gerados"
   ]
  },
  {
   "cell_type": "code",
   "execution_count": null,
   "id": "6a39a4ed",
   "metadata": {},
   "outputs": [],
   "source": [
    "# Salvando a contagem de valores em uma variável"
   ]
  },
  {
   "cell_type": "code",
   "execution_count": null,
   "id": "93e7c430",
   "metadata": {},
   "outputs": [],
   "source": [
    "# Verificando o intervalo em cada um desses grupos"
   ]
  },
  {
   "cell_type": "code",
   "execution_count": null,
   "id": "5059d245",
   "metadata": {},
   "outputs": [],
   "source": [
    "# Novamente utilizando o bin_edges"
   ]
  },
  {
   "cell_type": "markdown",
   "id": "7d61aac9",
   "metadata": {},
   "source": [
    "- Podemos então verificar os **quantis** da coluna Fare\n",
    "    - https://pandas.pydata.org/docs/reference/api/pandas.DataFrame.quantile.html\n",
    "    - Obs: **quartil é o quantil quando dividimos a base em 4 partes iguais**"
   ]
  },
  {
   "cell_type": "code",
   "execution_count": null,
   "id": "ee799fe5",
   "metadata": {},
   "outputs": [],
   "source": [
    "# Verificando os quantis que dividem essa base em 5 regiões"
   ]
  },
  {
   "cell_type": "code",
   "execution_count": null,
   "id": "05bc3e25",
   "metadata": {},
   "outputs": [],
   "source": [
    "# Podemos visualizar o comprimento de cada uma dessas regiões"
   ]
  },
  {
   "cell_type": "code",
   "execution_count": null,
   "id": "251e6dca",
   "metadata": {},
   "outputs": [],
   "source": [
    "# Utilizando um gráfico de barras para visualizar"
   ]
  },
  {
   "cell_type": "markdown",
   "id": "c371d2bb",
   "metadata": {},
   "source": [
    "### Binarização\n",
    "- https://scikit-learn.org/stable/modules/generated/sklearn.preprocessing.Binarizer.html#sklearn.preprocessing.Binarizer\n",
    "- **Transforma os dados em binários** (0 - se valor for menor ou igual ao limite ou 1 - valor maior que o limite) **baseado em um limite** informado como parâmetro\n",
    "    - **`threshold`**: limite usado para classificação dos valores\n",
    "- **Podemos fazer a binarização na coluna SibSp para determinar se as pessoas estavam viajando sozinhas (SibSp == 0) ou acompanhadas dos irmãos / conjuges (SibSp > 0)**  \n",
    "    - Para isso, **podemos considerar o limite igual a 0** (que é o valor default), por exemplo"
   ]
  },
  {
   "cell_type": "code",
   "execution_count": null,
   "id": "689f2aa2",
   "metadata": {},
   "outputs": [],
   "source": [
    "# Visualizando os valores de Parch"
   ]
  },
  {
   "cell_type": "code",
   "execution_count": null,
   "id": "da8ea723",
   "metadata": {},
   "outputs": [],
   "source": [
    "# Importando o Binarizer"
   ]
  },
  {
   "cell_type": "code",
   "execution_count": null,
   "id": "971a2240",
   "metadata": {},
   "outputs": [],
   "source": [
    "# Criando a binarização"
   ]
  },
  {
   "cell_type": "code",
   "execution_count": null,
   "id": "bb736fce",
   "metadata": {},
   "outputs": [],
   "source": [
    "# Fazendo o fit"
   ]
  },
  {
   "cell_type": "code",
   "execution_count": null,
   "id": "bdabb895",
   "metadata": {},
   "outputs": [],
   "source": [
    "# Fazendo a transformação"
   ]
  },
  {
   "cell_type": "code",
   "execution_count": null,
   "id": "146caf3c",
   "metadata": {},
   "outputs": [],
   "source": [
    "# Visualizando os valores"
   ]
  }
 ],
 "metadata": {
  "kernelspec": {
   "display_name": "Python 3 (ipykernel)",
   "language": "python",
   "name": "python3"
  },
  "language_info": {
   "codemirror_mode": {
    "name": "ipython",
    "version": 3
   },
   "file_extension": ".py",
   "mimetype": "text/x-python",
   "name": "python",
   "nbconvert_exporter": "python",
   "pygments_lexer": "ipython3",
   "version": "3.9.13"
  }
 },
 "nbformat": 4,
 "nbformat_minor": 5
}
