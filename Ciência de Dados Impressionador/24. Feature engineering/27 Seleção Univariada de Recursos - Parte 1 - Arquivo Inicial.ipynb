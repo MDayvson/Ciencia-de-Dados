{
 "cells": [
  {
   "cell_type": "markdown",
   "id": "3800a518",
   "metadata": {},
   "source": [
    "## Seleção univariada de recursos\n",
    "- Vamos **analisar cada uma das features de forma separada**, considerando sua relação com o target através de **testes estatísticos**\n",
    "- Podemos selecionar os **K recursos de maior pontuação**, um **percentual** dos recursos, considerar a taxa de **falsos positivos / falsos negativos** ou até **criar nossa própria estratégia de seleção**\n",
    "- **Precisamos** selecionar qual vai ser a função estatística usada e essa função irá retornar uma **pontuação** para cada um dos recursos\n",
    "    - Métodos baseados no **teste F** vão analisar o **grau de dependência linear** entre duas variáveis aleatórias\n",
    "        - Regressão: f_regression\n",
    "        - Classificação: f_classif     \n",
    "    - Os **métodos de informação mútua** conseguem **analisar qualquer tipo de dependência estatística**, mas **precisam de mais dados** para serem mais precisos. Também trabalham bem com dados esparsos.\n",
    "        - Regressão: mutual_info_regression\n",
    "        - Classificação: mutual_info_classif\n",
    "    - **Metodos quadráticos só podem ser aplicados para valores não negativos**\n",
    "        - Classificação: chi2 (também é útil para trabalharmos com dados esparsos)\n",
    "        \n",
    " \n",
    "- **\"Aviso Cuidado para não usar uma função de pontuação de regressão com um problema de classificação, pois você obterá resultados inúteis.\"**"
   ]
  },
  {
   "cell_type": "markdown",
   "id": "06fedda4",
   "metadata": {},
   "source": [
    "- Começando com o dataset load_wine do scikit-learn\n",
    "    - https://scikit-learn.org/stable/modules/generated/sklearn.datasets.load_wine.html"
   ]
  },
  {
   "cell_type": "code",
   "execution_count": null,
   "id": "c30b9b2d",
   "metadata": {},
   "outputs": [],
   "source": [
    "# Importando o dataset load_wine"
   ]
  },
  {
   "cell_type": "code",
   "execution_count": null,
   "id": "28c03067",
   "metadata": {},
   "outputs": [],
   "source": [
    "# Importando X e y"
   ]
  },
  {
   "cell_type": "code",
   "execution_count": null,
   "id": "09fba6a2",
   "metadata": {},
   "outputs": [],
   "source": [
    "# Visualizando a base"
   ]
  },
  {
   "cell_type": "code",
   "execution_count": null,
   "id": "b91eff58",
   "metadata": {},
   "outputs": [],
   "source": [
    "# Visualizando o número de recursos"
   ]
  },
  {
   "cell_type": "markdown",
   "id": "63fcb6fa",
   "metadata": {},
   "source": [
    "### SelectKBest\n",
    "- https://scikit-learn.org/stable/modules/generated/sklearn.feature_selection.SelectKBest.html#sklearn.feature_selection.SelectKBest"
   ]
  },
  {
   "cell_type": "code",
   "execution_count": null,
   "id": "b8a13ebe",
   "metadata": {},
   "outputs": [],
   "source": [
    "# Importando o SelectKBest"
   ]
  },
  {
   "cell_type": "code",
   "execution_count": null,
   "id": "bc8a61f5",
   "metadata": {},
   "outputs": [],
   "source": [
    "# Criando o nosso seletor"
   ]
  },
  {
   "cell_type": "code",
   "execution_count": null,
   "id": "08074b29",
   "metadata": {},
   "outputs": [],
   "source": [
    "# Fazendo o fit com os dados"
   ]
  },
  {
   "cell_type": "code",
   "execution_count": null,
   "id": "32c64d09",
   "metadata": {},
   "outputs": [],
   "source": [
    "# Visualizando os scores"
   ]
  },
  {
   "cell_type": "code",
   "execution_count": null,
   "id": "463dcbea",
   "metadata": {},
   "outputs": [],
   "source": [
    "# Visualizando as colunas"
   ]
  },
  {
   "cell_type": "code",
   "execution_count": null,
   "id": "5458b856",
   "metadata": {},
   "outputs": [],
   "source": [
    "# Visualizando graficamente a distribuição dos dados\n",
    "import seaborn as sns\n",
    "import matplotlib.pyplot as plt\n",
    "\n",
    "fig, ax = plt.subplots(ncols=3,figsize=(18,6))\n",
    "\n",
    "sns.kdeplot(X.magnesium,hue=y,ax=ax[0])\n",
    "sns.kdeplot(X.total_phenols,hue=y,ax=ax[1])\n",
    "sns.kdeplot(X.flavanoids,hue=y,ax=ax[2])\n",
    "\n",
    "plt.show()"
   ]
  },
  {
   "cell_type": "code",
   "execution_count": null,
   "id": "8ee41a24",
   "metadata": {},
   "outputs": [],
   "source": [
    "# Visualizando os valores gerados"
   ]
  },
  {
   "cell_type": "markdown",
   "id": "c421ba45",
   "metadata": {},
   "source": [
    "- **Selecionando o KBest para o dataset iris**\n",
    "    - https://scikit-learn.org/stable/modules/generated/sklearn.datasets.load_iris.html#sklearn.datasets.load_iris"
   ]
  },
  {
   "cell_type": "code",
   "execution_count": null,
   "id": "f267038f",
   "metadata": {},
   "outputs": [],
   "source": [
    "# Importando o dataset iris\n",
    "from sklearn.datasets import load_iris"
   ]
  },
  {
   "cell_type": "code",
   "execution_count": null,
   "id": "44a88628",
   "metadata": {},
   "outputs": [],
   "source": [
    "# Importando X e y\n",
    "X_iris,y_iris = load_iris(return_X_y=True,as_frame=True)"
   ]
  },
  {
   "cell_type": "code",
   "execution_count": null,
   "id": "481e5ced",
   "metadata": {},
   "outputs": [],
   "source": [
    "# Visualizando a base\n",
    "X_iris.head(3)"
   ]
  },
  {
   "cell_type": "code",
   "execution_count": null,
   "id": "29ee8e34",
   "metadata": {},
   "outputs": [],
   "source": [
    "# Criando o nosso seletor"
   ]
  },
  {
   "cell_type": "code",
   "execution_count": null,
   "id": "10ba2a44",
   "metadata": {},
   "outputs": [],
   "source": [
    "# Fazendo o fit com os dados"
   ]
  },
  {
   "cell_type": "code",
   "execution_count": null,
   "id": "7aca0042",
   "metadata": {},
   "outputs": [],
   "source": [
    "# Visualizando os scores"
   ]
  },
  {
   "cell_type": "code",
   "execution_count": null,
   "id": "a508b4b7",
   "metadata": {},
   "outputs": [],
   "source": [
    "# Visualizando graficamente a distribuição dos dados\n",
    "fig, ax = plt.subplots(ncols=4,figsize=(16,6))\n",
    "\n",
    "sns.kdeplot(X_iris.iloc[:,0],hue=y_iris,ax=ax[0])\n",
    "sns.kdeplot(X_iris.iloc[:,1],hue=y_iris,ax=ax[1])\n",
    "sns.kdeplot(X_iris.iloc[:,2],hue=y_iris,ax=ax[2])\n",
    "sns.kdeplot(X_iris.iloc[:,3],hue=y_iris,ax=ax[3])\n",
    "\n",
    "plt.show()"
   ]
  },
  {
   "cell_type": "markdown",
   "id": "b09448c6",
   "metadata": {},
   "source": [
    "- **Utilizando o KBest na regressão**\n",
    "    - https://scikit-learn.org/stable/modules/generated/sklearn.datasets.fetch_california_housing.html#sklearn.datasets.fetch_california_housing"
   ]
  },
  {
   "cell_type": "code",
   "execution_count": null,
   "id": "804ad1a1",
   "metadata": {},
   "outputs": [],
   "source": [
    "# Importando o dataset de casas da califórnia\n",
    "from sklearn.datasets import fetch_california_housing"
   ]
  },
  {
   "cell_type": "code",
   "execution_count": null,
   "id": "a6b7c23c",
   "metadata": {},
   "outputs": [],
   "source": [
    "# Importando X e y\n",
    "X_casas,y_casas = fetch_california_housing(return_X_y=True,as_frame=True)"
   ]
  },
  {
   "cell_type": "code",
   "execution_count": null,
   "id": "eee7892a",
   "metadata": {},
   "outputs": [],
   "source": [
    "# Visualizando a base\n",
    "X_casas.head(3)"
   ]
  },
  {
   "cell_type": "code",
   "execution_count": null,
   "id": "322523ce",
   "metadata": {},
   "outputs": [],
   "source": [
    "# Criando o nosso seletor"
   ]
  },
  {
   "cell_type": "code",
   "execution_count": null,
   "id": "ab267fa9",
   "metadata": {},
   "outputs": [],
   "source": [
    "# Fazendo o fit com os dados"
   ]
  },
  {
   "cell_type": "code",
   "execution_count": null,
   "id": "54217c7f",
   "metadata": {},
   "outputs": [],
   "source": [
    "# Visualizando os scores"
   ]
  },
  {
   "cell_type": "code",
   "execution_count": null,
   "id": "8e0f71c5",
   "metadata": {},
   "outputs": [],
   "source": [
    "# Visualizando graficamente\n",
    "fig, ax = plt.subplots(ncols=3,figsize=(15,5))\n",
    "\n",
    "sns.regplot(x=X_casas.iloc[:,0],y=y_casas,scatter_kws={\"color\": \"black\"}, line_kws={\"color\": \"red\"},\n",
    "            # ci=None,\n",
    "            ax=ax[0])\n",
    "sns.regplot(x=X_casas.iloc[:,2],y=y_casas,scatter_kws={\"color\": \"black\"}, line_kws={\"color\": \"red\"},\n",
    "            # ci=None,fit_reg=False,\n",
    "            ax=ax[1])\n",
    "sns.regplot(x=X_casas.iloc[:,5],y=y_casas,scatter_kws={\"color\": \"black\"}, line_kws={\"color\": \"red\"},\n",
    "           # ci=None,fit_reg=False,\n",
    "            ax=ax[2])\n",
    "\n",
    "ax[0].set(xlim=(0, 10),ylim=(0,10))\n",
    "ax[1].set(xlim=(0, 10),ylim=(0,10))\n",
    "ax[2].set(xlim=(0, 10),ylim=(0,10))\n",
    "\n",
    "plt.show()"
   ]
  },
  {
   "cell_type": "markdown",
   "id": "cef27d03",
   "metadata": {},
   "source": [
    "- **Agora utilizando um dataset real**\n",
    "    - https://www.kaggle.com/datasets/mlg-ulb/creditcardfraud"
   ]
  },
  {
   "cell_type": "code",
   "execution_count": null,
   "id": "b075f851",
   "metadata": {},
   "outputs": [],
   "source": [
    "# Importando o dataset de cartão de crédito"
   ]
  },
  {
   "cell_type": "code",
   "execution_count": null,
   "id": "2554c4cb",
   "metadata": {},
   "outputs": [],
   "source": [
    "# Visualizando a base"
   ]
  },
  {
   "cell_type": "code",
   "execution_count": null,
   "id": "cf668439",
   "metadata": {},
   "outputs": [],
   "source": [
    "# Separando X e y"
   ]
  },
  {
   "cell_type": "code",
   "execution_count": null,
   "id": "b0312dcb",
   "metadata": {},
   "outputs": [],
   "source": [
    "# Visualizando os valores de y"
   ]
  },
  {
   "cell_type": "code",
   "execution_count": null,
   "id": "fbc4b046",
   "metadata": {},
   "outputs": [],
   "source": [
    "# Visualizando o shape de X"
   ]
  },
  {
   "cell_type": "markdown",
   "id": "226fbf2c",
   "metadata": {},
   "source": [
    "- Separando em treino e teste\n",
    "    - https://scikit-learn.org/stable/modules/generated/sklearn.model_selection.train_test_split.html"
   ]
  },
  {
   "cell_type": "code",
   "execution_count": null,
   "id": "61287d03",
   "metadata": {},
   "outputs": [],
   "source": [
    "# Importando o train_test_split"
   ]
  },
  {
   "cell_type": "code",
   "execution_count": null,
   "id": "2953d5bb",
   "metadata": {},
   "outputs": [],
   "source": [
    "# Separando em treino e teste"
   ]
  },
  {
   "cell_type": "code",
   "execution_count": null,
   "id": "97c8f9f6",
   "metadata": {},
   "outputs": [],
   "source": [
    "# Verificando o y de treino"
   ]
  },
  {
   "cell_type": "code",
   "execution_count": null,
   "id": "d99560ae",
   "metadata": {},
   "outputs": [],
   "source": [
    "# Verificando o y de teste"
   ]
  },
  {
   "cell_type": "markdown",
   "id": "7f920bb2",
   "metadata": {},
   "source": [
    "- Vamos utilizar a **Árvore de Decisão para criar o nosso modelo**\n",
    "    - https://scikit-learn.org/stable/modules/generated/sklearn.tree.DecisionTreeClassifier.html#sklearn.tree.DecisionTreeClassifier\n",
    "    - Obs: é importante considerar que **o melhor conjunto de features vai depender também de todo o modelo que estamos utilizando**\n",
    "- E o **f1_score para avaliar**\n",
    "    - https://scikit-learn.org/stable/modules/generated/sklearn.metrics.f1_score.html#sklearn.metrics.f1_score"
   ]
  },
  {
   "cell_type": "code",
   "execution_count": null,
   "id": "6e8457a0",
   "metadata": {},
   "outputs": [],
   "source": [
    "# Criando um seletor para k = 10"
   ]
  },
  {
   "cell_type": "code",
   "execution_count": null,
   "id": "56e4728d",
   "metadata": {},
   "outputs": [],
   "source": [
    "# Fazendo o fit do seletor"
   ]
  },
  {
   "cell_type": "code",
   "execution_count": null,
   "id": "445484f7",
   "metadata": {},
   "outputs": [],
   "source": [
    "# Fazendo o transform"
   ]
  },
  {
   "cell_type": "code",
   "execution_count": null,
   "id": "b006ec56",
   "metadata": {},
   "outputs": [],
   "source": [
    "# Visualizando o novo shape"
   ]
  },
  {
   "cell_type": "code",
   "execution_count": null,
   "id": "644d97ce",
   "metadata": {},
   "outputs": [],
   "source": [
    "# Visualizando as colunas"
   ]
  },
  {
   "cell_type": "markdown",
   "id": "0052283a",
   "metadata": {},
   "source": [
    "- Utilizando esses dados na Árvore de Decisão"
   ]
  },
  {
   "cell_type": "code",
   "execution_count": null,
   "id": "0f636a2b",
   "metadata": {},
   "outputs": [],
   "source": [
    "# Importando a Árvore de Decisão"
   ]
  },
  {
   "cell_type": "code",
   "execution_count": null,
   "id": "aff2167e",
   "metadata": {},
   "outputs": [],
   "source": [
    "# Criando o classificador"
   ]
  },
  {
   "cell_type": "code",
   "execution_count": null,
   "id": "fe8e07cc",
   "metadata": {},
   "outputs": [],
   "source": [
    "# Selecionando o X_train com as colunas selecionadas acima"
   ]
  },
  {
   "cell_type": "code",
   "execution_count": null,
   "id": "ff469453",
   "metadata": {},
   "outputs": [],
   "source": [
    "# Fazendo o fit do modelo"
   ]
  },
  {
   "cell_type": "code",
   "execution_count": null,
   "id": "c5a08298",
   "metadata": {},
   "outputs": [],
   "source": [
    "# Selecionando o X_test com as mesmas colunas"
   ]
  },
  {
   "cell_type": "code",
   "execution_count": null,
   "id": "cb22768c",
   "metadata": {},
   "outputs": [],
   "source": [
    "# Fazendo a previsão"
   ]
  },
  {
   "cell_type": "markdown",
   "id": "512d79f6",
   "metadata": {},
   "source": [
    "- E então avaliando com o f1_score"
   ]
  },
  {
   "cell_type": "code",
   "execution_count": null,
   "id": "6d54a097",
   "metadata": {},
   "outputs": [],
   "source": [
    "# Importando o f1_score"
   ]
  },
  {
   "cell_type": "code",
   "execution_count": null,
   "id": "d82f6da7",
   "metadata": {},
   "outputs": [],
   "source": [
    "# E calculando"
   ]
  },
  {
   "cell_type": "markdown",
   "id": "b8602667",
   "metadata": {},
   "source": [
    "- **Podemos então percorrer diferentes valores de k avaliando o f1_score**"
   ]
  },
  {
   "cell_type": "code",
   "execution_count": null,
   "id": "83b784f5",
   "metadata": {},
   "outputs": [],
   "source": [
    "# Criando o nosso seletor\n",
    "k = []\n",
    "f1 = []\n",
    "\n",
    "for i in range(1,len(X_train.columns)):\n",
    "    \n",
    "    # Selecionando as colunas\n",
    "    \n",
    "    # Utilizando no modelo\n",
    "    \n",
    "    # Avaliando o modelo\n",
    "    \n",
    "    # Salvando as informações"
   ]
  },
  {
   "cell_type": "code",
   "execution_count": null,
   "id": "7f839f4b",
   "metadata": {},
   "outputs": [],
   "source": [
    "# Visualizando graficamente a relação de f1_score com k\n",
    "import matplotlib.pyplot as plt\n",
    "\n",
    "fig, ax = plt.subplots()\n",
    "\n",
    "ax.plot(k, f1)\n",
    "\n",
    "plt.show()"
   ]
  }
 ],
 "metadata": {
  "kernelspec": {
   "display_name": "Python 3 (ipykernel)",
   "language": "python",
   "name": "python3"
  },
  "language_info": {
   "codemirror_mode": {
    "name": "ipython",
    "version": 3
   },
   "file_extension": ".py",
   "mimetype": "text/x-python",
   "name": "python",
   "nbconvert_exporter": "python",
   "pygments_lexer": "ipython3",
   "version": "3.9.13"
  }
 },
 "nbformat": 4,
 "nbformat_minor": 5
}
