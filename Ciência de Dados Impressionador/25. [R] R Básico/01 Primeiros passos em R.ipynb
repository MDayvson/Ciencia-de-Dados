{
 "cells": [
  {
   "cell_type": "markdown",
   "id": "35153964",
   "metadata": {},
   "source": [
    "# <font color='blue'>Instalando o R e o RStudio</font>\n",
    "- Antes de instalar o R, é importante entender que R e RStudio são coisas diferentes\n",
    "    - **R é a linguagem de programação**\n",
    "        - assim como Pyhton, JavaScript, Java, etc\n",
    "        - https://www.r-project.org/\n",
    "        - **\"R é um ambiente de software livre para computação estatística e gráficos\"**\n",
    "        - É importante saber que R é orientado a objetos, então tudo em R vai ser um objeto\n",
    "    - **RStudio é a IDE** (Ambiente de Desenvolvimento Integrado), onde vamos escrever nossos códigos, visualizar as saídas, etc.\n",
    "        - assim como Jupyter Notebook, PyCharm, etc (inclusive estamos usando o R nesse notebook)\n",
    "        - O RStudio continua sendo distribuído gratuitamente, mas agora como um dos produtos da 'Posit'\n",
    "            - Segundo a própria empresa ele não vai ser descontinuado mas eles buscam melhorias como incluir Python\n",
    "            - Oferece alguns outros produtos além do RStudio como conectores, soluções de cloud, etc\n",
    "        - https://posit.co/products/open-source/rstudio/           "
   ]
  }
 ],
 "metadata": {
  "kernelspec": {
   "display_name": "Python 3 (ipykernel)",
   "language": "python",
   "name": "python3"
  },
  "language_info": {
   "codemirror_mode": {
    "name": "ipython",
    "version": 3
   },
   "file_extension": ".py",
   "mimetype": "text/x-python",
   "name": "python",
   "nbconvert_exporter": "python",
   "pygments_lexer": "ipython3",
   "version": "3.9.13"
  }
 },
 "nbformat": 4,
 "nbformat_minor": 5
}
