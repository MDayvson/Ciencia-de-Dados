{
 "cells": [
  {
   "cell_type": "markdown",
   "id": "2fb48c0a",
   "metadata": {},
   "source": [
    "# NumPy\n",
    "\n",
    "- Ele é a \"base\" para o Pandas\n",
    "<br><br>\n",
    "- Numerical Python\n",
    "    - Biblioteca de computação numérica\n",
    "    - Otimizada para cálculos pesados\n",
    "- https://numpy.org/\n",
    "<br><br>\n",
    "- No NumPy vamos trabalhar com <font color=\"blue\">**arrays**</font>, que são mais rápidos e mais performáticos que listas"
   ]
  },
  {
   "cell_type": "code",
   "execution_count": 1,
   "id": "e18aaa60",
   "metadata": {},
   "outputs": [],
   "source": [
    "# Importar o numpy\n",
    "\n",
    "import numpy as np"
   ]
  },
  {
   "cell_type": "markdown",
   "id": "813d2d32",
   "metadata": {},
   "source": [
    "### A importância do NumPy"
   ]
  },
  {
   "cell_type": "markdown",
   "id": "3b31fcd1",
   "metadata": {},
   "source": [
    "#### Vamos supor que temos a venda e comissão (em percentual) de 5 vendedores e queremos saber qual vai ser o salário de cada um deles"
   ]
  },
  {
   "cell_type": "code",
   "execution_count": 2,
   "id": "d4a7f1bb",
   "metadata": {},
   "outputs": [],
   "source": [
    "# Venda e comissão\n",
    "venda_valor = [150000,230000,82000,143000,184000]\n",
    "comissao = [5,8,8,5,12]"
   ]
  },
  {
   "cell_type": "code",
   "execution_count": 3,
   "id": "132a8c4f",
   "metadata": {},
   "outputs": [
    {
     "data": {
      "text/plain": [
       "list"
      ]
     },
     "execution_count": 3,
     "metadata": {},
     "output_type": "execute_result"
    }
   ],
   "source": [
    "type(venda_valor)"
   ]
  },
  {
   "cell_type": "code",
   "execution_count": 4,
   "id": "2a9934fd",
   "metadata": {},
   "outputs": [
    {
     "ename": "TypeError",
     "evalue": "unsupported operand type(s) for /: 'list' and 'int'",
     "output_type": "error",
     "traceback": [
      "\u001b[1;31m---------------------------------------------------------------------------\u001b[0m",
      "\u001b[1;31mTypeError\u001b[0m                                 Traceback (most recent call last)",
      "Cell \u001b[1;32mIn[4], line 2\u001b[0m\n\u001b[0;32m      1\u001b[0m \u001b[39m# Ao tentar fazer essa operação com listas, teremos um erro\u001b[39;00m\n\u001b[1;32m----> 2\u001b[0m venda_valor\u001b[39m*\u001b[39m(comissao\u001b[39m/\u001b[39;49m\u001b[39m100\u001b[39;49m)\n",
      "\u001b[1;31mTypeError\u001b[0m: unsupported operand type(s) for /: 'list' and 'int'"
     ]
    }
   ],
   "source": [
    "# Ao tentar fazer essa operação com listas, teremos um erro\n",
    "venda_valor*(comissao/100)"
   ]
  },
  {
   "cell_type": "markdown",
   "id": "11093a7e",
   "metadata": {},
   "source": [
    "### Transformar uma lista em um array:\n",
    "\n",
    "meu_array = <font color=\"blue\">**np.array**</font>(minha_lista)"
   ]
  },
  {
   "cell_type": "code",
   "execution_count": null,
   "id": "dba3c6ba",
   "metadata": {},
   "outputs": [],
   "source": [
    "# Transformando em um array\n",
    "venda_valor_array = np.array(venda_valor)\n",
    "comissao_array = np.array(comissao)"
   ]
  },
  {
   "cell_type": "code",
   "execution_count": null,
   "id": "8c1a1725",
   "metadata": {},
   "outputs": [
    {
     "data": {
      "text/plain": [
       "array([ 7500., 18400.,  6560.,  7150., 22080.])"
      ]
     },
     "execution_count": 12,
     "metadata": {},
     "output_type": "execute_result"
    }
   ],
   "source": [
    "# Agora vamos conseguir fazer sendo um array\n",
    "venda_valor_array*(comissao_array/100)"
   ]
  },
  {
   "cell_type": "markdown",
   "id": "f64ea7ee",
   "metadata": {},
   "source": [
    "### Dimensões de um array\n",
    "\n",
    "meu_array<font color=\"blue\">**.shape**</font>"
   ]
  },
  {
   "cell_type": "code",
   "execution_count": null,
   "id": "ceca1617",
   "metadata": {},
   "outputs": [
    {
     "name": "stdout",
     "output_type": "stream",
     "text": [
      "[150000 230000  82000 143000 184000]\n"
     ]
    }
   ],
   "source": [
    "print(venda_valor_array)"
   ]
  },
  {
   "cell_type": "code",
   "execution_count": null,
   "id": "e3a4bfe9",
   "metadata": {},
   "outputs": [
    {
     "data": {
      "text/plain": [
       "(5,)"
      ]
     },
     "execution_count": 16,
     "metadata": {},
     "output_type": "execute_result"
    }
   ],
   "source": [
    "venda_valor_array.shape"
   ]
  },
  {
   "cell_type": "markdown",
   "id": "fbe394b3",
   "metadata": {},
   "source": [
    "##### Todos os dados de um array vão ter o mesmo tipo\n",
    "\n",
    "Para saber o tipo dos dados, podemos fazer: <br>\n",
    "meu_array<font color=\"blue\">**.dtype**</font>"
   ]
  },
  {
   "cell_type": "code",
   "execution_count": null,
   "id": "4a1b2377",
   "metadata": {},
   "outputs": [
    {
     "data": {
      "text/plain": [
       "dtype('int32')"
      ]
     },
     "execution_count": 18,
     "metadata": {},
     "output_type": "execute_result"
    }
   ],
   "source": [
    "venda_valor_array.dtype"
   ]
  },
  {
   "cell_type": "markdown",
   "id": "3cf98a15",
   "metadata": {},
   "source": [
    "##### Se tiver dados de diferentes tipos, ele converte para o mesmo tipo"
   ]
  },
  {
   "cell_type": "code",
   "execution_count": null,
   "id": "b8d17e68",
   "metadata": {},
   "outputs": [
    {
     "name": "stdout",
     "output_type": "stream",
     "text": [
      "[1 2 3 4 5]\n"
     ]
    },
    {
     "data": {
      "text/plain": [
       "dtype('int32')"
      ]
     },
     "execution_count": 19,
     "metadata": {},
     "output_type": "execute_result"
    }
   ],
   "source": [
    "tipos_dados = np.array([1,2,3,4,5])\n",
    "print(tipos_dados)\n",
    "tipos_dados.dtype"
   ]
  },
  {
   "cell_type": "code",
   "execution_count": 5,
   "id": "d918fcd0",
   "metadata": {},
   "outputs": [
    {
     "name": "stdout",
     "output_type": "stream",
     "text": [
      "float64\n",
      "[1.  2.  3.  4.5 5. ]\n"
     ]
    }
   ],
   "source": [
    "tipos_dados = np.array([1,2,3,4.5,5])\n",
    "print(tipos_dados.dtype)\n",
    "print(tipos_dados)"
   ]
  },
  {
   "cell_type": "code",
   "execution_count": null,
   "id": "2370fcd1",
   "metadata": {},
   "outputs": [
    {
     "name": "stdout",
     "output_type": "stream",
     "text": [
      "<U11\n",
      "['1' '2' '3' '4' '5']\n"
     ]
    }
   ],
   "source": [
    "tipos_dados = np.array([1,2,3,'4',5])\n",
    "print(tipos_dados.dtype)\n",
    "print(tipos_dados)"
   ]
  },
  {
   "cell_type": "markdown",
   "id": "b82046ff",
   "metadata": {},
   "source": [
    "### O array de uma dimensão é o que chamamos de vetor e o de duas dimensões de matriz"
   ]
  },
  {
   "cell_type": "code",
   "execution_count": null,
   "id": "27a74a02",
   "metadata": {},
   "outputs": [],
   "source": [
    "dados_venda = np.array([[150000,230000,82000,143000,184000],[5,8,8,5,12]])"
   ]
  },
  {
   "cell_type": "code",
   "execution_count": null,
   "id": "f5311458",
   "metadata": {},
   "outputs": [
    {
     "name": "stdout",
     "output_type": "stream",
     "text": [
      "[[150000 230000  82000 143000 184000]\n",
      " [     5      8      8      5     12]]\n"
     ]
    }
   ],
   "source": [
    "print(dados_venda)"
   ]
  },
  {
   "cell_type": "code",
   "execution_count": null,
   "id": "e10d3072",
   "metadata": {},
   "outputs": [
    {
     "data": {
      "text/plain": [
       "(2, 5)"
      ]
     },
     "execution_count": 24,
     "metadata": {},
     "output_type": "execute_result"
    }
   ],
   "source": [
    "dados_venda.shape"
   ]
  },
  {
   "cell_type": "code",
   "execution_count": null,
   "id": "3ca8d58b",
   "metadata": {},
   "outputs": [
    {
     "data": {
      "text/plain": [
       "dtype('int32')"
      ]
     },
     "execution_count": 25,
     "metadata": {},
     "output_type": "execute_result"
    }
   ],
   "source": [
    "dados_venda.dtype"
   ]
  },
  {
   "cell_type": "code",
   "execution_count": null,
   "id": "52dc077f",
   "metadata": {},
   "outputs": [
    {
     "name": "stdout",
     "output_type": "stream",
     "text": [
      "[['Lucas' 'Bia' 'Jean' 'Gabi' 'Pedro']\n",
      " ['150000' '230000' '82000' '143000' '184000']]\n"
     ]
    }
   ],
   "source": [
    "dados_venda = np.array([['Lucas','Bia','Jean','Gabi','Pedro'],[150000,230000,82000,143000,184000]])\n",
    "print(dados_venda)"
   ]
  },
  {
   "cell_type": "code",
   "execution_count": null,
   "id": "d6e0a455",
   "metadata": {},
   "outputs": [
    {
     "data": {
      "text/plain": [
       "dtype('<U11')"
      ]
     },
     "execution_count": 27,
     "metadata": {},
     "output_type": "execute_result"
    }
   ],
   "source": [
    "dados_venda.dtype"
   ]
  },
  {
   "cell_type": "markdown",
   "id": "33a5c250",
   "metadata": {},
   "source": [
    "### Podemos buscar elementos em um array"
   ]
  },
  {
   "cell_type": "code",
   "execution_count": null,
   "id": "c6ef0092",
   "metadata": {},
   "outputs": [
    {
     "data": {
      "text/plain": [
       "array([['Lucas', 'Bia', 'Jean', 'Gabi', 'Pedro'],\n",
       "       ['150000', '230000', '82000', '143000', '184000']], dtype='<U11')"
      ]
     },
     "execution_count": 28,
     "metadata": {},
     "output_type": "execute_result"
    }
   ],
   "source": [
    "dados_venda"
   ]
  },
  {
   "cell_type": "code",
   "execution_count": null,
   "id": "64ff0779",
   "metadata": {},
   "outputs": [
    {
     "data": {
      "text/plain": [
       "array(['Lucas', 'Bia', 'Jean', 'Gabi', 'Pedro'], dtype='<U11')"
      ]
     },
     "execution_count": 29,
     "metadata": {},
     "output_type": "execute_result"
    }
   ],
   "source": [
    "# Buscando a primeira linha (lembrando que o Python começa no 0)\n",
    "dados_venda[0]"
   ]
  },
  {
   "cell_type": "code",
   "execution_count": null,
   "id": "240f7034",
   "metadata": {},
   "outputs": [
    {
     "data": {
      "text/plain": [
       "'Bia'"
      ]
     },
     "execution_count": 30,
     "metadata": {},
     "output_type": "execute_result"
    }
   ],
   "source": [
    "# BUscando na primeira linha, a segunda coluna\n",
    "dados_venda[0][1]"
   ]
  },
  {
   "cell_type": "code",
   "execution_count": null,
   "id": "78ae79e1",
   "metadata": {},
   "outputs": [
    {
     "data": {
      "text/plain": [
       "'82000'"
      ]
     },
     "execution_count": 31,
     "metadata": {},
     "output_type": "execute_result"
    }
   ],
   "source": [
    "dados_venda[1][2]"
   ]
  },
  {
   "cell_type": "markdown",
   "id": "106c59e1",
   "metadata": {},
   "source": [
    "### Também podemos mostrar as informações estatísticas de um array"
   ]
  },
  {
   "cell_type": "code",
   "execution_count": null,
   "id": "8d14673d",
   "metadata": {},
   "outputs": [],
   "source": [
    "# Mostrando as informações estatísticas dessa matriz\n",
    "dados_venda = np.array([[150000,230000,82000,143000,184000],[5,8,8,5,12]])"
   ]
  },
  {
   "cell_type": "markdown",
   "id": "233051ad",
   "metadata": {},
   "source": [
    "**Média do array:** <br>\n",
    "<font color=\"blue\">**np.mean(**</font>meu_array<font color=\"blue\">**)**</font>"
   ]
  },
  {
   "cell_type": "code",
   "execution_count": null,
   "id": "f08a1980",
   "metadata": {},
   "outputs": [
    {
     "data": {
      "text/plain": [
       "157800.0"
      ]
     },
     "execution_count": 33,
     "metadata": {},
     "output_type": "execute_result"
    }
   ],
   "source": [
    "# Média da primeira linha\n",
    "np.mean(dados_venda[0])"
   ]
  },
  {
   "cell_type": "code",
   "execution_count": null,
   "id": "bdc9ec89",
   "metadata": {},
   "outputs": [
    {
     "data": {
      "text/plain": [
       "7.6"
      ]
     },
     "execution_count": 34,
     "metadata": {},
     "output_type": "execute_result"
    }
   ],
   "source": [
    "# Média da segunda linha\n",
    "np.mean(dados_venda[1])"
   ]
  },
  {
   "cell_type": "markdown",
   "id": "c9589475",
   "metadata": {},
   "source": [
    "**Mediana:** <br>\n",
    "<font color=\"blue\">**np.median(**</font>meu_array<font color=\"blue\">**)**</font>"
   ]
  },
  {
   "cell_type": "code",
   "execution_count": null,
   "id": "2544661c",
   "metadata": {},
   "outputs": [
    {
     "data": {
      "text/plain": [
       "150000.0"
      ]
     },
     "execution_count": 35,
     "metadata": {},
     "output_type": "execute_result"
    }
   ],
   "source": [
    "# Mediana da primeira linha\n",
    "np.median(dados_venda[0])"
   ]
  },
  {
   "cell_type": "markdown",
   "id": "404ed1d1",
   "metadata": {},
   "source": [
    "**Desvio Padrão:** <br>\n",
    "<font color=\"blue\">**np.std(**</font>meu_array<font color=\"blue\">**)**</font>"
   ]
  },
  {
   "cell_type": "code",
   "execution_count": null,
   "id": "7de8f2ac",
   "metadata": {},
   "outputs": [
    {
     "data": {
      "text/plain": [
       "48836.05225650411"
      ]
     },
     "execution_count": 36,
     "metadata": {},
     "output_type": "execute_result"
    }
   ],
   "source": [
    "# Desvio padrão da primeira linha\n",
    "np.std(dados_venda[0])"
   ]
  },
  {
   "cell_type": "markdown",
   "id": "ecfd9ea6",
   "metadata": {},
   "source": [
    "### E realizar operações aritméticas, agregação, comparação, mínimo e máximo, etc"
   ]
  },
  {
   "cell_type": "code",
   "execution_count": null,
   "id": "bc2e3db6",
   "metadata": {},
   "outputs": [],
   "source": [
    "# Considerando esses 2 arrays\n",
    "array1 = np.array([1,2,3,4,5])\n",
    "array2 = np.array([7,8,9,10,11])"
   ]
  },
  {
   "cell_type": "code",
   "execution_count": null,
   "id": "2ef8e12c",
   "metadata": {},
   "outputs": [
    {
     "data": {
      "text/plain": [
       "array([ 8, 10, 12, 14, 16])"
      ]
     },
     "execution_count": 38,
     "metadata": {},
     "output_type": "execute_result"
    }
   ],
   "source": [
    "# Soma\n",
    "array1 + array2"
   ]
  },
  {
   "cell_type": "code",
   "execution_count": null,
   "id": "efa5b277",
   "metadata": {},
   "outputs": [
    {
     "data": {
      "text/plain": [
       "array([ 2,  4,  6,  8, 10])"
      ]
     },
     "execution_count": 39,
     "metadata": {},
     "output_type": "execute_result"
    }
   ],
   "source": [
    "# Multiplicação por um valor\n",
    "array1 * 2"
   ]
  },
  {
   "cell_type": "code",
   "execution_count": null,
   "id": "f98cd516",
   "metadata": {},
   "outputs": [
    {
     "data": {
      "text/plain": [
       "array([ 7, 16, 27, 40, 55])"
      ]
     },
     "execution_count": 40,
     "metadata": {},
     "output_type": "execute_result"
    }
   ],
   "source": [
    "# Multiplicação de arrays\n",
    "array1 * array2"
   ]
  },
  {
   "cell_type": "code",
   "execution_count": null,
   "id": "23939189",
   "metadata": {},
   "outputs": [
    {
     "data": {
      "text/plain": [
       "array([     7,     64,    729,  10000, 161051])"
      ]
     },
     "execution_count": 41,
     "metadata": {},
     "output_type": "execute_result"
    }
   ],
   "source": [
    "# Potência\n",
    "np.power(array2,array1)"
   ]
  },
  {
   "cell_type": "code",
   "execution_count": null,
   "id": "c9df08a6",
   "metadata": {},
   "outputs": [
    {
     "data": {
      "text/plain": [
       "15"
      ]
     },
     "execution_count": 42,
     "metadata": {},
     "output_type": "execute_result"
    }
   ],
   "source": [
    "# Soma dos valores da primeira linha\n",
    "np.sum(array1)"
   ]
  },
  {
   "cell_type": "code",
   "execution_count": null,
   "id": "9ba009e8",
   "metadata": {},
   "outputs": [
    {
     "data": {
      "text/plain": [
       "array([ 1,  3,  6, 10, 15])"
      ]
     },
     "execution_count": 43,
     "metadata": {},
     "output_type": "execute_result"
    }
   ],
   "source": [
    "# Soma acumulada dos valores da primeira linha\n",
    "np.cumsum(array1)"
   ]
  },
  {
   "cell_type": "code",
   "execution_count": null,
   "id": "375eff77",
   "metadata": {},
   "outputs": [
    {
     "data": {
      "text/plain": [
       "1"
      ]
     },
     "execution_count": 44,
     "metadata": {},
     "output_type": "execute_result"
    }
   ],
   "source": [
    "# Valor mínimo\n",
    "array1.min()"
   ]
  },
  {
   "cell_type": "code",
   "execution_count": null,
   "id": "a8553339",
   "metadata": {},
   "outputs": [
    {
     "data": {
      "text/plain": [
       "5"
      ]
     },
     "execution_count": 45,
     "metadata": {},
     "output_type": "execute_result"
    }
   ],
   "source": [
    "# Valor máximo\n",
    "array1.max()"
   ]
  },
  {
   "cell_type": "markdown",
   "id": "24b10fb8",
   "metadata": {},
   "source": [
    "### <font color=\"blue\">**Tudo isso, vamos relembrar ao falar do Pandas**</font>"
   ]
  },
  {
   "cell_type": "markdown",
   "id": "7fae18cc",
   "metadata": {},
   "source": [
    "### Mais sobre NumPy\n",
    "- Também podemos usar o NumPy para criar arrays de valores constantes, criar tipos específicos de matrizes (como matriz identidade), fazer produto matricial, transposta, etc\n",
    "- Não vamos focar nisso agora para podermos aprofundar no pandas"
   ]
  }
 ],
 "metadata": {
  "kernelspec": {
   "display_name": "Python 3 (ipykernel)",
   "language": "python",
   "name": "python3"
  },
  "language_info": {
   "codemirror_mode": {
    "name": "ipython",
    "version": 3
   },
   "file_extension": ".py",
   "mimetype": "text/x-python",
   "name": "python",
   "nbconvert_exporter": "python",
   "pygments_lexer": "ipython3",
   "version": "3.11.3"
  }
 },
 "nbformat": 4,
 "nbformat_minor": 5
}
